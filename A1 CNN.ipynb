{
 "cells": [
  {
   "cell_type": "markdown",
   "metadata": {},
   "source": [
    "# Import libraries"
   ]
  },
  {
   "cell_type": "code",
   "execution_count": 1,
   "metadata": {},
   "outputs": [],
   "source": [
    "import numpy as np\n",
    "from tqdm import tqdm\n",
    "import pandas as pd\n",
    "import cv2\n",
    "import os\n",
    "\n",
    "from sklearn import datasets\n",
    "from sklearn import preprocessing\n",
    "from sklearn.model_selection import train_test_split\n",
    "from sklearn.preprocessing import MinMaxScaler\n",
    "from sklearn.model_selection import train_test_split\n",
    "from sklearn.linear_model import LogisticRegression\n",
    "from sklearn.metrics import confusion_matrix, classification_report,accuracy_score\n",
    "\n",
    "import keras\n",
    "from keras.models import Sequential\n",
    "from keras.layers import Dense, Dropout, Flatten\n",
    "from keras.layers import Conv2D, MaxPooling2D\n",
    "from keras.utils import to_categorical\n",
    "from keras.preprocessing import image\n",
    "from keras.models import Sequential\n",
    "from keras.layers import Dense, Dropout, Conv2D, MaxPool2D\n",
    "from keras.utils import np_utils\n",
    "from keras.layers.normalization import BatchNormalization\n",
    "from tensorflow.keras.callbacks import EarlyStopping\n",
    "\n",
    "import matplotlib.pyplot as plt\n",
    "from sklearn.datasets import load_iris\n",
    "from sklearn.model_selection import train_test_split\n"
   ]
  },
  {
   "cell_type": "markdown",
   "metadata": {},
   "source": [
    "# Read dataset"
   ]
  },
  {
   "cell_type": "code",
   "execution_count": 2,
   "metadata": {},
   "outputs": [
    {
     "name": "stdout",
     "output_type": "stream",
     "text": [
      "/Users/mel/Documents/MRes/Machine Learning/Assignment/AMLS_20-21_SN12345678/A1\n",
      "/Users/mel/Documents/MRes/Machine Learning/Assignment/AMLS_20-21_SN12345678\n"
     ]
    },
    {
     "data": {
      "text/html": [
       "<div>\n",
       "<style scoped>\n",
       "    .dataframe tbody tr th:only-of-type {\n",
       "        vertical-align: middle;\n",
       "    }\n",
       "\n",
       "    .dataframe tbody tr th {\n",
       "        vertical-align: top;\n",
       "    }\n",
       "\n",
       "    .dataframe thead th {\n",
       "        text-align: right;\n",
       "    }\n",
       "</style>\n",
       "<table border=\"1\" class=\"dataframe\">\n",
       "  <thead>\n",
       "    <tr style=\"text-align: right;\">\n",
       "      <th></th>\n",
       "      <th>img_name</th>\n",
       "      <th>gender</th>\n",
       "      <th>smiling</th>\n",
       "    </tr>\n",
       "  </thead>\n",
       "  <tbody>\n",
       "    <tr>\n",
       "      <th>0</th>\n",
       "      <td>0.jpg</td>\n",
       "      <td>-1</td>\n",
       "      <td>1</td>\n",
       "    </tr>\n",
       "    <tr>\n",
       "      <th>1</th>\n",
       "      <td>1.jpg</td>\n",
       "      <td>-1</td>\n",
       "      <td>1</td>\n",
       "    </tr>\n",
       "    <tr>\n",
       "      <th>2</th>\n",
       "      <td>2.jpg</td>\n",
       "      <td>1</td>\n",
       "      <td>-1</td>\n",
       "    </tr>\n",
       "    <tr>\n",
       "      <th>3</th>\n",
       "      <td>3.jpg</td>\n",
       "      <td>-1</td>\n",
       "      <td>-1</td>\n",
       "    </tr>\n",
       "    <tr>\n",
       "      <th>4</th>\n",
       "      <td>4.jpg</td>\n",
       "      <td>-1</td>\n",
       "      <td>-1</td>\n",
       "    </tr>\n",
       "  </tbody>\n",
       "</table>\n",
       "</div>"
      ],
      "text/plain": [
       "  img_name  gender  smiling\n",
       "0    0.jpg      -1        1\n",
       "1    1.jpg      -1        1\n",
       "2    2.jpg       1       -1\n",
       "3    3.jpg      -1       -1\n",
       "4    4.jpg      -1       -1"
      ]
     },
     "execution_count": 2,
     "metadata": {},
     "output_type": "execute_result"
    }
   ],
   "source": [
    "p = os.getcwd()\n",
    "print(p)\n",
    "\n",
    "os.chdir(\"..\")\n",
    "d = os.getcwd()\n",
    "print(d)\n",
    "\n",
    "dirname = os.path.dirname(d)\n",
    "csvfile = os.path.join(d, 'datasets/celeba/labels.csv')\n",
    "dirname = os.path.dirname(d)\n",
    "imgfile = os.path.join(d, 'datasets/celeba/img/')\n",
    "\n",
    "\n",
    "#Use Pandas to read csv file\n",
    "dataset = pd.read_csv(csvfile, sep='\\\\t', engine='python')\n",
    "dataset.head()"
   ]
  },
  {
   "cell_type": "markdown",
   "metadata": {},
   "source": [
    "# Preprocess data"
   ]
  },
  {
   "cell_type": "code",
   "execution_count": 3,
   "metadata": {},
   "outputs": [
    {
     "name": "stderr",
     "output_type": "stream",
     "text": [
      "100%|██████████| 5000/5000 [00:33<00:00, 148.24it/s]\n"
     ]
    }
   ],
   "source": [
    "#Image size is loaded as 50% initial size\n",
    "dataset_image = []\n",
    "for i in tqdm(range(dataset.shape[0])):\n",
    "    img = image.load_img(imgfile+dataset['img_name'][i], target_size=(109,89))\n",
    "    img = img.convert('L')\n",
    "    img = image.img_to_array(img)\n",
    "    img = img/255\n",
    "\n",
    "    dataset_image.append(img)"
   ]
  },
  {
   "cell_type": "code",
   "execution_count": 4,
   "metadata": {},
   "outputs": [],
   "source": [
    "# Label x and y data\n",
    "x = np.array(dataset_image)\n",
    "y = np.array(dataset['gender']+1)/2"
   ]
  },
  {
   "cell_type": "code",
   "execution_count": 5,
   "metadata": {},
   "outputs": [],
   "source": [
    "# Split the data into training and testing(75% training and 25% testing data)\n",
    "x_train, x_test, y_train, y_test = train_test_split(x, y,shuffle=False,random_state=0)"
   ]
  },
  {
   "cell_type": "code",
   "execution_count": 6,
   "metadata": {},
   "outputs": [
    {
     "data": {
      "text/plain": [
       "(5000, 109, 89, 1)"
      ]
     },
     "execution_count": 6,
     "metadata": {},
     "output_type": "execute_result"
    }
   ],
   "source": [
    "x.shape"
   ]
  },
  {
   "cell_type": "code",
   "execution_count": 7,
   "metadata": {},
   "outputs": [],
   "source": [
    "#Change data type to 'float32'\n",
    "x_train = x_train.astype('float32')\n",
    "x_test = x_test.astype('float32')"
   ]
  },
  {
   "cell_type": "markdown",
   "metadata": {},
   "source": [
    "# Optimise batch size"
   ]
  },
  {
   "cell_type": "code",
   "execution_count": 8,
   "metadata": {},
   "outputs": [
    {
     "name": "stdout",
     "output_type": "stream",
     "text": [
      "Epoch 1/50\n",
      "30/30 [==============================] - 42s 1s/step - loss: 0.6218 - accuracy: 0.6757 - val_loss: 3.2613 - val_accuracy: 0.2632\n",
      "Epoch 2/50\n",
      "30/30 [==============================] - 40s 1s/step - loss: 0.4588 - accuracy: 0.7941 - val_loss: 0.3691 - val_accuracy: 0.8168\n",
      "Epoch 3/50\n",
      "30/30 [==============================] - 40s 1s/step - loss: 0.2151 - accuracy: 0.9163 - val_loss: 0.3735 - val_accuracy: 0.7848\n",
      "Epoch 4/50\n",
      "30/30 [==============================] - 37s 1s/step - loss: 0.0885 - accuracy: 0.9749 - val_loss: 0.3671 - val_accuracy: 0.7896\n",
      "Epoch 5/50\n",
      "30/30 [==============================] - 41s 1s/step - loss: 0.0402 - accuracy: 0.9955 - val_loss: 0.3154 - val_accuracy: 0.9104\n",
      "Epoch 6/50\n",
      "30/30 [==============================] - 36s 1s/step - loss: 0.0209 - accuracy: 0.9997 - val_loss: 0.3068 - val_accuracy: 0.9168\n",
      "Epoch 7/50\n",
      "30/30 [==============================] - 35s 1s/step - loss: 0.0135 - accuracy: 0.9997 - val_loss: 0.2971 - val_accuracy: 0.9120\n",
      "Epoch 8/50\n",
      "30/30 [==============================] - 38s 1s/step - loss: 0.0076 - accuracy: 1.0000 - val_loss: 0.3517 - val_accuracy: 0.8600\n",
      "Epoch 9/50\n",
      "30/30 [==============================] - 37s 1s/step - loss: 0.0063 - accuracy: 1.0000 - val_loss: 0.7376 - val_accuracy: 0.5992\n",
      "Epoch 10/50\n",
      "30/30 [==============================] - 36s 1s/step - loss: 0.0052 - accuracy: 1.0000 - val_loss: 0.6719 - val_accuracy: 0.6544\n",
      "Epoch 11/50\n",
      "30/30 [==============================] - 35s 1s/step - loss: 0.0033 - accuracy: 1.0000 - val_loss: 0.5455 - val_accuracy: 0.7256\n",
      "Epoch 12/50\n",
      "30/30 [==============================] - 37s 1s/step - loss: 0.0030 - accuracy: 1.0000 - val_loss: 0.4600 - val_accuracy: 0.7840\n",
      "Epoch 13/50\n",
      "30/30 [==============================] - 35s 1s/step - loss: 0.0028 - accuracy: 1.0000 - val_loss: 0.4557 - val_accuracy: 0.7920\n",
      "Epoch 14/50\n",
      "30/30 [==============================] - 35s 1s/step - loss: 0.0020 - accuracy: 1.0000 - val_loss: 0.3699 - val_accuracy: 0.8432\n",
      "Epoch 15/50\n",
      "30/30 [==============================] - 37s 1s/step - loss: 0.0019 - accuracy: 1.0000 - val_loss: 0.3571 - val_accuracy: 0.8488\n",
      "Epoch 16/50\n",
      "30/30 [==============================] - 36s 1s/step - loss: 0.0017 - accuracy: 1.0000 - val_loss: 0.3588 - val_accuracy: 0.8504\n",
      "Epoch 17/50\n",
      "30/30 [==============================] - 36s 1s/step - loss: 0.0014 - accuracy: 1.0000 - val_loss: 0.3140 - val_accuracy: 0.8736\n",
      "Epoch 00017: early stopping\n"
     ]
    },
    {
     "data": {
      "text/plain": [
       "<tensorflow.python.keras.callbacks.History at 0x173a12340>"
      ]
     },
     "execution_count": 8,
     "metadata": {},
     "output_type": "execute_result"
    }
   ],
   "source": [
    "#Evaluate batch size 128\n",
    "\n",
    "# building a linear stack of layers with the sequential model\n",
    "model = Sequential()\n",
    "# convolutional layer\n",
    "model.add(Conv2D(25, kernel_size=(3,3), strides=(1,1), padding='valid', activation='relu', input_shape=(109,89,1)))\n",
    "model.add(MaxPool2D(pool_size=(1,1)))\n",
    "# flatten output of conv\n",
    "model.add(Flatten())\n",
    "# hidden layer\n",
    "model.add(Dense(100, activation='relu'))\n",
    "model.add(BatchNormalization())\n",
    "model.add(Dropout(0.1))\n",
    "# output layer\n",
    "model.add(Dense(1, activation='sigmoid'))\n",
    "\n",
    "# compiling the sequential model\n",
    "model.compile(loss='binary_crossentropy', metrics=['accuracy'], optimizer='adam')\n",
    "es = EarlyStopping(monitor='val_loss', mode='min', verbose=1, patience=10)\n",
    "\n",
    "# training the model for 10 epochs\n",
    "model.fit(x_train, y_train, batch_size=128, epochs=50, validation_data=(x_test, y_test), callbacks=[es])"
   ]
  },
  {
   "cell_type": "code",
   "execution_count": 9,
   "metadata": {},
   "outputs": [
    {
     "name": "stdout",
     "output_type": "stream",
     "text": [
      "Epoch 1/50\n",
      "59/59 [==============================] - 42s 704ms/step - loss: 0.5054 - accuracy: 0.7523 - val_loss: 0.7707 - val_accuracy: 0.7536\n",
      "Epoch 2/50\n",
      "59/59 [==============================] - 40s 679ms/step - loss: 0.1704 - accuracy: 0.9325 - val_loss: 0.5568 - val_accuracy: 0.7096\n",
      "Epoch 3/50\n",
      "59/59 [==============================] - 38s 646ms/step - loss: 0.0512 - accuracy: 0.9835 - val_loss: 0.4568 - val_accuracy: 0.8224\n",
      "Epoch 4/50\n",
      "59/59 [==============================] - 39s 653ms/step - loss: 0.0193 - accuracy: 0.9981 - val_loss: 0.3487 - val_accuracy: 0.8368\n",
      "Epoch 5/50\n",
      "59/59 [==============================] - 39s 659ms/step - loss: 0.0123 - accuracy: 0.9989 - val_loss: 0.2286 - val_accuracy: 0.9136\n",
      "Epoch 6/50\n",
      "59/59 [==============================] - 39s 662ms/step - loss: 0.0045 - accuracy: 1.0000 - val_loss: 0.3346 - val_accuracy: 0.8936\n",
      "Epoch 7/50\n",
      "59/59 [==============================] - 44s 738ms/step - loss: 0.0036 - accuracy: 0.9995 - val_loss: 0.4559 - val_accuracy: 0.8344\n",
      "Epoch 8/50\n",
      "59/59 [==============================] - 40s 679ms/step - loss: 0.0017 - accuracy: 1.0000 - val_loss: 0.3782 - val_accuracy: 0.8712\n",
      "Epoch 9/50\n",
      "59/59 [==============================] - 38s 638ms/step - loss: 0.0013 - accuracy: 1.0000 - val_loss: 0.4825 - val_accuracy: 0.8496\n",
      "Epoch 10/50\n",
      "59/59 [==============================] - 39s 653ms/step - loss: 8.3321e-04 - accuracy: 1.0000 - val_loss: 0.4185 - val_accuracy: 0.8672\n",
      "Epoch 11/50\n",
      "59/59 [==============================] - 41s 696ms/step - loss: 6.8808e-04 - accuracy: 1.0000 - val_loss: 0.3901 - val_accuracy: 0.8720\n",
      "Epoch 12/50\n",
      "59/59 [==============================] - 40s 670ms/step - loss: 4.8199e-04 - accuracy: 1.0000 - val_loss: 0.4218 - val_accuracy: 0.8680\n",
      "Epoch 13/50\n",
      "59/59 [==============================] - 39s 664ms/step - loss: 6.5201e-04 - accuracy: 1.0000 - val_loss: 0.3525 - val_accuracy: 0.9048\n",
      "Epoch 14/50\n",
      "59/59 [==============================] - 38s 651ms/step - loss: 7.2888e-04 - accuracy: 1.0000 - val_loss: 0.9964 - val_accuracy: 0.7696\n",
      "Epoch 15/50\n",
      "59/59 [==============================] - 39s 653ms/step - loss: 4.6340e-04 - accuracy: 1.0000 - val_loss: 0.4566 - val_accuracy: 0.8704\n",
      "Epoch 00015: early stopping\n"
     ]
    },
    {
     "data": {
      "text/plain": [
       "<tensorflow.python.keras.callbacks.History at 0x10cae91f0>"
      ]
     },
     "execution_count": 9,
     "metadata": {},
     "output_type": "execute_result"
    }
   ],
   "source": [
    "#Evaluate batch size 64\n",
    "\n",
    "# building a linear stack of layers with the sequential model\n",
    "model = Sequential()\n",
    "# convolutional layer\n",
    "model.add(Conv2D(25, kernel_size=(3,3), strides=(1,1), padding='valid', activation='relu', input_shape=(109,89,1)))\n",
    "model.add(MaxPool2D(pool_size=(1,1)))\n",
    "# flatten output of conv\n",
    "model.add(Flatten())\n",
    "# hidden layer\n",
    "model.add(Dense(100, activation='relu'))\n",
    "model.add(BatchNormalization())\n",
    "model.add(Dropout(0.1))\n",
    "# output layer\n",
    "model.add(Dense(1, activation='sigmoid'))\n",
    "\n",
    "# compiling the sequential model\n",
    "model.compile(loss='binary_crossentropy', metrics=['accuracy'], optimizer='adam')\n",
    "es = EarlyStopping(monitor='val_loss', mode='min', verbose=1, patience=10)\n",
    "\n",
    "# training the model for 10 epochs\n",
    "model.fit(x_train, y_train, batch_size=64, epochs=50, validation_data=(x_test, y_test), callbacks=[es])"
   ]
  },
  {
   "cell_type": "code",
   "execution_count": 8,
   "metadata": {},
   "outputs": [
    {
     "name": "stdout",
     "output_type": "stream",
     "text": [
      "Epoch 1/100\n",
      "15/15 [==============================] - 22s 1s/step - loss: 1.3140 - accuracy: 0.5352 - val_loss: 2.3454 - val_accuracy: 0.7448\n",
      "Epoch 2/100\n",
      "15/15 [==============================] - 22s 1s/step - loss: 0.8083 - accuracy: 0.5907 - val_loss: 0.5535 - val_accuracy: 0.7896\n",
      "Epoch 3/100\n",
      "15/15 [==============================] - 22s 1s/step - loss: 0.4890 - accuracy: 0.7653 - val_loss: 1.0262 - val_accuracy: 0.7504\n",
      "Epoch 4/100\n",
      "15/15 [==============================] - 23s 2s/step - loss: 0.2583 - accuracy: 0.9037 - val_loss: 1.3035 - val_accuracy: 0.7504\n",
      "Epoch 5/100\n",
      "15/15 [==============================] - 22s 1s/step - loss: 0.1338 - accuracy: 0.9600 - val_loss: 1.6952 - val_accuracy: 0.7504\n",
      "Epoch 6/100\n",
      "15/15 [==============================] - 22s 1s/step - loss: 0.0852 - accuracy: 0.9840 - val_loss: 1.3164 - val_accuracy: 0.7504\n",
      "Epoch 7/100\n",
      "15/15 [==============================] - 22s 1s/step - loss: 0.0478 - accuracy: 0.9965 - val_loss: 0.7651 - val_accuracy: 0.7504\n",
      "Epoch 8/100\n",
      "15/15 [==============================] - 22s 1s/step - loss: 0.0316 - accuracy: 0.9995 - val_loss: 0.4727 - val_accuracy: 0.7624\n",
      "Epoch 9/100\n",
      "15/15 [==============================] - 22s 1s/step - loss: 0.0237 - accuracy: 0.9997 - val_loss: 0.5841 - val_accuracy: 0.7528\n",
      "Epoch 10/100\n",
      "15/15 [==============================] - 22s 1s/step - loss: 0.0174 - accuracy: 1.0000 - val_loss: 0.4330 - val_accuracy: 0.7728\n",
      "Epoch 11/100\n",
      "15/15 [==============================] - 22s 1s/step - loss: 0.0145 - accuracy: 1.0000 - val_loss: 0.3489 - val_accuracy: 0.8120\n",
      "Epoch 12/100\n",
      "15/15 [==============================] - 22s 1s/step - loss: 0.0116 - accuracy: 1.0000 - val_loss: 0.2907 - val_accuracy: 0.8736\n",
      "Epoch 13/100\n",
      "15/15 [==============================] - 22s 1s/step - loss: 0.0102 - accuracy: 1.0000 - val_loss: 0.2773 - val_accuracy: 0.9168\n",
      "Epoch 14/100\n",
      "15/15 [==============================] - 22s 1s/step - loss: 0.0090 - accuracy: 1.0000 - val_loss: 0.2990 - val_accuracy: 0.9104\n",
      "Epoch 15/100\n",
      "15/15 [==============================] - 22s 1s/step - loss: 0.0081 - accuracy: 1.0000 - val_loss: 0.3635 - val_accuracy: 0.8512\n",
      "Epoch 16/100\n",
      "15/15 [==============================] - 23s 2s/step - loss: 0.0070 - accuracy: 1.0000 - val_loss: 0.4087 - val_accuracy: 0.8128\n",
      "Epoch 17/100\n",
      "15/15 [==============================] - 22s 1s/step - loss: 0.0065 - accuracy: 1.0000 - val_loss: 0.4750 - val_accuracy: 0.7632\n",
      "Epoch 18/100\n",
      "15/15 [==============================] - 22s 1s/step - loss: 0.0058 - accuracy: 1.0000 - val_loss: 0.6149 - val_accuracy: 0.6696\n",
      "Epoch 19/100\n",
      "15/15 [==============================] - 22s 1s/step - loss: 0.0051 - accuracy: 1.0000 - val_loss: 0.6879 - val_accuracy: 0.6360\n",
      "Epoch 20/100\n",
      "15/15 [==============================] - 22s 1s/step - loss: 0.0050 - accuracy: 1.0000 - val_loss: 0.6979 - val_accuracy: 0.6368\n",
      "Epoch 21/100\n",
      "15/15 [==============================] - 22s 1s/step - loss: 0.0045 - accuracy: 1.0000 - val_loss: 0.8013 - val_accuracy: 0.5928\n",
      "Epoch 22/100\n",
      "15/15 [==============================] - 22s 1s/step - loss: 0.0043 - accuracy: 1.0000 - val_loss: 0.8077 - val_accuracy: 0.6000\n",
      "Epoch 23/100\n",
      "15/15 [==============================] - 22s 1s/step - loss: 0.0040 - accuracy: 1.0000 - val_loss: 0.8442 - val_accuracy: 0.5976\n",
      "Epoch 24/100\n",
      "15/15 [==============================] - 22s 1s/step - loss: 0.0035 - accuracy: 1.0000 - val_loss: 0.8786 - val_accuracy: 0.5896\n",
      "Epoch 25/100\n",
      "15/15 [==============================] - 22s 1s/step - loss: 0.0032 - accuracy: 1.0000 - val_loss: 0.9474 - val_accuracy: 0.5712\n",
      "Epoch 26/100\n",
      "15/15 [==============================] - 22s 1s/step - loss: 0.0028 - accuracy: 1.0000 - val_loss: 0.9099 - val_accuracy: 0.5992\n",
      "Epoch 27/100\n",
      "15/15 [==============================] - 22s 1s/step - loss: 0.0030 - accuracy: 1.0000 - val_loss: 0.8708 - val_accuracy: 0.6248\n",
      "Epoch 28/100\n",
      "15/15 [==============================] - 22s 1s/step - loss: 0.0027 - accuracy: 1.0000 - val_loss: 0.8763 - val_accuracy: 0.6272\n",
      "Epoch 29/100\n",
      "15/15 [==============================] - 24s 2s/step - loss: 0.0026 - accuracy: 1.0000 - val_loss: 0.9212 - val_accuracy: 0.6208\n",
      "Epoch 30/100\n",
      "15/15 [==============================] - 22s 1s/step - loss: 0.0023 - accuracy: 1.0000 - val_loss: 0.8393 - val_accuracy: 0.6488\n",
      "Epoch 31/100\n",
      "15/15 [==============================] - 22s 1s/step - loss: 0.0024 - accuracy: 1.0000 - val_loss: 0.8329 - val_accuracy: 0.6576\n",
      "Epoch 32/100\n",
      "15/15 [==============================] - 22s 1s/step - loss: 0.0022 - accuracy: 1.0000 - val_loss: 0.8151 - val_accuracy: 0.6680\n",
      "Epoch 33/100\n",
      "15/15 [==============================] - 22s 1s/step - loss: 0.0020 - accuracy: 1.0000 - val_loss: 0.8352 - val_accuracy: 0.6680\n",
      "Epoch 00033: early stopping\n"
     ]
    },
    {
     "data": {
      "text/plain": [
       "<tensorflow.python.keras.callbacks.History at 0x16b250190>"
      ]
     },
     "execution_count": 8,
     "metadata": {},
     "output_type": "execute_result"
    }
   ],
   "source": [
    "#Evaluate batch size 256\n",
    "\n",
    "# building a linear stack of layers with the sequential model\n",
    "model = Sequential()\n",
    "# convolutional layer\n",
    "model.add(Conv2D(25, kernel_size=(3,3), strides=(1,1), padding='valid', activation='relu', input_shape=(109,89,1)))\n",
    "model.add(MaxPool2D(pool_size=(1,1)))\n",
    "# flatten output of conv\n",
    "model.add(Flatten())\n",
    "# hidden layer\n",
    "model.add(Dense(100, activation='relu'))\n",
    "model.add(BatchNormalization())\n",
    "model.add(Dropout(0.1))\n",
    "# output layer\n",
    "model.add(Dense(1, activation='sigmoid'))\n",
    "\n",
    "# compiling the sequential model\n",
    "model.compile(loss='binary_crossentropy', metrics=['accuracy'], optimizer='adam')\n",
    "es = EarlyStopping(monitor='val_loss', mode='min', verbose=1, patience=20)\n",
    "\n",
    "# training the model for 10 epochs\n",
    "model.fit(x_train, y_train, batch_size=256, epochs=100, validation_data=(x_test, y_test), callbacks=[es])"
   ]
  },
  {
   "cell_type": "code",
   "execution_count": null,
   "metadata": {},
   "outputs": [],
   "source": [
    "#Batch size of 128 achieves the highest accuracy so is selected"
   ]
  },
  {
   "cell_type": "markdown",
   "metadata": {},
   "source": [
    "# Optimise optimiser"
   ]
  },
  {
   "cell_type": "code",
   "execution_count": 9,
   "metadata": {},
   "outputs": [
    {
     "name": "stdout",
     "output_type": "stream",
     "text": [
      "Epoch 1/100\n",
      "30/30 [==============================] - 20s 660ms/step - loss: 0.6144 - accuracy: 0.7037 - val_loss: 0.6674 - val_accuracy: 0.5720\n",
      "Epoch 2/100\n",
      "30/30 [==============================] - 19s 649ms/step - loss: 0.4642 - accuracy: 0.7904 - val_loss: 0.8179 - val_accuracy: 0.3680\n",
      "Epoch 3/100\n",
      "30/30 [==============================] - 20s 655ms/step - loss: 0.4237 - accuracy: 0.8256 - val_loss: 0.5313 - val_accuracy: 0.7120\n",
      "Epoch 4/100\n",
      "30/30 [==============================] - 20s 658ms/step - loss: 0.3962 - accuracy: 0.8387 - val_loss: 0.5972 - val_accuracy: 0.6992\n",
      "Epoch 5/100\n",
      "30/30 [==============================] - 20s 655ms/step - loss: 0.3498 - accuracy: 0.8600 - val_loss: 0.6395 - val_accuracy: 0.5936\n",
      "Epoch 6/100\n",
      "30/30 [==============================] - 20s 680ms/step - loss: 0.3203 - accuracy: 0.8699 - val_loss: 0.4132 - val_accuracy: 0.8576\n",
      "Epoch 7/100\n",
      "30/30 [==============================] - 20s 652ms/step - loss: 0.2577 - accuracy: 0.9053 - val_loss: 0.4880 - val_accuracy: 0.8720\n",
      "Epoch 8/100\n",
      "30/30 [==============================] - 20s 653ms/step - loss: 0.2205 - accuracy: 0.9192 - val_loss: 0.4625 - val_accuracy: 0.9024\n",
      "Epoch 9/100\n",
      "30/30 [==============================] - 20s 658ms/step - loss: 0.1747 - accuracy: 0.9397 - val_loss: 0.4085 - val_accuracy: 0.9064\n",
      "Epoch 10/100\n",
      "30/30 [==============================] - 20s 654ms/step - loss: 0.1288 - accuracy: 0.9616 - val_loss: 0.4873 - val_accuracy: 0.8264\n",
      "Epoch 11/100\n",
      "30/30 [==============================] - 20s 653ms/step - loss: 0.1089 - accuracy: 0.9728 - val_loss: 0.3626 - val_accuracy: 0.8896\n",
      "Epoch 12/100\n",
      "30/30 [==============================] - 21s 687ms/step - loss: 0.0871 - accuracy: 0.9845 - val_loss: 0.7625 - val_accuracy: 0.4696\n",
      "Epoch 13/100\n",
      "30/30 [==============================] - 20s 657ms/step - loss: 0.0740 - accuracy: 0.9896 - val_loss: 0.3903 - val_accuracy: 0.8656\n",
      "Epoch 14/100\n",
      "30/30 [==============================] - 20s 653ms/step - loss: 0.0585 - accuracy: 0.9944 - val_loss: 0.3205 - val_accuracy: 0.9000\n",
      "Epoch 15/100\n",
      "30/30 [==============================] - 20s 655ms/step - loss: 0.0506 - accuracy: 0.9963 - val_loss: 0.3552 - val_accuracy: 0.8624\n",
      "Epoch 16/100\n",
      "30/30 [==============================] - 20s 662ms/step - loss: 0.0394 - accuracy: 0.9984 - val_loss: 0.2497 - val_accuracy: 0.9152\n",
      "Epoch 17/100\n",
      "30/30 [==============================] - 20s 670ms/step - loss: 0.0345 - accuracy: 0.9984 - val_loss: 0.3569 - val_accuracy: 0.8440\n",
      "Epoch 18/100\n",
      "30/30 [==============================] - 20s 651ms/step - loss: 0.0308 - accuracy: 0.9995 - val_loss: 0.3197 - val_accuracy: 0.8592\n",
      "Epoch 19/100\n",
      "30/30 [==============================] - 19s 650ms/step - loss: 0.0274 - accuracy: 0.9997 - val_loss: 0.5837 - val_accuracy: 0.7168\n",
      "Epoch 20/100\n",
      "30/30 [==============================] - 19s 646ms/step - loss: 0.0262 - accuracy: 0.9995 - val_loss: 0.2178 - val_accuracy: 0.9144\n",
      "Epoch 21/100\n",
      "30/30 [==============================] - 20s 662ms/step - loss: 0.0211 - accuracy: 0.9995 - val_loss: 0.2196 - val_accuracy: 0.9192\n",
      "Epoch 22/100\n",
      "30/30 [==============================] - 20s 654ms/step - loss: 0.0202 - accuracy: 0.9997 - val_loss: 0.2516 - val_accuracy: 0.8888\n",
      "Epoch 23/100\n",
      "30/30 [==============================] - 20s 674ms/step - loss: 0.0190 - accuracy: 0.9997 - val_loss: 0.5406 - val_accuracy: 0.7472\n",
      "Epoch 24/100\n",
      "30/30 [==============================] - 20s 661ms/step - loss: 0.0205 - accuracy: 0.9995 - val_loss: 0.2841 - val_accuracy: 0.8992\n",
      "Epoch 25/100\n",
      "30/30 [==============================] - 19s 649ms/step - loss: 0.0144 - accuracy: 1.0000 - val_loss: 0.2550 - val_accuracy: 0.8920\n",
      "Epoch 26/100\n",
      "30/30 [==============================] - 20s 663ms/step - loss: 0.0144 - accuracy: 1.0000 - val_loss: 0.2225 - val_accuracy: 0.9192\n",
      "Epoch 27/100\n",
      "30/30 [==============================] - 20s 655ms/step - loss: 0.0147 - accuracy: 1.0000 - val_loss: 0.3002 - val_accuracy: 0.8720\n",
      "Epoch 28/100\n",
      "30/30 [==============================] - 20s 656ms/step - loss: 0.0111 - accuracy: 1.0000 - val_loss: 0.3214 - val_accuracy: 0.8632\n",
      "Epoch 29/100\n",
      "30/30 [==============================] - 20s 673ms/step - loss: 0.0106 - accuracy: 1.0000 - val_loss: 0.3251 - val_accuracy: 0.8664\n",
      "Epoch 30/100\n",
      "30/30 [==============================] - 20s 664ms/step - loss: 0.0113 - accuracy: 1.0000 - val_loss: 0.2392 - val_accuracy: 0.9096\n",
      "Epoch 00030: early stopping\n"
     ]
    },
    {
     "data": {
      "text/plain": [
       "<tensorflow.python.keras.callbacks.History at 0x104298e80>"
      ]
     },
     "execution_count": 9,
     "metadata": {},
     "output_type": "execute_result"
    }
   ],
   "source": [
    "#Evaluate 'SGD' optimiser\n",
    "\n",
    "# building a linear stack of layers with the sequential model\n",
    "model = Sequential()\n",
    "# convolutional layer\n",
    "model.add(Conv2D(25, kernel_size=(3,3), strides=(1,1), padding='valid', activation='relu', input_shape=(109,89,1)))\n",
    "model.add(MaxPool2D(pool_size=(1,1)))\n",
    "# flatten output of conv\n",
    "model.add(Flatten())\n",
    "# hidden layer\n",
    "model.add(Dense(100, activation='relu'))\n",
    "model.add(BatchNormalization())\n",
    "# output layer\n",
    "model.add(Dense(1, activation='sigmoid'))\n",
    "\n",
    "# compiling the sequential model\n",
    "model.compile(loss='binary_crossentropy', metrics=['accuracy'], optimizer='SGD')\n",
    "es = EarlyStopping(monitor='val_loss', mode='min', verbose=1, patience=10)\n",
    "\n",
    "# training the model for 10 epochs\n",
    "model.fit(x_train, y_train, batch_size=128, epochs=100, validation_data=(x_test, y_test), callbacks=[es])"
   ]
  },
  {
   "cell_type": "code",
   "execution_count": 10,
   "metadata": {},
   "outputs": [
    {
     "name": "stdout",
     "output_type": "stream",
     "text": [
      "Epoch 1/100\n",
      "30/30 [==============================] - 22s 740ms/step - loss: 0.5887 - accuracy: 0.6960 - val_loss: 0.6273 - val_accuracy: 0.6616\n",
      "Epoch 2/100\n",
      "30/30 [==============================] - 22s 732ms/step - loss: 0.3004 - accuracy: 0.8819 - val_loss: 0.7787 - val_accuracy: 0.4784\n",
      "Epoch 3/100\n",
      "30/30 [==============================] - 23s 769ms/step - loss: 0.1451 - accuracy: 0.9501 - val_loss: 0.4362 - val_accuracy: 0.7728\n",
      "Epoch 4/100\n",
      "30/30 [==============================] - 23s 761ms/step - loss: 0.0570 - accuracy: 0.9885 - val_loss: 0.2898 - val_accuracy: 0.8752\n",
      "Epoch 5/100\n",
      "30/30 [==============================] - 22s 741ms/step - loss: 0.0375 - accuracy: 0.9955 - val_loss: 0.7086 - val_accuracy: 0.5680\n",
      "Epoch 6/100\n",
      "30/30 [==============================] - 22s 750ms/step - loss: 0.0210 - accuracy: 0.9995 - val_loss: 1.5434 - val_accuracy: 0.3480\n",
      "Epoch 7/100\n",
      "30/30 [==============================] - 22s 745ms/step - loss: 0.0283 - accuracy: 0.9992 - val_loss: 1.2762 - val_accuracy: 0.3504\n",
      "Epoch 8/100\n",
      "30/30 [==============================] - 22s 741ms/step - loss: 0.0273 - accuracy: 0.9995 - val_loss: 0.4168 - val_accuracy: 0.8072\n",
      "Epoch 9/100\n",
      "30/30 [==============================] - 22s 745ms/step - loss: 0.0259 - accuracy: 1.0000 - val_loss: 0.5484 - val_accuracy: 0.7320\n",
      "Epoch 10/100\n",
      "30/30 [==============================] - 23s 752ms/step - loss: 0.0100 - accuracy: 0.9997 - val_loss: 1.5544 - val_accuracy: 0.4272\n",
      "Epoch 11/100\n",
      "30/30 [==============================] - 22s 737ms/step - loss: 0.0061 - accuracy: 1.0000 - val_loss: 0.8766 - val_accuracy: 0.6376\n",
      "Epoch 12/100\n",
      "30/30 [==============================] - 22s 738ms/step - loss: 0.0041 - accuracy: 1.0000 - val_loss: 0.2524 - val_accuracy: 0.8992\n",
      "Epoch 13/100\n",
      "30/30 [==============================] - 22s 739ms/step - loss: 0.0054 - accuracy: 0.9997 - val_loss: 0.2504 - val_accuracy: 0.9152\n",
      "Epoch 14/100\n",
      "30/30 [==============================] - 22s 741ms/step - loss: 0.0014 - accuracy: 1.0000 - val_loss: 0.5287 - val_accuracy: 0.8192\n",
      "Epoch 15/100\n",
      "30/30 [==============================] - 23s 755ms/step - loss: 0.0018 - accuracy: 0.9997 - val_loss: 0.6268 - val_accuracy: 0.8056\n",
      "Epoch 16/100\n",
      "30/30 [==============================] - 23s 755ms/step - loss: 0.0012 - accuracy: 1.0000 - val_loss: 0.4053 - val_accuracy: 0.8504\n",
      "Epoch 17/100\n",
      "30/30 [==============================] - 25s 842ms/step - loss: 4.5337e-04 - accuracy: 1.0000 - val_loss: 0.6023 - val_accuracy: 0.8144\n",
      "Epoch 18/100\n",
      "30/30 [==============================] - 23s 783ms/step - loss: 0.0116 - accuracy: 0.9960 - val_loss: 0.5660 - val_accuracy: 0.8952\n",
      "Epoch 19/100\n",
      "30/30 [==============================] - 23s 764ms/step - loss: 0.0011 - accuracy: 1.0000 - val_loss: 0.3764 - val_accuracy: 0.8936\n",
      "Epoch 20/100\n",
      "30/30 [==============================] - 23s 772ms/step - loss: 3.9212e-04 - accuracy: 1.0000 - val_loss: 0.3362 - val_accuracy: 0.9080\n",
      "Epoch 21/100\n",
      "30/30 [==============================] - 22s 739ms/step - loss: 1.3437e-04 - accuracy: 1.0000 - val_loss: 0.4189 - val_accuracy: 0.8840\n",
      "Epoch 22/100\n",
      "30/30 [==============================] - 22s 738ms/step - loss: 0.0028 - accuracy: 0.9989 - val_loss: 0.4400 - val_accuracy: 0.8888\n",
      "Epoch 23/100\n",
      "30/30 [==============================] - 22s 739ms/step - loss: 3.1399e-04 - accuracy: 1.0000 - val_loss: 1.9542 - val_accuracy: 0.7760\n",
      "Epoch 00023: early stopping\n"
     ]
    },
    {
     "data": {
      "text/plain": [
       "<tensorflow.python.keras.callbacks.History at 0x16d2ada30>"
      ]
     },
     "execution_count": 10,
     "metadata": {},
     "output_type": "execute_result"
    }
   ],
   "source": [
    "#Evaluate 'RMSprop' optimiser\n",
    "\n",
    "# building a linear stack of layers with the sequential model\n",
    "model = Sequential()\n",
    "# convolutional layer\n",
    "model.add(Conv2D(25, kernel_size=(3,3), strides=(1,1), padding='valid', activation='relu', input_shape=(109,89,1)))\n",
    "model.add(MaxPool2D(pool_size=(1,1)))\n",
    "# flatten output of conv\n",
    "model.add(Flatten())\n",
    "# hidden layer\n",
    "model.add(Dense(100, activation='relu'))\n",
    "model.add(BatchNormalization())\n",
    "# output layer\n",
    "model.add(Dense(1, activation='sigmoid'))\n",
    "\n",
    "# compiling the sequential model\n",
    "model.compile(loss='binary_crossentropy', metrics=['accuracy'], optimizer='RMSprop')\n",
    "es = EarlyStopping(monitor='val_loss', mode='min', verbose=1, patience=10)\n",
    "\n",
    "# training the model for 10 epochs\n",
    "model.fit(x_train, y_train, batch_size=128, epochs=100, validation_data=(x_test, y_test), callbacks=[es])"
   ]
  },
  {
   "cell_type": "markdown",
   "metadata": {},
   "source": [
    "# Investigate number of convolutional layers"
   ]
  },
  {
   "cell_type": "code",
   "execution_count": 11,
   "metadata": {},
   "outputs": [
    {
     "name": "stdout",
     "output_type": "stream",
     "text": [
      "Epoch 1/100\n",
      "30/30 [==============================] - 58s 2s/step - loss: 0.5331 - accuracy: 0.7416 - val_loss: 0.6918 - val_accuracy: 0.3896\n",
      "Epoch 2/100\n",
      "30/30 [==============================] - 57s 2s/step - loss: 0.2873 - accuracy: 0.8979 - val_loss: 0.6552 - val_accuracy: 0.7648\n",
      "Epoch 3/100\n",
      "30/30 [==============================] - 57s 2s/step - loss: 0.2077 - accuracy: 0.9371 - val_loss: 0.6406 - val_accuracy: 0.7640\n",
      "Epoch 4/100\n",
      "30/30 [==============================] - 58s 2s/step - loss: 0.1635 - accuracy: 0.9544 - val_loss: 0.6229 - val_accuracy: 0.7808\n",
      "Epoch 5/100\n",
      "30/30 [==============================] - 58s 2s/step - loss: 0.1349 - accuracy: 0.9645 - val_loss: 0.6233 - val_accuracy: 0.7128\n",
      "Epoch 6/100\n",
      "30/30 [==============================] - 57s 2s/step - loss: 0.1147 - accuracy: 0.9752 - val_loss: 0.5617 - val_accuracy: 0.8560\n",
      "Epoch 7/100\n",
      "30/30 [==============================] - 57s 2s/step - loss: 0.0946 - accuracy: 0.9824 - val_loss: 0.5358 - val_accuracy: 0.8512\n",
      "Epoch 8/100\n",
      "30/30 [==============================] - 58s 2s/step - loss: 0.0796 - accuracy: 0.9904 - val_loss: 0.5109 - val_accuracy: 0.8400\n",
      "Epoch 9/100\n",
      "30/30 [==============================] - 58s 2s/step - loss: 0.0711 - accuracy: 0.9907 - val_loss: 0.4675 - val_accuracy: 0.8608\n",
      "Epoch 10/100\n",
      "30/30 [==============================] - 57s 2s/step - loss: 0.0577 - accuracy: 0.9949 - val_loss: 0.4143 - val_accuracy: 0.9016\n",
      "Epoch 11/100\n",
      "30/30 [==============================] - 58s 2s/step - loss: 0.0541 - accuracy: 0.9947 - val_loss: 0.4208 - val_accuracy: 0.8560\n",
      "Epoch 12/100\n",
      "30/30 [==============================] - 66s 2s/step - loss: 0.0445 - accuracy: 0.9979 - val_loss: 0.3113 - val_accuracy: 0.9240\n",
      "Epoch 13/100\n",
      "30/30 [==============================] - 60s 2s/step - loss: 0.0461 - accuracy: 0.9963 - val_loss: 0.2814 - val_accuracy: 0.9192\n",
      "Epoch 14/100\n",
      "30/30 [==============================] - 59s 2s/step - loss: 0.0381 - accuracy: 0.9992 - val_loss: 0.2532 - val_accuracy: 0.9224\n",
      "Epoch 15/100\n",
      "30/30 [==============================] - 59s 2s/step - loss: 0.0353 - accuracy: 0.9987 - val_loss: 0.2673 - val_accuracy: 0.8984\n",
      "Epoch 16/100\n",
      "30/30 [==============================] - 57s 2s/step - loss: 0.0343 - accuracy: 0.9984 - val_loss: 0.2565 - val_accuracy: 0.9000\n",
      "Epoch 17/100\n",
      "30/30 [==============================] - 866s 29s/step - loss: 0.0288 - accuracy: 0.9997 - val_loss: 0.2192 - val_accuracy: 0.9160\n",
      "Epoch 18/100\n",
      "30/30 [==============================] - 60s 2s/step - loss: 0.0276 - accuracy: 1.0000 - val_loss: 0.2254 - val_accuracy: 0.9080\n",
      "Epoch 19/100\n",
      "30/30 [==============================] - 58s 2s/step - loss: 0.0258 - accuracy: 0.9995 - val_loss: 0.2413 - val_accuracy: 0.8952\n",
      "Epoch 20/100\n",
      "30/30 [==============================] - 59s 2s/step - loss: 0.0248 - accuracy: 0.9997 - val_loss: 0.2047 - val_accuracy: 0.9256\n",
      "Epoch 21/100\n",
      "30/30 [==============================] - 59s 2s/step - loss: 0.0214 - accuracy: 1.0000 - val_loss: 0.2065 - val_accuracy: 0.9216\n",
      "Epoch 22/100\n",
      "30/30 [==============================] - 57s 2s/step - loss: 0.0186 - accuracy: 0.9997 - val_loss: 0.2091 - val_accuracy: 0.9232\n",
      "Epoch 23/100\n",
      "30/30 [==============================] - 57s 2s/step - loss: 0.0181 - accuracy: 1.0000 - val_loss: 0.2147 - val_accuracy: 0.9240\n",
      "Epoch 24/100\n",
      "30/30 [==============================] - 58s 2s/step - loss: 0.0174 - accuracy: 1.0000 - val_loss: 0.2248 - val_accuracy: 0.9160\n",
      "Epoch 25/100\n",
      "30/30 [==============================] - 57s 2s/step - loss: 0.0155 - accuracy: 1.0000 - val_loss: 0.2320 - val_accuracy: 0.9048\n",
      "Epoch 26/100\n",
      "30/30 [==============================] - 58s 2s/step - loss: 0.0159 - accuracy: 1.0000 - val_loss: 0.2294 - val_accuracy: 0.9128\n",
      "Epoch 27/100\n",
      "30/30 [==============================] - 57s 2s/step - loss: 0.0155 - accuracy: 1.0000 - val_loss: 0.2446 - val_accuracy: 0.9080\n",
      "Epoch 28/100\n",
      "30/30 [==============================] - 57s 2s/step - loss: 0.0138 - accuracy: 1.0000 - val_loss: 0.2477 - val_accuracy: 0.9064\n",
      "Epoch 29/100\n",
      "30/30 [==============================] - 57s 2s/step - loss: 0.0127 - accuracy: 1.0000 - val_loss: 0.2393 - val_accuracy: 0.9096\n",
      "Epoch 30/100\n",
      "30/30 [==============================] - 59s 2s/step - loss: 0.0121 - accuracy: 1.0000 - val_loss: 0.2296 - val_accuracy: 0.9208\n",
      "Epoch 00030: early stopping\n"
     ]
    },
    {
     "data": {
      "text/plain": [
       "<tensorflow.python.keras.callbacks.History at 0x16c28e370>"
      ]
     },
     "execution_count": 11,
     "metadata": {},
     "output_type": "execute_result"
    }
   ],
   "source": [
    "# building a linear stack of layers with the sequential model\n",
    "model = Sequential()\n",
    "# convolutional layer\n",
    "model.add(Conv2D(25, kernel_size=(3,3), strides=(1,1), padding='valid', activation='relu', input_shape=(109,89,1)))\n",
    "model.add(MaxPool2D(pool_size=(1,1)))\n",
    "# convolutional layer\n",
    "model.add(Conv2D(25, kernel_size=(3,3), strides=(1,1), padding='valid', activation='relu', input_shape=(109,89,1)))\n",
    "model.add(MaxPool2D(pool_size=(1,1)))\n",
    "# flatten output of conv\n",
    "model.add(Flatten())\n",
    "# hidden layer\n",
    "model.add(Dense(100, activation='relu'))\n",
    "model.add(BatchNormalization())\n",
    "model.add(Dropout(0.5))\n",
    "# output layer\n",
    "model.add(Dense(1, activation='sigmoid'))\n",
    "\n",
    "# compiling the sequential model\n",
    "model.compile(loss='binary_crossentropy', metrics=['accuracy'], optimizer='SGD')\n",
    "es = EarlyStopping(monitor='val_loss', mode='min', verbose=1, patience=10)\n",
    "\n",
    "# training the model for 10 epochs\n",
    "model.fit(x_train, y_train, batch_size=128, epochs=100, validation_data=(x_test, y_test), callbacks=[es])"
   ]
  },
  {
   "cell_type": "code",
   "execution_count": 12,
   "metadata": {
    "scrolled": true
   },
   "outputs": [
    {
     "name": "stdout",
     "output_type": "stream",
     "text": [
      "Epoch 1/100\n",
      "30/30 [==============================] - 95s 3s/step - loss: 0.6187 - accuracy: 0.7029 - val_loss: 0.6756 - val_accuracy: 0.7288\n",
      "Epoch 2/100\n",
      "30/30 [==============================] - 96s 3s/step - loss: 0.3225 - accuracy: 0.8752 - val_loss: 0.6694 - val_accuracy: 0.5536\n",
      "Epoch 3/100\n",
      "30/30 [==============================] - 94s 3s/step - loss: 0.2413 - accuracy: 0.9144 - val_loss: 0.6747 - val_accuracy: 0.4808\n",
      "Epoch 4/100\n",
      "30/30 [==============================] - 94s 3s/step - loss: 0.2020 - accuracy: 0.9333 - val_loss: 0.6201 - val_accuracy: 0.7272\n",
      "Epoch 5/100\n",
      "30/30 [==============================] - 94s 3s/step - loss: 0.1671 - accuracy: 0.9469 - val_loss: 0.5807 - val_accuracy: 0.8120\n",
      "Epoch 6/100\n",
      "30/30 [==============================] - 94s 3s/step - loss: 0.1430 - accuracy: 0.9595 - val_loss: 0.5667 - val_accuracy: 0.7880\n",
      "Epoch 7/100\n",
      "30/30 [==============================] - 94s 3s/step - loss: 0.1180 - accuracy: 0.9693 - val_loss: 0.5177 - val_accuracy: 0.8432\n",
      "Epoch 8/100\n",
      "30/30 [==============================] - 94s 3s/step - loss: 0.1064 - accuracy: 0.9784 - val_loss: 0.4384 - val_accuracy: 0.9016\n",
      "Epoch 9/100\n",
      "30/30 [==============================] - 94s 3s/step - loss: 0.0950 - accuracy: 0.9805 - val_loss: 0.4860 - val_accuracy: 0.8120\n",
      "Epoch 10/100\n",
      "30/30 [==============================] - 94s 3s/step - loss: 0.0795 - accuracy: 0.9845 - val_loss: 0.4543 - val_accuracy: 0.8224\n",
      "Epoch 11/100\n",
      "30/30 [==============================] - 93s 3s/step - loss: 0.0730 - accuracy: 0.9872 - val_loss: 0.3530 - val_accuracy: 0.9032\n",
      "Epoch 12/100\n",
      "30/30 [==============================] - 93s 3s/step - loss: 0.0590 - accuracy: 0.9925 - val_loss: 0.4120 - val_accuracy: 0.8152\n",
      "Epoch 13/100\n",
      "30/30 [==============================] - 94s 3s/step - loss: 0.0520 - accuracy: 0.9960 - val_loss: 0.4014 - val_accuracy: 0.8112\n",
      "Epoch 14/100\n",
      "30/30 [==============================] - 94s 3s/step - loss: 0.0510 - accuracy: 0.9944 - val_loss: 0.3387 - val_accuracy: 0.8512\n",
      "Epoch 15/100\n",
      "30/30 [==============================] - 94s 3s/step - loss: 0.0439 - accuracy: 0.9963 - val_loss: 0.2229 - val_accuracy: 0.9200\n",
      "Epoch 16/100\n",
      "30/30 [==============================] - 93s 3s/step - loss: 0.0390 - accuracy: 0.9981 - val_loss: 0.2270 - val_accuracy: 0.9176\n",
      "Epoch 17/100\n",
      "30/30 [==============================] - 93s 3s/step - loss: 0.0358 - accuracy: 0.9981 - val_loss: 0.2057 - val_accuracy: 0.9216\n",
      "Epoch 18/100\n",
      "30/30 [==============================] - 94s 3s/step - loss: 0.0326 - accuracy: 0.9979 - val_loss: 0.2463 - val_accuracy: 0.8944\n",
      "Epoch 19/100\n",
      "30/30 [==============================] - 94s 3s/step - loss: 0.0293 - accuracy: 0.9992 - val_loss: 0.1848 - val_accuracy: 0.9328\n",
      "Epoch 20/100\n",
      "30/30 [==============================] - 94s 3s/step - loss: 0.0270 - accuracy: 0.9995 - val_loss: 0.2028 - val_accuracy: 0.9208\n",
      "Epoch 21/100\n",
      "30/30 [==============================] - 93s 3s/step - loss: 0.0239 - accuracy: 1.0000 - val_loss: 0.7955 - val_accuracy: 0.7072\n",
      "Epoch 22/100\n",
      "30/30 [==============================] - 93s 3s/step - loss: 0.0285 - accuracy: 0.9987 - val_loss: 0.2310 - val_accuracy: 0.9136\n",
      "Epoch 23/100\n",
      "30/30 [==============================] - 94s 3s/step - loss: 0.0251 - accuracy: 0.9995 - val_loss: 0.3593 - val_accuracy: 0.8704\n",
      "Epoch 24/100\n",
      "30/30 [==============================] - 93s 3s/step - loss: 0.0247 - accuracy: 0.9997 - val_loss: 0.4394 - val_accuracy: 0.8528\n",
      "Epoch 25/100\n",
      "30/30 [==============================] - 94s 3s/step - loss: 0.0244 - accuracy: 0.9997 - val_loss: 0.2774 - val_accuracy: 0.9040\n",
      "Epoch 26/100\n",
      "30/30 [==============================] - 94s 3s/step - loss: 0.0198 - accuracy: 1.0000 - val_loss: 0.2626 - val_accuracy: 0.8968\n",
      "Epoch 27/100\n",
      "30/30 [==============================] - 94s 3s/step - loss: 0.0193 - accuracy: 0.9995 - val_loss: 0.2553 - val_accuracy: 0.8984\n",
      "Epoch 28/100\n",
      "30/30 [==============================] - 93s 3s/step - loss: 0.0204 - accuracy: 0.9992 - val_loss: 0.2396 - val_accuracy: 0.9176\n",
      "Epoch 29/100\n",
      "30/30 [==============================] - 104s 3s/step - loss: 0.0154 - accuracy: 1.0000 - val_loss: 0.2812 - val_accuracy: 0.8976\n",
      "Epoch 00029: early stopping\n"
     ]
    },
    {
     "data": {
      "text/plain": [
       "<tensorflow.python.keras.callbacks.History at 0x16c43a520>"
      ]
     },
     "execution_count": 12,
     "metadata": {},
     "output_type": "execute_result"
    }
   ],
   "source": [
    "# building a linear stack of layers with the sequential model\n",
    "model = Sequential()\n",
    "# convolutional layer\n",
    "model.add(Conv2D(25, kernel_size=(3,3), strides=(1,1), padding='valid', activation='relu', input_shape=(109,89,1)))\n",
    "model.add(MaxPool2D(pool_size=(1,1)))\n",
    "# convolutional layer\n",
    "model.add(Conv2D(25, kernel_size=(3,3), strides=(1,1), padding='valid', activation='relu', input_shape=(109,89,1)))\n",
    "model.add(MaxPool2D(pool_size=(1,1)))\n",
    "# convolutional layer\n",
    "model.add(Conv2D(25, kernel_size=(3,3), strides=(1,1), padding='valid', activation='relu', input_shape=(109,89,1)))\n",
    "model.add(MaxPool2D(pool_size=(1,1)))\n",
    "# flatten output of conv\n",
    "model.add(Flatten())\n",
    "# hidden layer\n",
    "model.add(Dense(100, activation='relu'))\n",
    "model.add(BatchNormalization())\n",
    "model.add(Dropout(0.5))\n",
    "# output layer\n",
    "model.add(Dense(1, activation='sigmoid'))\n",
    "\n",
    "# compiling the sequential model\n",
    "model.compile(loss='binary_crossentropy', metrics=['accuracy'], optimizer='SGD')\n",
    "es = EarlyStopping(monitor='val_loss', mode='min', verbose=1, patience=10)\n",
    "\n",
    "# training the model for 10 epochs\n",
    "model.fit(x_train, y_train, batch_size=128, epochs=100, validation_data=(x_test, y_test), callbacks=[es])"
   ]
  },
  {
   "cell_type": "markdown",
   "metadata": {},
   "source": [
    "#2 convolutional layers chosen"
   ]
  },
  {
   "cell_type": "markdown",
   "metadata": {},
   "source": [
    "# Investigate number of hidden layers"
   ]
  },
  {
   "cell_type": "code",
   "execution_count": 13,
   "metadata": {},
   "outputs": [
    {
     "name": "stdout",
     "output_type": "stream",
     "text": [
      "Epoch 1/100\n",
      "30/30 [==============================] - 67s 2s/step - loss: 0.7077 - accuracy: 0.6184 - val_loss: 0.7508 - val_accuracy: 0.2752\n",
      "Epoch 2/100\n",
      "30/30 [==============================] - 59s 2s/step - loss: 0.5745 - accuracy: 0.6997 - val_loss: 0.7107 - val_accuracy: 0.3296\n",
      "Epoch 3/100\n",
      "30/30 [==============================] - 58s 2s/step - loss: 0.4526 - accuracy: 0.8069 - val_loss: 0.6480 - val_accuracy: 0.8456\n",
      "Epoch 4/100\n",
      "30/30 [==============================] - 57s 2s/step - loss: 0.3615 - accuracy: 0.8749 - val_loss: 0.6445 - val_accuracy: 0.7640\n",
      "Epoch 5/100\n",
      "30/30 [==============================] - 57s 2s/step - loss: 0.2996 - accuracy: 0.9080 - val_loss: 0.6337 - val_accuracy: 0.8320\n",
      "Epoch 6/100\n",
      "30/30 [==============================] - 57s 2s/step - loss: 0.2577 - accuracy: 0.9232 - val_loss: 0.5483 - val_accuracy: 0.8896\n",
      "Epoch 7/100\n",
      "30/30 [==============================] - 57s 2s/step - loss: 0.2211 - accuracy: 0.9373 - val_loss: 0.4989 - val_accuracy: 0.9120\n",
      "Epoch 8/100\n",
      "30/30 [==============================] - 56s 2s/step - loss: 0.1935 - accuracy: 0.9488 - val_loss: 0.5716 - val_accuracy: 0.7456\n",
      "Epoch 9/100\n",
      "30/30 [==============================] - 57s 2s/step - loss: 0.1713 - accuracy: 0.9605 - val_loss: 0.5974 - val_accuracy: 0.6552\n",
      "Epoch 10/100\n",
      "30/30 [==============================] - 57s 2s/step - loss: 0.1536 - accuracy: 0.9661 - val_loss: 0.5025 - val_accuracy: 0.7976\n",
      "Epoch 11/100\n",
      "30/30 [==============================] - 57s 2s/step - loss: 0.1346 - accuracy: 0.9755 - val_loss: 0.4092 - val_accuracy: 0.8992\n",
      "Epoch 12/100\n",
      "30/30 [==============================] - 57s 2s/step - loss: 0.1234 - accuracy: 0.9781 - val_loss: 0.3418 - val_accuracy: 0.9152\n",
      "Epoch 13/100\n",
      "30/30 [==============================] - 58s 2s/step - loss: 0.1111 - accuracy: 0.9805 - val_loss: 0.6052 - val_accuracy: 0.6704\n",
      "Epoch 14/100\n",
      "30/30 [==============================] - 56s 2s/step - loss: 0.0949 - accuracy: 0.9869 - val_loss: 0.3101 - val_accuracy: 0.8960\n",
      "Epoch 15/100\n",
      "30/30 [==============================] - 58s 2s/step - loss: 0.0873 - accuracy: 0.9883 - val_loss: 0.2532 - val_accuracy: 0.9280\n",
      "Epoch 16/100\n",
      "30/30 [==============================] - 57s 2s/step - loss: 0.0935 - accuracy: 0.9883 - val_loss: 0.2094 - val_accuracy: 0.9304\n",
      "Epoch 17/100\n",
      "30/30 [==============================] - 57s 2s/step - loss: 0.0752 - accuracy: 0.9939 - val_loss: 0.2136 - val_accuracy: 0.9168\n",
      "Epoch 18/100\n",
      "30/30 [==============================] - 57s 2s/step - loss: 0.0723 - accuracy: 0.9941 - val_loss: 0.3017 - val_accuracy: 0.8752\n",
      "Epoch 19/100\n",
      "30/30 [==============================] - 57s 2s/step - loss: 0.0628 - accuracy: 0.9944 - val_loss: 0.2567 - val_accuracy: 0.8992\n",
      "Epoch 20/100\n",
      "30/30 [==============================] - 58s 2s/step - loss: 0.0589 - accuracy: 0.9960 - val_loss: 0.2314 - val_accuracy: 0.9064\n",
      "Epoch 21/100\n",
      "30/30 [==============================] - 57s 2s/step - loss: 0.0530 - accuracy: 0.9973 - val_loss: 0.3352 - val_accuracy: 0.8656\n",
      "Epoch 22/100\n",
      "30/30 [==============================] - 57s 2s/step - loss: 0.0468 - accuracy: 0.9968 - val_loss: 0.2008 - val_accuracy: 0.9296\n",
      "Epoch 23/100\n",
      "30/30 [==============================] - 57s 2s/step - loss: 0.0415 - accuracy: 0.9989 - val_loss: 0.4160 - val_accuracy: 0.8208\n",
      "Epoch 24/100\n",
      "30/30 [==============================] - 7257s 242s/step - loss: 0.0432 - accuracy: 0.9981 - val_loss: 0.2039 - val_accuracy: 0.9264\n",
      "Epoch 25/100\n",
      "30/30 [==============================] - 15505s 517s/step - loss: 0.0367 - accuracy: 0.9995 - val_loss: 0.2068 - val_accuracy: 0.9280\n",
      "Epoch 26/100\n",
      "30/30 [==============================] - 9171s 306s/step - loss: 0.0324 - accuracy: 0.9995 - val_loss: 0.5377 - val_accuracy: 0.8016\n",
      "Epoch 27/100\n",
      "30/30 [==============================] - 69s 2s/step - loss: 0.0307 - accuracy: 0.9997 - val_loss: 0.2223 - val_accuracy: 0.9208\n",
      "Epoch 28/100\n",
      "30/30 [==============================] - 58s 2s/step - loss: 0.0294 - accuracy: 0.9989 - val_loss: 0.2996 - val_accuracy: 0.8832\n",
      "Epoch 29/100\n",
      "30/30 [==============================] - 58s 2s/step - loss: 0.0274 - accuracy: 0.9987 - val_loss: 0.2158 - val_accuracy: 0.9184\n",
      "Epoch 30/100\n",
      "30/30 [==============================] - 70s 2s/step - loss: 0.0253 - accuracy: 0.9995 - val_loss: 0.2160 - val_accuracy: 0.9216\n",
      "Epoch 31/100\n",
      "30/30 [==============================] - 59s 2s/step - loss: 0.0233 - accuracy: 0.9997 - val_loss: 0.3424 - val_accuracy: 0.8600\n",
      "Epoch 32/100\n",
      "30/30 [==============================] - 65s 2s/step - loss: 0.0247 - accuracy: 0.9992 - val_loss: 0.5197 - val_accuracy: 0.8208\n",
      "Epoch 00032: early stopping\n"
     ]
    },
    {
     "data": {
      "text/plain": [
       "<tensorflow.python.keras.callbacks.History at 0x16c7f8be0>"
      ]
     },
     "execution_count": 13,
     "metadata": {},
     "output_type": "execute_result"
    }
   ],
   "source": [
    "# building a linear stack of layers with the sequential model\n",
    "model = Sequential()\n",
    "# convolutional layer\n",
    "model.add(Conv2D(25, kernel_size=(3,3), strides=(1,1), padding='valid', activation='relu', input_shape=(109,89,1)))\n",
    "model.add(MaxPool2D(pool_size=(1,1)))\n",
    "# convolutional layer\n",
    "model.add(Conv2D(25, kernel_size=(3,3), strides=(1,1), padding='valid', activation='relu', input_shape=(109,89,1)))\n",
    "model.add(MaxPool2D(pool_size=(1,1)))\n",
    "# flatten output of conv\n",
    "model.add(Flatten())\n",
    "# hidden layer\n",
    "model.add(Dense(100, activation='relu'))\n",
    "model.add(BatchNormalization())\n",
    "model.add(Dropout(0.5))\n",
    "# hidden layer\n",
    "model.add(Dense(100, activation='relu'))\n",
    "model.add(Dropout(0.5))\n",
    "# output layer\n",
    "model.add(Dense(1, activation='sigmoid'))\n",
    "\n",
    "# compiling the sequential model\n",
    "model.compile(loss='binary_crossentropy', metrics=['accuracy'], optimizer='SGD')\n",
    "es = EarlyStopping(monitor='val_loss', mode='min', verbose=1, patience=10)\n",
    "\n",
    "# training the model for 10 epochs\n",
    "model.fit(x_train, y_train, batch_size=128, epochs=100, validation_data=(x_test, y_test), callbacks=[es])"
   ]
  },
  {
   "cell_type": "code",
   "execution_count": null,
   "metadata": {},
   "outputs": [],
   "source": [
    "#One hidden layer chosen"
   ]
  },
  {
   "cell_type": "code",
   "execution_count": null,
   "metadata": {},
   "outputs": [],
   "source": [
    "#Optimiser SGD has the highest accuracy so is selected"
   ]
  },
  {
   "cell_type": "markdown",
   "metadata": {},
   "source": [
    "# Accuracy on validation set"
   ]
  },
  {
   "cell_type": "code",
   "execution_count": 8,
   "metadata": {},
   "outputs": [
    {
     "name": "stdout",
     "output_type": "stream",
     "text": [
      "Epoch 1/100\n",
      "30/30 [==============================] - 62s 2s/step - loss: 0.5758 - accuracy: 0.7189 - val_loss: 0.7244 - val_accuracy: 0.2592\n",
      "Epoch 2/100\n",
      "30/30 [==============================] - 59s 2s/step - loss: 0.3409 - accuracy: 0.8669 - val_loss: 0.6954 - val_accuracy: 0.3976\n",
      "Epoch 3/100\n",
      "30/30 [==============================] - 58s 2s/step - loss: 0.2455 - accuracy: 0.9171 - val_loss: 0.6408 - val_accuracy: 0.7424\n",
      "Epoch 4/100\n",
      "30/30 [==============================] - 58s 2s/step - loss: 0.1983 - accuracy: 0.9395 - val_loss: 0.6108 - val_accuracy: 0.8096\n",
      "Epoch 5/100\n",
      "30/30 [==============================] - 57s 2s/step - loss: 0.1653 - accuracy: 0.9536 - val_loss: 0.5676 - val_accuracy: 0.9024\n",
      "Epoch 6/100\n",
      "30/30 [==============================] - 58s 2s/step - loss: 0.1393 - accuracy: 0.9677 - val_loss: 0.5880 - val_accuracy: 0.7512\n",
      "Epoch 7/100\n",
      "30/30 [==============================] - 58s 2s/step - loss: 0.1187 - accuracy: 0.9736 - val_loss: 0.5646 - val_accuracy: 0.7768\n",
      "Epoch 8/100\n",
      "30/30 [==============================] - 58s 2s/step - loss: 0.1061 - accuracy: 0.9813 - val_loss: 0.4646 - val_accuracy: 0.9176\n",
      "Epoch 9/100\n",
      "30/30 [==============================] - 59s 2s/step - loss: 0.0901 - accuracy: 0.9893 - val_loss: 0.5068 - val_accuracy: 0.8128\n",
      "Epoch 10/100\n",
      "30/30 [==============================] - 58s 2s/step - loss: 0.0771 - accuracy: 0.9925 - val_loss: 0.4048 - val_accuracy: 0.9016\n",
      "Epoch 11/100\n",
      "30/30 [==============================] - 73s 2s/step - loss: 0.0698 - accuracy: 0.9923 - val_loss: 0.3967 - val_accuracy: 0.8808\n",
      "Epoch 12/100\n",
      "30/30 [==============================] - 61s 2s/step - loss: 0.0623 - accuracy: 0.9939 - val_loss: 0.3875 - val_accuracy: 0.8752\n",
      "Epoch 13/100\n",
      "30/30 [==============================] - 60s 2s/step - loss: 0.0584 - accuracy: 0.9963 - val_loss: 0.2853 - val_accuracy: 0.9232\n",
      "Epoch 14/100\n",
      "30/30 [==============================] - 73s 2s/step - loss: 0.0536 - accuracy: 0.9973 - val_loss: 0.3062 - val_accuracy: 0.8952\n",
      "Epoch 15/100\n",
      "30/30 [==============================] - 62s 2s/step - loss: 0.0467 - accuracy: 0.9984 - val_loss: 0.2404 - val_accuracy: 0.9280\n",
      "Epoch 16/100\n",
      "30/30 [==============================] - 68s 2s/step - loss: 0.0418 - accuracy: 0.9979 - val_loss: 0.2232 - val_accuracy: 0.9232\n",
      "Epoch 17/100\n",
      "30/30 [==============================] - 67s 2s/step - loss: 0.0385 - accuracy: 0.9987 - val_loss: 0.2672 - val_accuracy: 0.8904\n",
      "Epoch 18/100\n",
      "30/30 [==============================] - 61s 2s/step - loss: 0.0351 - accuracy: 0.9995 - val_loss: 0.2426 - val_accuracy: 0.9160\n",
      "Epoch 19/100\n",
      "30/30 [==============================] - 59s 2s/step - loss: 0.0344 - accuracy: 0.9981 - val_loss: 0.2164 - val_accuracy: 0.9176\n",
      "Epoch 20/100\n",
      "30/30 [==============================] - 58s 2s/step - loss: 0.0309 - accuracy: 0.9995 - val_loss: 0.2303 - val_accuracy: 0.9104\n",
      "Epoch 21/100\n",
      "30/30 [==============================] - 58s 2s/step - loss: 0.0283 - accuracy: 0.9992 - val_loss: 0.2224 - val_accuracy: 0.9144\n",
      "Epoch 22/100\n",
      "30/30 [==============================] - 58s 2s/step - loss: 0.0256 - accuracy: 0.9995 - val_loss: 0.2084 - val_accuracy: 0.9240\n",
      "Epoch 23/100\n",
      "30/30 [==============================] - 57s 2s/step - loss: 0.0254 - accuracy: 0.9995 - val_loss: 0.2297 - val_accuracy: 0.9096\n",
      "Epoch 24/100\n",
      "30/30 [==============================] - 58s 2s/step - loss: 0.0234 - accuracy: 0.9997 - val_loss: 0.2236 - val_accuracy: 0.9200\n",
      "Epoch 25/100\n",
      "30/30 [==============================] - 58s 2s/step - loss: 0.0230 - accuracy: 0.9992 - val_loss: 0.3000 - val_accuracy: 0.8768\n",
      "Epoch 26/100\n",
      "30/30 [==============================] - 58s 2s/step - loss: 0.0192 - accuracy: 1.0000 - val_loss: 0.2161 - val_accuracy: 0.9256\n",
      "Epoch 27/100\n",
      "30/30 [==============================] - 57s 2s/step - loss: 0.0189 - accuracy: 1.0000 - val_loss: 0.2859 - val_accuracy: 0.8848\n",
      "Epoch 28/100\n",
      "30/30 [==============================] - 1534s 51s/step - loss: 0.0179 - accuracy: 1.0000 - val_loss: 0.2417 - val_accuracy: 0.9080\n",
      "Epoch 29/100\n",
      "30/30 [==============================] - 58s 2s/step - loss: 0.0179 - accuracy: 1.0000 - val_loss: 0.2185 - val_accuracy: 0.9224\n",
      "Epoch 30/100\n",
      "30/30 [==============================] - 2653s 88s/step - loss: 0.0202 - accuracy: 0.9997 - val_loss: 0.2221 - val_accuracy: 0.9208\n",
      "Epoch 31/100\n",
      "30/30 [==============================] - 59s 2s/step - loss: 0.0201 - accuracy: 1.0000 - val_loss: 0.3097 - val_accuracy: 0.8768\n",
      "Epoch 32/100\n",
      "30/30 [==============================] - 64s 2s/step - loss: 0.0185 - accuracy: 1.0000 - val_loss: 0.2197 - val_accuracy: 0.9224\n",
      "Epoch 00032: early stopping\n"
     ]
    }
   ],
   "source": [
    "# building a linear stack of layers with the sequential model\n",
    "model = Sequential()\n",
    "# convolutional layer\n",
    "model.add(Conv2D(25, kernel_size=(3,3), strides=(1,1), padding='valid', activation='relu', input_shape=(109,89,1)))\n",
    "model.add(MaxPool2D(pool_size=(1,1)))\n",
    "# convolutional layer\n",
    "model.add(Conv2D(25, kernel_size=(3,3), strides=(1,1), padding='valid', activation='relu', input_shape=(109,89,1)))\n",
    "model.add(MaxPool2D(pool_size=(1,1)))\n",
    "# flatten output of conv\n",
    "model.add(Flatten())\n",
    "# hidden layer\n",
    "model.add(Dense(100, activation='relu'))\n",
    "model.add(BatchNormalization())\n",
    "model.add(Dropout(0.5))\n",
    "# output layer\n",
    "model.add(Dense(1, activation='sigmoid'))\n",
    "\n",
    "# compiling the sequential model\n",
    "model.compile(loss='binary_crossentropy', metrics=['accuracy'], optimizer='SGD')\n",
    "es = EarlyStopping(monitor='val_loss', mode='min', verbose=1, patience=10)\n",
    "\n",
    "# training the model for 10 epochs\n",
    "history=model.fit(x_train, y_train, batch_size=128, epochs=100, validation_data=(x_test, y_test), callbacks=[es])"
   ]
  },
  {
   "cell_type": "code",
   "execution_count": 9,
   "metadata": {},
   "outputs": [
    {
     "name": "stdout",
     "output_type": "stream",
     "text": [
      "dict_keys(['loss', 'accuracy', 'val_loss', 'val_accuracy'])\n"
     ]
    },
    {
     "data": {
      "image/png": "[encoded data removed]",
      "text/plain": [
       "<Figure size 432x288 with 1 Axes>"
      ]
     },
     "metadata": {
      "needs_background": "light"
     },
     "output_type": "display_data"
    },
    {
     "data": {
      "image/png": "[encoded data removed]",
      "text/plain": [
       "<Figure size 432x288 with 1 Axes>"
      ]
     },
     "metadata": {
      "needs_background": "light"
     },
     "output_type": "display_data"
    }
   ],
   "source": [
    "# list all data in history\n",
    "print(history.history.keys())\n",
    "# summarize history for accuracy\n",
    "plt.plot(history.history['accuracy'])\n",
    "plt.plot(history.history['val_accuracy'])\n",
    "plt.title('model accuracy')\n",
    "plt.ylabel('accuracy')\n",
    "plt.xlabel('epoch')\n",
    "plt.legend(['train', 'test'], loc='upper left')\n",
    "plt.show()\n",
    "# summarize history for loss\n",
    "plt.plot(history.history['loss'])\n",
    "plt.plot(history.history['val_loss'])\n",
    "plt.title('model loss')\n",
    "plt.ylabel('loss')\n",
    "plt.xlabel('epoch')\n",
    "plt.legend(['train', 'test'], loc='upper left')\n",
    "plt.show()"
   ]
  },
  {
   "cell_type": "markdown",
   "metadata": {},
   "source": [
    "# Finding accuracy on test set with optimised CNN"
   ]
  },
  {
   "cell_type": "code",
   "execution_count": 11,
   "metadata": {},
   "outputs": [
    {
     "data": {
      "text/html": [
       "<div>\n",
       "<style scoped>\n",
       "    .dataframe tbody tr th:only-of-type {\n",
       "        vertical-align: middle;\n",
       "    }\n",
       "\n",
       "    .dataframe tbody tr th {\n",
       "        vertical-align: top;\n",
       "    }\n",
       "\n",
       "    .dataframe thead th {\n",
       "        text-align: right;\n",
       "    }\n",
       "</style>\n",
       "<table border=\"1\" class=\"dataframe\">\n",
       "  <thead>\n",
       "    <tr style=\"text-align: right;\">\n",
       "      <th></th>\n",
       "      <th>img_name</th>\n",
       "      <th>gender</th>\n",
       "      <th>smiling</th>\n",
       "    </tr>\n",
       "  </thead>\n",
       "  <tbody>\n",
       "    <tr>\n",
       "      <th>0</th>\n",
       "      <td>0.jpg</td>\n",
       "      <td>-1</td>\n",
       "      <td>-1</td>\n",
       "    </tr>\n",
       "    <tr>\n",
       "      <th>1</th>\n",
       "      <td>1.jpg</td>\n",
       "      <td>-1</td>\n",
       "      <td>1</td>\n",
       "    </tr>\n",
       "    <tr>\n",
       "      <th>2</th>\n",
       "      <td>2.jpg</td>\n",
       "      <td>1</td>\n",
       "      <td>1</td>\n",
       "    </tr>\n",
       "    <tr>\n",
       "      <th>3</th>\n",
       "      <td>3.jpg</td>\n",
       "      <td>1</td>\n",
       "      <td>1</td>\n",
       "    </tr>\n",
       "    <tr>\n",
       "      <th>4</th>\n",
       "      <td>4.jpg</td>\n",
       "      <td>-1</td>\n",
       "      <td>-1</td>\n",
       "    </tr>\n",
       "  </tbody>\n",
       "</table>\n",
       "</div>"
      ],
      "text/plain": [
       "  img_name  gender  smiling\n",
       "0    0.jpg      -1       -1\n",
       "1    1.jpg      -1        1\n",
       "2    2.jpg       1        1\n",
       "3    3.jpg       1        1\n",
       "4    4.jpg      -1       -1"
      ]
     },
     "execution_count": 11,
     "metadata": {},
     "output_type": "execute_result"
    }
   ],
   "source": [
    "#Use Pandas to read csv file\n",
    "dirname = os.path.dirname(d)\n",
    "csvtest = os.path.join(d, 'test/celeba_test/labels.csv')\n",
    "dirname = os.path.dirname(d)\n",
    "imgtest = os.path.join(d, 'test/celeba_test/img/')\n",
    "\n",
    "test_dataset = pd.read_csv(csvtest, sep='\\\\t', engine='python')"
   ]
  },
  {
   "cell_type": "code",
   "execution_count": 12,
   "metadata": {},
   "outputs": [
    {
     "name": "stderr",
     "output_type": "stream",
     "text": [
      "100%|██████████| 1000/1000 [00:02<00:00, 363.99it/s]\n"
     ]
    }
   ],
   "source": [
    "test_dataset_image = []\n",
    "for i in tqdm(range(test_dataset.shape[0])):\n",
    "    img = image.load_img(imgtest+test_dataset['img_name'][i], target_size=(109,89))\n",
    "    img = img.convert('L')\n",
    "    img = image.img_to_array(img)\n",
    "    img = img/255\n",
    "\n",
    "    test_dataset_image.append(img)"
   ]
  },
  {
   "cell_type": "code",
   "execution_count": 13,
   "metadata": {},
   "outputs": [],
   "source": [
    "# Split the data\n",
    "X_TEST = np.array(test_dataset_image)\n",
    "Y_TEST = np.array(test_dataset['gender']+1)/2"
   ]
  },
  {
   "cell_type": "code",
   "execution_count": 14,
   "metadata": {},
   "outputs": [
    {
     "name": "stdout",
     "output_type": "stream",
     "text": [
      "Epoch 1/100\n",
      "30/30 [==============================] - 60s 2s/step - loss: 0.6223 - accuracy: 0.6773 - val_loss: 0.6713 - val_accuracy: 0.5050\n",
      "Epoch 2/100\n",
      "30/30 [==============================] - 57s 2s/step - loss: 0.4508 - accuracy: 0.7923 - val_loss: 0.6363 - val_accuracy: 0.8370\n",
      "Epoch 3/100\n",
      "30/30 [==============================] - 58s 2s/step - loss: 0.2946 - accuracy: 0.8861 - val_loss: 0.6217 - val_accuracy: 0.6230\n",
      "Epoch 4/100\n",
      "30/30 [==============================] - 57s 2s/step - loss: 0.2264 - accuracy: 0.9269 - val_loss: 0.6421 - val_accuracy: 0.7040\n",
      "Epoch 5/100\n",
      "30/30 [==============================] - 57s 2s/step - loss: 0.1931 - accuracy: 0.9365 - val_loss: 0.5723 - val_accuracy: 0.9030\n",
      "Epoch 6/100\n",
      "30/30 [==============================] - 57s 2s/step - loss: 0.1581 - accuracy: 0.9549 - val_loss: 0.5139 - val_accuracy: 0.8590\n",
      "Epoch 7/100\n",
      "30/30 [==============================] - 57s 2s/step - loss: 0.1320 - accuracy: 0.9635 - val_loss: 0.4949 - val_accuracy: 0.8950\n",
      "Epoch 8/100\n",
      "30/30 [==============================] - 57s 2s/step - loss: 0.1190 - accuracy: 0.9685 - val_loss: 0.4624 - val_accuracy: 0.8740\n",
      "Epoch 9/100\n",
      "30/30 [==============================] - 58s 2s/step - loss: 0.0985 - accuracy: 0.9803 - val_loss: 0.4593 - val_accuracy: 0.8370\n",
      "Epoch 10/100\n",
      "30/30 [==============================] - 57s 2s/step - loss: 0.0912 - accuracy: 0.9851 - val_loss: 0.3868 - val_accuracy: 0.9130\n",
      "Epoch 11/100\n",
      "30/30 [==============================] - 58s 2s/step - loss: 0.0739 - accuracy: 0.9920 - val_loss: 0.3324 - val_accuracy: 0.9080\n",
      "Epoch 12/100\n",
      "30/30 [==============================] - 57s 2s/step - loss: 0.0698 - accuracy: 0.9899 - val_loss: 0.3365 - val_accuracy: 0.8990\n",
      "Epoch 13/100\n",
      "30/30 [==============================] - 58s 2s/step - loss: 0.0595 - accuracy: 0.9925 - val_loss: 0.2916 - val_accuracy: 0.9130\n",
      "Epoch 14/100\n",
      "30/30 [==============================] - 57s 2s/step - loss: 0.0575 - accuracy: 0.9920 - val_loss: 0.2839 - val_accuracy: 0.9080\n",
      "Epoch 15/100\n",
      "30/30 [==============================] - 58s 2s/step - loss: 0.0454 - accuracy: 0.9963 - val_loss: 0.3032 - val_accuracy: 0.8720\n",
      "Epoch 16/100\n",
      "30/30 [==============================] - 57s 2s/step - loss: 0.0395 - accuracy: 0.9987 - val_loss: 0.4571 - val_accuracy: 0.7620\n",
      "Epoch 17/100\n",
      "30/30 [==============================] - 57s 2s/step - loss: 0.0390 - accuracy: 0.9987 - val_loss: 0.2582 - val_accuracy: 0.8910\n",
      "Epoch 18/100\n",
      "30/30 [==============================] - 57s 2s/step - loss: 0.0329 - accuracy: 0.9981 - val_loss: 0.5561 - val_accuracy: 0.7540\n",
      "Epoch 19/100\n",
      "30/30 [==============================] - 58s 2s/step - loss: 0.0343 - accuracy: 0.9981 - val_loss: 0.2598 - val_accuracy: 0.8900\n",
      "Epoch 20/100\n",
      "30/30 [==============================] - 57s 2s/step - loss: 0.0305 - accuracy: 0.9997 - val_loss: 0.2228 - val_accuracy: 0.9070\n",
      "Epoch 21/100\n",
      "30/30 [==============================] - 57s 2s/step - loss: 0.0309 - accuracy: 0.9984 - val_loss: 0.2279 - val_accuracy: 0.9080\n",
      "Epoch 22/100\n",
      "30/30 [==============================] - 56s 2s/step - loss: 0.0254 - accuracy: 0.9992 - val_loss: 0.2047 - val_accuracy: 0.9180\n",
      "Epoch 23/100\n",
      "30/30 [==============================] - 58s 2s/step - loss: 0.0220 - accuracy: 0.9997 - val_loss: 0.2852 - val_accuracy: 0.8840\n",
      "Epoch 24/100\n",
      "30/30 [==============================] - 57s 2s/step - loss: 0.0215 - accuracy: 0.9997 - val_loss: 0.2249 - val_accuracy: 0.9120\n",
      "Epoch 25/100\n",
      "30/30 [==============================] - 57s 2s/step - loss: 0.0195 - accuracy: 0.9997 - val_loss: 0.2341 - val_accuracy: 0.9040\n",
      "Epoch 26/100\n",
      "30/30 [==============================] - 57s 2s/step - loss: 0.0175 - accuracy: 1.0000 - val_loss: 0.2948 - val_accuracy: 0.8860\n",
      "Epoch 27/100\n",
      "30/30 [==============================] - 57s 2s/step - loss: 0.0165 - accuracy: 1.0000 - val_loss: 0.3087 - val_accuracy: 0.8820\n",
      "Epoch 28/100\n",
      "30/30 [==============================] - 57s 2s/step - loss: 0.0156 - accuracy: 1.0000 - val_loss: 0.2795 - val_accuracy: 0.8880\n",
      "Epoch 29/100\n",
      "30/30 [==============================] - 58s 2s/step - loss: 0.0153 - accuracy: 1.0000 - val_loss: 0.3316 - val_accuracy: 0.8820\n",
      "Epoch 30/100\n",
      "30/30 [==============================] - 57s 2s/step - loss: 0.0135 - accuracy: 1.0000 - val_loss: 0.2258 - val_accuracy: 0.9110\n",
      "Epoch 31/100\n",
      "30/30 [==============================] - 57s 2s/step - loss: 0.0129 - accuracy: 1.0000 - val_loss: 0.2234 - val_accuracy: 0.9130\n",
      "Epoch 32/100\n",
      "30/30 [==============================] - 57s 2s/step - loss: 0.0120 - accuracy: 1.0000 - val_loss: 0.3204 - val_accuracy: 0.8700\n",
      "Epoch 00032: early stopping\n"
     ]
    }
   ],
   "source": [
    "# building a linear stack of layers with the sequential model\n",
    "model = Sequential()\n",
    "# convolutional layer\n",
    "model.add(Conv2D(25, kernel_size=(3,3), strides=(1,1), padding='valid', activation='relu', input_shape=(109,89,1)))\n",
    "model.add(MaxPool2D(pool_size=(1,1)))\n",
    "# convolutional layer\n",
    "model.add(Conv2D(25, kernel_size=(3,3), strides=(1,1), padding='valid', activation='relu', input_shape=(109,89,1)))\n",
    "model.add(MaxPool2D(pool_size=(1,1)))\n",
    "# flatten output of conv\n",
    "model.add(Flatten())\n",
    "# hidden layer\n",
    "model.add(Dense(100, activation='relu'))\n",
    "model.add(BatchNormalization())\n",
    "model.add(Dropout(0.5))\n",
    "# output layer\n",
    "model.add(Dense(1, activation='sigmoid'))\n",
    "\n",
    "# compiling the sequential model\n",
    "model.compile(loss='binary_crossentropy', metrics=['accuracy'], optimizer='SGD')\n",
    "es = EarlyStopping(monitor='val_loss', mode='min', verbose=1, patience=10)\n",
    "\n",
    "# training the model for 10 epochs\n",
    "history=model.fit(x_train, y_train, batch_size=128, epochs=100, validation_data=(X_TEST, Y_TEST), callbacks=[es])"
   ]
  },
  {
   "cell_type": "code",
   "execution_count": null,
   "metadata": {},
   "outputs": [],
   "source": []
  }
 ],
 "metadata": {
  "kernelspec": {
   "display_name": "Python 3",
   "language": "python",
   "name": "python3"
  },
  "language_info": {
   "codemirror_mode": {
    "name": "ipython",
    "version": 3
   },
   "file_extension": ".py",
   "mimetype": "text/x-python",
   "name": "python",
   "nbconvert_exporter": "python",
   "pygments_lexer": "ipython3",
   "version": "3.8.5"
  }
 },
 "nbformat": 4,
 "nbformat_minor": 4
}
