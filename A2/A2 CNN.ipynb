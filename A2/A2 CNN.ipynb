{
 "cells": [
  {
   "cell_type": "markdown",
   "metadata": {},
   "source": [
    "# Import libraries"
   ]
  },
  {
   "cell_type": "code",
   "execution_count": 25,
   "metadata": {},
   "outputs": [],
   "source": [
    "import numpy as np\n",
    "from tqdm import tqdm\n",
    "import pandas as pd\n",
    "import cv2\n",
    "import os\n",
    "\n",
    "from sklearn import datasets\n",
    "from sklearn import preprocessing\n",
    "from sklearn.model_selection import train_test_split\n",
    "from sklearn.preprocessing import MinMaxScaler\n",
    "from sklearn.model_selection import train_test_split\n",
    "from sklearn.linear_model import LogisticRegression\n",
    "from sklearn.metrics import confusion_matrix, classification_report,accuracy_score\n",
    "\n",
    "import keras\n",
    "from keras.models import Sequential\n",
    "from keras.layers import Dense, Dropout, Flatten\n",
    "from keras.layers import Conv2D, MaxPooling2D\n",
    "from keras.utils import to_categorical\n",
    "from keras.preprocessing import image\n",
    "from keras.models import Sequential\n",
    "from keras.layers import Dense, Dropout, Conv2D, MaxPool2D\n",
    "from keras.utils import np_utils\n",
    "from keras.layers.normalization import BatchNormalization\n",
    "from tensorflow.keras.callbacks import EarlyStopping\n",
    "\n",
    "import matplotlib.pyplot as plt\n",
    "from sklearn.datasets import load_iris\n",
    "from sklearn.model_selection import train_test_split"
   ]
  },
  {
   "cell_type": "markdown",
   "metadata": {},
   "source": [
    "# Read dataset"
   ]
  },
  {
   "cell_type": "code",
   "execution_count": 2,
   "metadata": {},
   "outputs": [
    {
     "name": "stdout",
     "output_type": "stream",
     "text": [
      "/Users/mel/Documents/MRes/Machine Learning/Assignment/AMLS_20-21_SN12345678/A2\n",
      "/Users/mel/Documents/MRes/Machine Learning/Assignment/AMLS_20-21_SN12345678\n"
     ]
    },
    {
     "data": {
      "text/plain": [
       "<bound method NDFrame.head of       img_name  gender  smiling\n",
       "0        0.jpg      -1        1\n",
       "1        1.jpg      -1        1\n",
       "2        2.jpg       1       -1\n",
       "3        3.jpg      -1       -1\n",
       "4        4.jpg      -1       -1\n",
       "...        ...     ...      ...\n",
       "4995  4995.jpg       1        1\n",
       "4996  4996.jpg       1        1\n",
       "4997  4997.jpg       1        1\n",
       "4998  4998.jpg       1        1\n",
       "4999  4999.jpg       1        1\n",
       "\n",
       "[5000 rows x 3 columns]>"
      ]
     },
     "execution_count": 2,
     "metadata": {},
     "output_type": "execute_result"
    }
   ],
   "source": [
    "p = os.getcwd()\n",
    "print(p)\n",
    "\n",
    "os.system(p)\n",
    "os.chdir(\"..\")\n",
    "d = os.getcwd()\n",
    "print(d)\n",
    "\n",
    "dirname = os.path.dirname(d)\n",
    "csvfile = os.path.join(d, 'datasets/celeba/labels.csv')\n",
    "dirname = os.path.dirname(d)\n",
    "imgfile = os.path.join(d, 'datasets/celeba/img/')\n",
    "\n",
    "\n",
    "dataset = pd.read_csv(csvfile, sep='\\\\t', engine='python')\n",
    "dataset.head"
   ]
  },
  {
   "cell_type": "markdown",
   "metadata": {},
   "source": [
    "# Preprocess data"
   ]
  },
  {
   "cell_type": "code",
   "execution_count": 3,
   "metadata": {},
   "outputs": [
    {
     "name": "stderr",
     "output_type": "stream",
     "text": [
      "100%|██████████| 5000/5000 [00:14<00:00, 333.58it/s]\n"
     ]
    }
   ],
   "source": [
    "#Load images 50% of original size\n",
    "dataset_image = []\n",
    "for i in tqdm(range(dataset.shape[0])):\n",
    "    img = image.load_img(imgfile+dataset['img_name'][i], target_size=(109,89))\n",
    "    img = img.convert('L')\n",
    "    img = image.img_to_array(img)\n",
    "    img = img/255\n",
    "\n",
    "    dataset_image.append(img)"
   ]
  },
  {
   "cell_type": "markdown",
   "metadata": {},
   "source": [
    "# Load and split data"
   ]
  },
  {
   "cell_type": "code",
   "execution_count": 4,
   "metadata": {},
   "outputs": [],
   "source": [
    "# Load the data\n",
    "x = np.array(dataset_image)\n",
    "y = np.array(dataset['smiling']+1)/2"
   ]
  },
  {
   "cell_type": "code",
   "execution_count": 5,
   "metadata": {},
   "outputs": [],
   "source": [
    "# Split the data into training and testing(75% training and 25% testing data)\n",
    "x_train, x_test, y_train, y_test = train_test_split(x, y,shuffle=False,random_state=0)"
   ]
  },
  {
   "cell_type": "code",
   "execution_count": 6,
   "metadata": {},
   "outputs": [
    {
     "data": {
      "text/plain": [
       "(5000, 109, 89, 1)"
      ]
     },
     "execution_count": 6,
     "metadata": {},
     "output_type": "execute_result"
    }
   ],
   "source": [
    "x.shape"
   ]
  },
  {
   "cell_type": "code",
   "execution_count": 7,
   "metadata": {},
   "outputs": [],
   "source": [
    "#Change data type to 'float32'\n",
    "x_train = x_train.astype('float32')\n",
    "x_test = x_test.astype('float32')"
   ]
  },
  {
   "cell_type": "markdown",
   "metadata": {},
   "source": [
    "# Optimise batch size"
   ]
  },
  {
   "cell_type": "code",
   "execution_count": 25,
   "metadata": {},
   "outputs": [
    {
     "name": "stdout",
     "output_type": "stream",
     "text": [
      "Epoch 1/50\n",
      "30/30 [==============================] - 22s 741ms/step - loss: 0.6634 - accuracy: 0.6240 - val_loss: 0.6181 - val_accuracy: 0.6816\n",
      "Epoch 2/50\n",
      "30/30 [==============================] - 22s 744ms/step - loss: 0.4112 - accuracy: 0.8171 - val_loss: 2.4620 - val_accuracy: 0.4352\n",
      "Epoch 3/50\n",
      "30/30 [==============================] - 23s 755ms/step - loss: 0.1740 - accuracy: 0.9331 - val_loss: 0.8430 - val_accuracy: 0.5184\n",
      "Epoch 4/50\n",
      "30/30 [==============================] - 24s 811ms/step - loss: 0.0715 - accuracy: 0.9843 - val_loss: 0.3910 - val_accuracy: 0.8344\n",
      "Epoch 5/50\n",
      "30/30 [==============================] - 23s 760ms/step - loss: 0.0369 - accuracy: 0.9968 - val_loss: 0.4825 - val_accuracy: 0.7632\n",
      "Epoch 6/50\n",
      "30/30 [==============================] - 22s 743ms/step - loss: 0.0175 - accuracy: 1.0000 - val_loss: 0.3818 - val_accuracy: 0.8232\n",
      "Epoch 7/50\n",
      "30/30 [==============================] - 23s 756ms/step - loss: 0.0097 - accuracy: 1.0000 - val_loss: 0.4109 - val_accuracy: 0.7928\n",
      "Epoch 8/50\n",
      "30/30 [==============================] - 22s 735ms/step - loss: 0.0073 - accuracy: 1.0000 - val_loss: 0.3565 - val_accuracy: 0.8440\n",
      "Epoch 9/50\n",
      "30/30 [==============================] - 23s 775ms/step - loss: 0.0047 - accuracy: 1.0000 - val_loss: 0.3696 - val_accuracy: 0.8352\n",
      "Epoch 10/50\n",
      "30/30 [==============================] - 21s 706ms/step - loss: 0.0038 - accuracy: 1.0000 - val_loss: 0.3586 - val_accuracy: 0.8392\n",
      "Epoch 11/50\n",
      "30/30 [==============================] - 22s 749ms/step - loss: 0.0026 - accuracy: 1.0000 - val_loss: 0.3669 - val_accuracy: 0.8456\n",
      "Epoch 12/50\n",
      "30/30 [==============================] - 20s 681ms/step - loss: 0.0020 - accuracy: 1.0000 - val_loss: 0.3705 - val_accuracy: 0.8472\n",
      "Epoch 13/50\n",
      "30/30 [==============================] - 21s 696ms/step - loss: 0.0017 - accuracy: 1.0000 - val_loss: 0.3793 - val_accuracy: 0.8416\n",
      "Epoch 14/50\n",
      "30/30 [==============================] - 22s 728ms/step - loss: 0.0015 - accuracy: 1.0000 - val_loss: 0.3918 - val_accuracy: 0.8400\n",
      "Epoch 15/50\n",
      "30/30 [==============================] - 24s 803ms/step - loss: 0.0012 - accuracy: 1.0000 - val_loss: 0.4077 - val_accuracy: 0.8392\n",
      "Epoch 16/50\n",
      "30/30 [==============================] - 24s 808ms/step - loss: 0.0012 - accuracy: 1.0000 - val_loss: 0.4276 - val_accuracy: 0.8352\n",
      "Epoch 17/50\n",
      "30/30 [==============================] - 23s 778ms/step - loss: 0.0011 - accuracy: 1.0000 - val_loss: 0.4542 - val_accuracy: 0.8296\n",
      "Epoch 18/50\n",
      "30/30 [==============================] - 24s 785ms/step - loss: 9.4078e-04 - accuracy: 1.0000 - val_loss: 0.4609 - val_accuracy: 0.8336\n",
      "Epoch 00018: early stopping\n"
     ]
    },
    {
     "data": {
      "text/plain": [
       "<tensorflow.python.keras.callbacks.History at 0x14fcd7640>"
      ]
     },
     "execution_count": 25,
     "metadata": {},
     "output_type": "execute_result"
    }
   ],
   "source": [
    "#Evaluate batch size = 128\n",
    "\n",
    "# building a linear stack of layers with the sequential model\n",
    "model = Sequential()\n",
    "# convolutional layer\n",
    "model.add(Conv2D(25, kernel_size=(3,3), strides=(1,1), padding='valid', activation='relu', input_shape=(109,89,1)))\n",
    "model.add(MaxPool2D(pool_size=(1,1)))\n",
    "# flatten output of conv\n",
    "model.add(Flatten())\n",
    "# hidden layer\n",
    "model.add(Dense(100, activation='relu'))\n",
    "model.add(BatchNormalization())\n",
    "model.add(Dropout(0.1))\n",
    "# output layer\n",
    "model.add(Dense(1, activation='sigmoid'))\n",
    "\n",
    "# compiling the sequential model\n",
    "model.compile(loss='binary_crossentropy', metrics=['accuracy'], optimizer='adam')\n",
    "es = EarlyStopping(monitor='val_loss', mode='min', verbose=1, patience=10)\n",
    "\n",
    "# training the model for 10 epochs\n",
    "model.fit(x_train, y_train, batch_size=128, epochs=50, validation_data=(x_test, y_test), callbacks=[es])"
   ]
  },
  {
   "cell_type": "code",
   "execution_count": 26,
   "metadata": {},
   "outputs": [
    {
     "name": "stdout",
     "output_type": "stream",
     "text": [
      "Epoch 1/50\n",
      "59/59 [==============================] - 24s 399ms/step - loss: 0.5823 - accuracy: 0.7163 - val_loss: 0.9045 - val_accuracy: 0.5040\n",
      "Epoch 2/50\n",
      "59/59 [==============================] - 24s 398ms/step - loss: 0.2129 - accuracy: 0.9101 - val_loss: 0.4250 - val_accuracy: 0.8056\n",
      "Epoch 3/50\n",
      "59/59 [==============================] - 23s 395ms/step - loss: 0.0796 - accuracy: 0.9763 - val_loss: 0.3770 - val_accuracy: 0.8408\n",
      "Epoch 4/50\n",
      "59/59 [==============================] - 23s 388ms/step - loss: 0.0365 - accuracy: 0.9957 - val_loss: 0.3369 - val_accuracy: 0.8616\n",
      "Epoch 5/50\n",
      "59/59 [==============================] - 23s 396ms/step - loss: 0.0168 - accuracy: 0.9987 - val_loss: 0.4245 - val_accuracy: 0.8152\n",
      "Epoch 6/50\n",
      "59/59 [==============================] - 23s 391ms/step - loss: 0.0091 - accuracy: 1.0000 - val_loss: 0.4095 - val_accuracy: 0.8416\n",
      "Epoch 7/50\n",
      "59/59 [==============================] - 24s 400ms/step - loss: 0.0052 - accuracy: 1.0000 - val_loss: 0.3953 - val_accuracy: 0.8544\n",
      "Epoch 8/50\n",
      "59/59 [==============================] - 23s 388ms/step - loss: 0.0039 - accuracy: 1.0000 - val_loss: 0.4413 - val_accuracy: 0.8440\n",
      "Epoch 9/50\n",
      "59/59 [==============================] - 23s 391ms/step - loss: 0.0029 - accuracy: 1.0000 - val_loss: 0.4449 - val_accuracy: 0.8456\n",
      "Epoch 10/50\n",
      "59/59 [==============================] - 23s 390ms/step - loss: 0.0020 - accuracy: 1.0000 - val_loss: 0.4953 - val_accuracy: 0.8432\n",
      "Epoch 11/50\n",
      "59/59 [==============================] - 23s 391ms/step - loss: 0.0017 - accuracy: 1.0000 - val_loss: 0.5191 - val_accuracy: 0.8448\n",
      "Epoch 12/50\n",
      "59/59 [==============================] - 24s 403ms/step - loss: 0.0017 - accuracy: 1.0000 - val_loss: 0.5075 - val_accuracy: 0.8520\n",
      "Epoch 13/50\n",
      "59/59 [==============================] - 23s 395ms/step - loss: 0.0012 - accuracy: 1.0000 - val_loss: 0.5558 - val_accuracy: 0.8408\n",
      "Epoch 14/50\n",
      "59/59 [==============================] - 24s 399ms/step - loss: 0.0013 - accuracy: 1.0000 - val_loss: 0.5245 - val_accuracy: 0.8432\n",
      "Epoch 00014: early stopping\n"
     ]
    },
    {
     "data": {
      "text/plain": [
       "<tensorflow.python.keras.callbacks.History at 0x165b2e460>"
      ]
     },
     "execution_count": 26,
     "metadata": {},
     "output_type": "execute_result"
    }
   ],
   "source": [
    "#Evaluate batch size = 64\n",
    "\n",
    "# building a linear stack of layers with the sequential model\n",
    "model = Sequential()\n",
    "# convolutional layer\n",
    "model.add(Conv2D(25, kernel_size=(3,3), strides=(1,1), padding='valid', activation='relu', input_shape=(109,89,1)))\n",
    "model.add(MaxPool2D(pool_size=(1,1)))\n",
    "# flatten output of conv\n",
    "model.add(Flatten())\n",
    "# hidden layer\n",
    "model.add(Dense(100, activation='relu'))\n",
    "model.add(BatchNormalization())\n",
    "model.add(Dropout(0.1))\n",
    "# output layer\n",
    "model.add(Dense(1, activation='sigmoid'))\n",
    "\n",
    "# compiling the sequential model\n",
    "model.compile(loss='binary_crossentropy', metrics=['accuracy'], optimizer='adam')\n",
    "es = EarlyStopping(monitor='val_loss', mode='min', verbose=1, patience=10)\n",
    "\n",
    "# training the model for 10 epochs\n",
    "model.fit(x_train, y_train, batch_size=64, epochs=50, validation_data=(x_test, y_test), callbacks=[es])"
   ]
  },
  {
   "cell_type": "code",
   "execution_count": null,
   "metadata": {},
   "outputs": [
    {
     "name": "stdout",
     "output_type": "stream",
     "text": [
      "Epoch 1/100\n",
      "15/15 [==============================] - 30s 2s/step - loss: 1.1199 - accuracy: 0.5293 - val_loss: 1.7908 - val_accuracy: 0.4832\n",
      "Epoch 2/100\n",
      "15/15 [==============================] - 32s 2s/step - loss: 0.6579 - accuracy: 0.6339 - val_loss: 0.6178 - val_accuracy: 0.6536\n",
      "Epoch 3/100\n",
      "15/15 [==============================] - 50s 3s/step - loss: 0.4939 - accuracy: 0.7803 - val_loss: 0.5999 - val_accuracy: 0.6736\n",
      "Epoch 4/100\n",
      "15/15 [==============================] - 47s 3s/step - loss: 0.3025 - accuracy: 0.8747 - val_loss: 0.6600 - val_accuracy: 0.6064\n",
      "Epoch 5/100\n",
      "15/15 [==============================] - 44s 3s/step - loss: 0.2031 - accuracy: 0.9203 - val_loss: 0.7609 - val_accuracy: 0.5136\n",
      "Epoch 6/100\n",
      "15/15 [==============================] - 44s 3s/step - loss: 0.1235 - accuracy: 0.9608 - val_loss: 0.7435 - val_accuracy: 0.4896\n",
      "Epoch 7/100\n",
      "15/15 [==============================] - 45s 3s/step - loss: 0.0713 - accuracy: 0.9872 - val_loss: 0.5422 - val_accuracy: 0.7120\n",
      "Epoch 8/100\n",
      "15/15 [==============================] - 40s 3s/step - loss: 0.0445 - accuracy: 0.9968 - val_loss: 0.5011 - val_accuracy: 0.7952\n",
      "Epoch 9/100\n",
      "15/15 [==============================] - 43s 3s/step - loss: 0.0310 - accuracy: 0.9997 - val_loss: 0.4786 - val_accuracy: 0.8344\n",
      "Epoch 10/100\n",
      "15/15 [==============================] - 41s 3s/step - loss: 0.0209 - accuracy: 1.0000 - val_loss: 0.4624 - val_accuracy: 0.8512\n",
      "Epoch 11/100\n",
      "15/15 [==============================] - 41s 3s/step - loss: 0.0162 - accuracy: 1.0000 - val_loss: 0.4585 - val_accuracy: 0.8144\n",
      "Epoch 12/100\n",
      "15/15 [==============================] - 41s 3s/step - loss: 0.0126 - accuracy: 1.0000 - val_loss: 0.4556 - val_accuracy: 0.8216\n",
      "Epoch 13/100\n",
      "15/15 [==============================] - 41s 3s/step - loss: 0.0099 - accuracy: 1.0000 - val_loss: 0.4624 - val_accuracy: 0.7776\n",
      "Epoch 14/100\n",
      "15/15 [==============================] - 40s 3s/step - loss: 0.0083 - accuracy: 1.0000 - val_loss: 0.4596 - val_accuracy: 0.7808\n",
      "Epoch 15/100\n",
      "15/15 [==============================] - 42s 3s/step - loss: 0.0070 - accuracy: 1.0000 - val_loss: 0.4616 - val_accuracy: 0.7688\n",
      "Epoch 16/100\n",
      "15/15 [==============================] - 41s 3s/step - loss: 0.0058 - accuracy: 1.0000 - val_loss: 0.4611 - val_accuracy: 0.7640\n",
      "Epoch 17/100\n",
      "15/15 [==============================] - 42s 3s/step - loss: 0.0053 - accuracy: 1.0000 - val_loss: 0.4763 - val_accuracy: 0.7456\n",
      "Epoch 18/100\n",
      "15/15 [==============================] - 47s 3s/step - loss: 0.0046 - accuracy: 1.0000 - val_loss: 0.4421 - val_accuracy: 0.7808\n",
      "Epoch 19/100\n",
      "15/15 [==============================] - 44s 3s/step - loss: 0.0044 - accuracy: 1.0000 - val_loss: 0.4328 - val_accuracy: 0.7856\n",
      "Epoch 20/100\n",
      "15/15 [==============================] - 44s 3s/step - loss: 0.0038 - accuracy: 1.0000 - val_loss: 0.4189 - val_accuracy: 0.8000\n",
      "Epoch 21/100\n",
      "15/15 [==============================] - 44s 3s/step - loss: 0.0036 - accuracy: 1.0000 - val_loss: 0.4010 - val_accuracy: 0.8216\n",
      "Epoch 22/100\n",
      "15/15 [==============================] - 46s 3s/step - loss: 0.0033 - accuracy: 1.0000 - val_loss: 0.3944 - val_accuracy: 0.8264\n",
      "Epoch 23/100\n",
      "15/15 [==============================] - 49s 3s/step - loss: 0.0030 - accuracy: 1.0000 - val_loss: 0.3893 - val_accuracy: 0.8264\n",
      "Epoch 24/100\n",
      "15/15 [==============================] - 43s 3s/step - loss: 0.0027 - accuracy: 1.0000 - val_loss: 0.3857 - val_accuracy: 0.8312\n",
      "Epoch 25/100\n",
      "15/15 [==============================] - 44s 3s/step - loss: 0.0027 - accuracy: 1.0000 - val_loss: 0.3761 - val_accuracy: 0.8304\n",
      "Epoch 26/100\n",
      "15/15 [==============================] - 45s 3s/step - loss: 0.0024 - accuracy: 1.0000 - val_loss: 0.3721 - val_accuracy: 0.8296\n",
      "Epoch 27/100\n",
      "15/15 [==============================] - 45s 3s/step - loss: 0.0023 - accuracy: 1.0000 - val_loss: 0.3692 - val_accuracy: 0.8304\n",
      "Epoch 28/100\n",
      "14/15 [===========================>..] - ETA: 2s - loss: 0.0023 - accuracy: 1.0000"
     ]
    }
   ],
   "source": [
    "#Evaluate batch size = 256\n",
    "\n",
    "# building a linear stack of layers with the sequential model\n",
    "model = Sequential()\n",
    "# convolutional layer\n",
    "model.add(Conv2D(25, kernel_size=(3,3), strides=(1,1), padding='valid', activation='relu', input_shape=(109,89,1)))\n",
    "model.add(MaxPool2D(pool_size=(1,1)))\n",
    "# flatten output of conv\n",
    "model.add(Flatten())\n",
    "# hidden layer\n",
    "model.add(Dense(100, activation='relu'))\n",
    "model.add(BatchNormalization())\n",
    "model.add(Dropout(0.1))\n",
    "# output layer\n",
    "model.add(Dense(1, activation='sigmoid'))\n",
    "\n",
    "# compiling the sequential model\n",
    "model.compile(loss='binary_crossentropy', metrics=['accuracy'], optimizer='adam')\n",
    "es = EarlyStopping(monitor='val_loss', mode='min', verbose=1, patience=10)\n",
    "\n",
    "# training the model for 10 epochs\n",
    "model.fit(x_train, y_train, batch_size=256, epochs=100, validation_data=(x_test, y_test), callbacks=[es])"
   ]
  },
  {
   "cell_type": "code",
   "execution_count": 9,
   "metadata": {},
   "outputs": [],
   "source": [
    "#Batch size 64 achieves the highest accuracy so is selected"
   ]
  },
  {
   "cell_type": "markdown",
   "metadata": {},
   "source": [
    "# Optimise optimiser"
   ]
  },
  {
   "cell_type": "code",
   "execution_count": 8,
   "metadata": {},
   "outputs": [
    {
     "name": "stdout",
     "output_type": "stream",
     "text": [
      "Epoch 1/100\n",
      "59/59 [==============================] - 24s 414ms/step - loss: 0.5874 - accuracy: 0.7125 - val_loss: 0.6445 - val_accuracy: 0.7704\n",
      "Epoch 2/100\n",
      "59/59 [==============================] - 25s 419ms/step - loss: 0.3130 - accuracy: 0.8739 - val_loss: 0.6645 - val_accuracy: 0.4728\n",
      "Epoch 3/100\n",
      "59/59 [==============================] - 22s 378ms/step - loss: 0.1958 - accuracy: 0.9349 - val_loss: 0.5799 - val_accuracy: 0.7816\n",
      "Epoch 4/100\n",
      "59/59 [==============================] - 22s 380ms/step - loss: 0.1348 - accuracy: 0.9667 - val_loss: 0.5288 - val_accuracy: 0.8152\n",
      "Epoch 5/100\n",
      "59/59 [==============================] - 23s 381ms/step - loss: 0.0966 - accuracy: 0.9848 - val_loss: 0.4880 - val_accuracy: 0.8208\n",
      "Epoch 6/100\n",
      "59/59 [==============================] - 22s 377ms/step - loss: 0.0697 - accuracy: 0.9952 - val_loss: 0.4469 - val_accuracy: 0.8016\n",
      "Epoch 7/100\n",
      "59/59 [==============================] - 21s 364ms/step - loss: 0.0521 - accuracy: 0.9979 - val_loss: 0.3794 - val_accuracy: 0.8432\n",
      "Epoch 8/100\n",
      "59/59 [==============================] - 21s 360ms/step - loss: 0.0442 - accuracy: 0.9984 - val_loss: 0.3590 - val_accuracy: 0.8384\n",
      "Epoch 9/100\n",
      "59/59 [==============================] - 23s 383ms/step - loss: 0.0344 - accuracy: 1.0000 - val_loss: 0.3359 - val_accuracy: 0.8512\n",
      "Epoch 10/100\n",
      "59/59 [==============================] - 22s 366ms/step - loss: 0.0257 - accuracy: 1.0000 - val_loss: 0.4174 - val_accuracy: 0.8160\n",
      "Epoch 11/100\n",
      "59/59 [==============================] - 21s 363ms/step - loss: 0.0237 - accuracy: 1.0000 - val_loss: 0.6969 - val_accuracy: 0.7288\n",
      "Epoch 12/100\n",
      "59/59 [==============================] - 21s 361ms/step - loss: 0.0264 - accuracy: 0.9997 - val_loss: 0.3625 - val_accuracy: 0.8464\n",
      "Epoch 13/100\n",
      "59/59 [==============================] - 21s 362ms/step - loss: 0.0184 - accuracy: 1.0000 - val_loss: 0.3961 - val_accuracy: 0.8368\n",
      "Epoch 14/100\n",
      "59/59 [==============================] - 22s 377ms/step - loss: 0.0172 - accuracy: 0.9997 - val_loss: 0.4417 - val_accuracy: 0.8248\n",
      "Epoch 15/100\n",
      "59/59 [==============================] - 22s 376ms/step - loss: 0.0168 - accuracy: 1.0000 - val_loss: 0.5032 - val_accuracy: 0.8128\n",
      "Epoch 16/100\n",
      "59/59 [==============================] - 22s 379ms/step - loss: 0.0141 - accuracy: 0.9997 - val_loss: 0.3932 - val_accuracy: 0.8536\n",
      "Epoch 17/100\n",
      "59/59 [==============================] - 22s 376ms/step - loss: 0.0203 - accuracy: 1.0000 - val_loss: 0.4805 - val_accuracy: 0.8184\n",
      "Epoch 18/100\n",
      "59/59 [==============================] - 22s 368ms/step - loss: 0.0142 - accuracy: 1.0000 - val_loss: 0.4203 - val_accuracy: 0.8344\n",
      "Epoch 19/100\n",
      "59/59 [==============================] - 21s 362ms/step - loss: 0.0152 - accuracy: 1.0000 - val_loss: 0.6118 - val_accuracy: 0.8016\n",
      "Epoch 00019: early stopping\n"
     ]
    },
    {
     "data": {
      "text/plain": [
       "<tensorflow.python.keras.callbacks.History at 0x16fd53190>"
      ]
     },
     "execution_count": 8,
     "metadata": {},
     "output_type": "execute_result"
    }
   ],
   "source": [
    "#Evaluate using SGD optimser\n",
    "\n",
    "# building a linear stack of layers with the sequential model\n",
    "model = Sequential()\n",
    "# convolutional layer\n",
    "model.add(Conv2D(25, kernel_size=(3,3), strides=(1,1), padding='valid', activation='relu', input_shape=(109,89,1)))\n",
    "model.add(MaxPool2D(pool_size=(1,1)))\n",
    "# flatten output of conv\n",
    "model.add(Flatten())\n",
    "# hidden layer\n",
    "model.add(Dense(100, activation='relu'))\n",
    "model.add(BatchNormalization())\n",
    "model.add(Dropout(0.1))\n",
    "# output layer\n",
    "model.add(Dense(1, activation='sigmoid'))\n",
    "\n",
    "# compiling the sequential model\n",
    "model.compile(loss='binary_crossentropy', metrics=['accuracy'], optimizer='SGD')\n",
    "es = EarlyStopping(monitor='val_loss', mode='min', verbose=1, patience=10)\n",
    "\n",
    "# training the model for 10 epochs\n",
    "model.fit(x_train, y_train, batch_size=64, epochs=100, validation_data=(x_test, y_test), callbacks=[es])"
   ]
  },
  {
   "cell_type": "code",
   "execution_count": 9,
   "metadata": {},
   "outputs": [
    {
     "name": "stdout",
     "output_type": "stream",
     "text": [
      "Epoch 1/100\n",
      "59/59 [==============================] - 28s 482ms/step - loss: 0.5164 - accuracy: 0.7440 - val_loss: 0.8702 - val_accuracy: 0.5136\n",
      "Epoch 2/100\n",
      "59/59 [==============================] - 28s 473ms/step - loss: 0.2053 - accuracy: 0.9157 - val_loss: 0.5853 - val_accuracy: 0.6760\n",
      "Epoch 3/100\n",
      "59/59 [==============================] - 39s 660ms/step - loss: 0.1064 - accuracy: 0.9677 - val_loss: 0.4153 - val_accuracy: 0.7968\n",
      "Epoch 4/100\n",
      "59/59 [==============================] - 29s 498ms/step - loss: 0.0592 - accuracy: 0.9877 - val_loss: 0.3399 - val_accuracy: 0.8632\n",
      "Epoch 5/100\n",
      "59/59 [==============================] - 28s 480ms/step - loss: 0.0265 - accuracy: 0.9949 - val_loss: 0.4047 - val_accuracy: 0.8400\n",
      "Epoch 6/100\n",
      "59/59 [==============================] - 27s 456ms/step - loss: 0.0217 - accuracy: 0.9973 - val_loss: 0.4227 - val_accuracy: 0.8256\n",
      "Epoch 7/100\n",
      "59/59 [==============================] - 27s 458ms/step - loss: 0.0183 - accuracy: 0.9992 - val_loss: 0.8175 - val_accuracy: 0.7896\n",
      "Epoch 8/100\n",
      "59/59 [==============================] - 27s 460ms/step - loss: 0.0063 - accuracy: 0.9997 - val_loss: 0.4808 - val_accuracy: 0.8456\n",
      "Epoch 9/100\n",
      "59/59 [==============================] - 28s 468ms/step - loss: 0.0030 - accuracy: 1.0000 - val_loss: 1.1596 - val_accuracy: 0.7568\n",
      "Epoch 10/100\n",
      "59/59 [==============================] - 27s 455ms/step - loss: 0.0040 - accuracy: 0.9995 - val_loss: 0.6637 - val_accuracy: 0.8352\n",
      "Epoch 11/100\n",
      "59/59 [==============================] - 27s 463ms/step - loss: 0.0030 - accuracy: 0.9997 - val_loss: 0.6849 - val_accuracy: 0.8384\n",
      "Epoch 12/100\n",
      "59/59 [==============================] - 27s 456ms/step - loss: 0.0046 - accuracy: 0.9992 - val_loss: 0.7206 - val_accuracy: 0.8376\n",
      "Epoch 13/100\n",
      "59/59 [==============================] - 27s 459ms/step - loss: 0.0043 - accuracy: 0.9989 - val_loss: 1.8170 - val_accuracy: 0.7448\n",
      "Epoch 14/100\n",
      "59/59 [==============================] - 27s 461ms/step - loss: 0.0023 - accuracy: 0.9997 - val_loss: 1.3971 - val_accuracy: 0.7480\n",
      "Epoch 00014: early stopping\n"
     ]
    },
    {
     "data": {
      "text/plain": [
       "<tensorflow.python.keras.callbacks.History at 0x1222d29a0>"
      ]
     },
     "execution_count": 9,
     "metadata": {},
     "output_type": "execute_result"
    }
   ],
   "source": [
    "#Evaluate using 'RMSprop' optimser\n",
    "\n",
    "# building a linear stack of layers with the sequential model\n",
    "model = Sequential()\n",
    "# convolutional layer\n",
    "model.add(Conv2D(25, kernel_size=(3,3), strides=(1,1), padding='valid', activation='relu', input_shape=(109,89,1)))\n",
    "model.add(MaxPool2D(pool_size=(1,1)))\n",
    "# flatten output of conv\n",
    "model.add(Flatten())\n",
    "# hidden layer\n",
    "model.add(Dense(100, activation='relu'))\n",
    "model.add(BatchNormalization())\n",
    "model.add(Dropout(0.1))\n",
    "# output layer\n",
    "model.add(Dense(1, activation='sigmoid'))\n",
    "\n",
    "# compiling the sequential model\n",
    "model.compile(loss='binary_crossentropy', metrics=['accuracy'], optimizer='RMSprop')\n",
    "es = EarlyStopping(monitor='val_loss', mode='min', verbose=1, patience=10)\n",
    "\n",
    "# training the model for 10 epochs\n",
    "model.fit(x_train, y_train, batch_size=64, epochs=100, validation_data=(x_test, y_test), callbacks=[es])"
   ]
  },
  {
   "cell_type": "code",
   "execution_count": 10,
   "metadata": {},
   "outputs": [],
   "source": [
    "#Adam has highest accuracy so is selected"
   ]
  },
  {
   "cell_type": "markdown",
   "metadata": {},
   "source": [
    "# Investigating number of convolutional layers"
   ]
  },
  {
   "cell_type": "code",
   "execution_count": 22,
   "metadata": {},
   "outputs": [
    {
     "name": "stdout",
     "output_type": "stream",
     "text": [
      "Epoch 1/100\n",
      "59/59 [==============================] - 64s 1s/step - loss: 0.5643 - accuracy: 0.7269 - val_loss: 0.8117 - val_accuracy: 0.5384\n",
      "Epoch 2/100\n",
      "59/59 [==============================] - 61s 1s/step - loss: 0.2645 - accuracy: 0.8915 - val_loss: 0.3941 - val_accuracy: 0.8208\n",
      "Epoch 3/100\n",
      "59/59 [==============================] - 59s 1s/step - loss: 0.1766 - accuracy: 0.9381 - val_loss: 0.8329 - val_accuracy: 0.6152\n",
      "Epoch 4/100\n",
      "59/59 [==============================] - 60s 1s/step - loss: 0.1191 - accuracy: 0.9643 - val_loss: 0.9321 - val_accuracy: 0.6376\n",
      "Epoch 5/100\n",
      "59/59 [==============================] - 60s 1s/step - loss: 0.0534 - accuracy: 0.9920 - val_loss: 0.3393 - val_accuracy: 0.8504\n",
      "Epoch 6/100\n",
      "59/59 [==============================] - 60s 1s/step - loss: 0.0299 - accuracy: 0.9984 - val_loss: 0.3556 - val_accuracy: 0.8440\n",
      "Epoch 7/100\n",
      "59/59 [==============================] - 61s 1s/step - loss: 0.0149 - accuracy: 1.0000 - val_loss: 0.3650 - val_accuracy: 0.8464\n",
      "Epoch 8/100\n",
      "59/59 [==============================] - 60s 1s/step - loss: 0.0106 - accuracy: 0.9997 - val_loss: 0.3935 - val_accuracy: 0.8400\n",
      "Epoch 9/100\n",
      "59/59 [==============================] - 59s 1s/step - loss: 0.0067 - accuracy: 1.0000 - val_loss: 0.4221 - val_accuracy: 0.8376\n",
      "Epoch 10/100\n",
      "59/59 [==============================] - 60s 1s/step - loss: 0.0046 - accuracy: 1.0000 - val_loss: 0.5306 - val_accuracy: 0.8208\n",
      "Epoch 11/100\n",
      "59/59 [==============================] - 61s 1s/step - loss: 0.0032 - accuracy: 1.0000 - val_loss: 0.4704 - val_accuracy: 0.8376\n",
      "Epoch 12/100\n",
      "59/59 [==============================] - 60s 1s/step - loss: 0.0026 - accuracy: 1.0000 - val_loss: 0.4904 - val_accuracy: 0.8368\n",
      "Epoch 13/100\n",
      "59/59 [==============================] - 59s 1s/step - loss: 0.0019 - accuracy: 1.0000 - val_loss: 0.5565 - val_accuracy: 0.8280\n",
      "Epoch 14/100\n",
      "59/59 [==============================] - 60s 1s/step - loss: 0.0016 - accuracy: 1.0000 - val_loss: 0.5313 - val_accuracy: 0.8336\n",
      "Epoch 15/100\n",
      "59/59 [==============================] - 59s 1s/step - loss: 0.0014 - accuracy: 1.0000 - val_loss: 0.5615 - val_accuracy: 0.8312\n",
      "Epoch 00015: early stopping\n"
     ]
    }
   ],
   "source": [
    "#add second convolutional layer\n",
    "\n",
    "# building a linear stack of layers with the sequential model\n",
    "model = Sequential()\n",
    "# convolutional layer\n",
    "model.add(Conv2D(25, kernel_size=(3,3), strides=(1,1), padding='valid', activation='relu', input_shape=(109,89,1)))\n",
    "model.add(MaxPool2D(pool_size=(1,1)))\n",
    "# convolutional layer\n",
    "model.add(Conv2D(25, kernel_size=(3,3), strides=(1,1), padding='valid', activation='relu', input_shape=(109,89,1)))\n",
    "model.add(MaxPool2D(pool_size=(1,1)))\n",
    "# flatten output of conv\n",
    "model.add(Flatten())\n",
    "# hidden layer\n",
    "model.add(Dense(100, activation='relu'))\n",
    "model.add(BatchNormalization())\n",
    "model.add(Dropout(0.1))\n",
    "# output layer\n",
    "model.add(Dense(1, activation='sigmoid'))\n",
    "\n",
    "# compiling the sequential model\n",
    "model.compile(loss='binary_crossentropy', metrics=['accuracy'], optimizer='Adam')\n",
    "es = EarlyStopping(monitor='val_loss', mode='min', verbose=1, patience=10)\n",
    "\n",
    "# training the model for 10 epochs\n",
    "history=model.fit(x_train, y_train, batch_size=64, epochs=100, validation_data=(x_test, y_test), callbacks=[es])"
   ]
  },
  {
   "cell_type": "code",
   "execution_count": 11,
   "metadata": {},
   "outputs": [
    {
     "name": "stdout",
     "output_type": "stream",
     "text": [
      "Epoch 1/100\n",
      "59/59 [==============================] - 104s 2s/step - loss: 0.4494 - accuracy: 0.7749 - val_loss: 1.3511 - val_accuracy: 0.5728\n",
      "Epoch 2/100\n",
      "59/59 [==============================] - 96s 2s/step - loss: 0.2299 - accuracy: 0.9045 - val_loss: 0.3186 - val_accuracy: 0.8632\n",
      "Epoch 3/100\n",
      "59/59 [==============================] - 95s 2s/step - loss: 0.1304 - accuracy: 0.9520 - val_loss: 0.6533 - val_accuracy: 0.7312\n",
      "Epoch 4/100\n",
      "59/59 [==============================] - 99s 2s/step - loss: 0.0747 - accuracy: 0.9771 - val_loss: 0.8678 - val_accuracy: 0.6960\n",
      "Epoch 5/100\n",
      "59/59 [==============================] - 94s 2s/step - loss: 0.0305 - accuracy: 0.9957 - val_loss: 0.3910 - val_accuracy: 0.8472\n",
      "Epoch 6/100\n",
      "59/59 [==============================] - 95s 2s/step - loss: 0.0138 - accuracy: 0.9987 - val_loss: 0.3942 - val_accuracy: 0.8496\n",
      "Epoch 7/100\n",
      "59/59 [==============================] - 95s 2s/step - loss: 0.0090 - accuracy: 0.9992 - val_loss: 0.4160 - val_accuracy: 0.8472\n",
      "Epoch 8/100\n",
      "59/59 [==============================] - 95s 2s/step - loss: 0.0045 - accuracy: 1.0000 - val_loss: 0.4260 - val_accuracy: 0.8488\n",
      "Epoch 9/100\n",
      "59/59 [==============================] - 95s 2s/step - loss: 0.0031 - accuracy: 1.0000 - val_loss: 0.4681 - val_accuracy: 0.8440\n",
      "Epoch 10/100\n",
      "59/59 [==============================] - 94s 2s/step - loss: 0.0021 - accuracy: 1.0000 - val_loss: 0.4802 - val_accuracy: 0.8504\n",
      "Epoch 11/100\n",
      "59/59 [==============================] - 95s 2s/step - loss: 0.0015 - accuracy: 1.0000 - val_loss: 0.5071 - val_accuracy: 0.8416\n",
      "Epoch 12/100\n",
      "59/59 [==============================] - 95s 2s/step - loss: 0.0012 - accuracy: 1.0000 - val_loss: 0.5193 - val_accuracy: 0.8432\n",
      "Epoch 00012: early stopping\n"
     ]
    },
    {
     "data": {
      "text/plain": [
       "<tensorflow.python.keras.callbacks.History at 0x16a4ec4f0>"
      ]
     },
     "execution_count": 11,
     "metadata": {},
     "output_type": "execute_result"
    }
   ],
   "source": [
    "#add 3rd convolutional layer\n",
    "\n",
    "# building a linear stack of layers with the sequential model\n",
    "model = Sequential()\n",
    "# convolutional layer\n",
    "model.add(Conv2D(25, kernel_size=(3,3), strides=(1,1), padding='valid', activation='relu', input_shape=(109,89,1)))\n",
    "model.add(MaxPool2D(pool_size=(1,1)))\n",
    "# convolutional layer\n",
    "model.add(Conv2D(25, kernel_size=(3,3), strides=(1,1), padding='valid', activation='relu', input_shape=(109,89,1)))\n",
    "model.add(MaxPool2D(pool_size=(1,1)))\n",
    "# convolutional layer\n",
    "model.add(Conv2D(25, kernel_size=(3,3), strides=(1,1), padding='valid', activation='relu', input_shape=(109,89,1)))\n",
    "model.add(MaxPool2D(pool_size=(1,1)))\n",
    "# flatten output of conv\n",
    "model.add(Flatten())\n",
    "# hidden layer\n",
    "model.add(Dense(100, activation='relu'))\n",
    "model.add(BatchNormalization())\n",
    "model.add(Dropout(0.1))\n",
    "# output layer\n",
    "model.add(Dense(1, activation='sigmoid'))\n",
    "\n",
    "# compiling the sequential model\n",
    "model.compile(loss='binary_crossentropy', metrics=['accuracy'], optimizer='Adam')\n",
    "es = EarlyStopping(monitor='val_loss', mode='min', verbose=1, patience=10)\n",
    "\n",
    "# training the model for 10 epochs\n",
    "model.fit(x_train, y_train, batch_size=64, epochs=100, validation_data=(x_test, y_test), callbacks=[es])"
   ]
  },
  {
   "cell_type": "markdown",
   "metadata": {},
   "source": [
    "# Investigating number of hidden layers"
   ]
  },
  {
   "cell_type": "code",
   "execution_count": 18,
   "metadata": {},
   "outputs": [
    {
     "name": "stdout",
     "output_type": "stream",
     "text": [
      "Epoch 1/100\n",
      "59/59 [==============================] - 106s 2s/step - loss: 0.4996 - accuracy: 0.7309 - val_loss: 0.4083 - val_accuracy: 0.8192\n",
      "Epoch 2/100\n",
      "59/59 [==============================] - 105s 2s/step - loss: 0.2388 - accuracy: 0.9099 - val_loss: 0.3775 - val_accuracy: 0.8296\n",
      "Epoch 3/100\n",
      "59/59 [==============================] - 105s 2s/step - loss: 0.1632 - accuracy: 0.9381 - val_loss: 0.4201 - val_accuracy: 0.8280\n",
      "Epoch 4/100\n",
      "59/59 [==============================] - 102s 2s/step - loss: 0.0964 - accuracy: 0.9664 - val_loss: 2.1640 - val_accuracy: 0.5504\n",
      "Epoch 5/100\n",
      "59/59 [==============================] - 94s 2s/step - loss: 0.0637 - accuracy: 0.9776 - val_loss: 0.4717 - val_accuracy: 0.8352\n",
      "Epoch 6/100\n",
      "59/59 [==============================] - 94s 2s/step - loss: 0.0251 - accuracy: 0.9925 - val_loss: 0.5822 - val_accuracy: 0.8448\n",
      "Epoch 7/100\n",
      "59/59 [==============================] - 94s 2s/step - loss: 0.0136 - accuracy: 0.9949 - val_loss: 0.5963 - val_accuracy: 0.8456\n",
      "Epoch 8/100\n",
      "59/59 [==============================] - 94s 2s/step - loss: 0.0111 - accuracy: 0.9971 - val_loss: 0.9689 - val_accuracy: 0.8184\n",
      "Epoch 9/100\n",
      "59/59 [==============================] - 94s 2s/step - loss: 0.0097 - accuracy: 0.9976 - val_loss: 0.7545 - val_accuracy: 0.8456\n",
      "Epoch 10/100\n",
      "59/59 [==============================] - 94s 2s/step - loss: 0.0053 - accuracy: 0.9987 - val_loss: 0.9008 - val_accuracy: 0.8368\n",
      "Epoch 11/100\n",
      "59/59 [==============================] - 96s 2s/step - loss: 0.0041 - accuracy: 0.9992 - val_loss: 0.8043 - val_accuracy: 0.8384\n",
      "Epoch 12/100\n",
      "59/59 [==============================] - 95s 2s/step - loss: 0.0032 - accuracy: 0.9992 - val_loss: 0.7922 - val_accuracy: 0.8424\n",
      "Epoch 00012: early stopping\n"
     ]
    }
   ],
   "source": [
    "#Evaluating 2 hidden layers\n",
    "\n",
    "# building a linear stack of layers with the sequential model\n",
    "model = Sequential()\n",
    "# convolutional layer\n",
    "model.add(Conv2D(25, kernel_size=(3,3), strides=(1,1), padding='valid', activation='relu', input_shape=(109,89,1)))\n",
    "model.add(MaxPool2D(pool_size=(1,1)))\n",
    "# convolutional layer\n",
    "model.add(Conv2D(25, kernel_size=(3,3), strides=(1,1), padding='valid', activation='relu', input_shape=(109,89,1)))\n",
    "model.add(MaxPool2D(pool_size=(1,1)))\n",
    "# convolutional layer\n",
    "model.add(Conv2D(25, kernel_size=(3,3), strides=(1,1), padding='valid', activation='relu', input_shape=(109,89,1)))\n",
    "model.add(MaxPool2D(pool_size=(1,1)))\n",
    "# flatten output of conv\n",
    "model.add(Flatten())\n",
    "# hidden layer\n",
    "model.add(Dense(100, activation='relu'))\n",
    "model.add(BatchNormalization())\n",
    "model.add(Dropout(0.1))\n",
    "# hidden layer\n",
    "model.add(Dense(100, activation='relu'))\n",
    "model.add(Dropout(0.1))\n",
    "# output layer\n",
    "model.add(Dense(1, activation='sigmoid'))\n",
    "\n",
    "# compiling the sequential model\n",
    "model.compile(loss='binary_crossentropy', metrics=['accuracy'], optimizer='Adam')\n",
    "es = EarlyStopping(monitor='val_loss', mode='min', verbose=1, patience=10)\n",
    "\n",
    "# training the model for 10 epochs\n",
    "history=model.fit(x_train, y_train, batch_size=64, epochs=100, validation_data=(x_test, y_test), callbacks=[es])"
   ]
  },
  {
   "cell_type": "code",
   "execution_count": 12,
   "metadata": {
    "scrolled": false
   },
   "outputs": [
    {
     "name": "stdout",
     "output_type": "stream",
     "text": [
      "Epoch 1/100\n",
      "59/59 [==============================] - 97s 2s/step - loss: 0.4633 - accuracy: 0.7637 - val_loss: 0.9725 - val_accuracy: 0.4952\n",
      "Epoch 2/100\n",
      "59/59 [==============================] - 95s 2s/step - loss: 0.2360 - accuracy: 0.9040 - val_loss: 0.3534 - val_accuracy: 0.8392\n",
      "Epoch 3/100\n",
      "59/59 [==============================] - 95s 2s/step - loss: 0.1322 - accuracy: 0.9480 - val_loss: 0.9161 - val_accuracy: 0.7200\n",
      "Epoch 4/100\n",
      "59/59 [==============================] - 95s 2s/step - loss: 0.0693 - accuracy: 0.9773 - val_loss: 0.6021 - val_accuracy: 0.8384\n",
      "Epoch 5/100\n",
      "59/59 [==============================] - 95s 2s/step - loss: 0.0446 - accuracy: 0.9867 - val_loss: 1.9987 - val_accuracy: 0.6648\n",
      "Epoch 6/100\n",
      "59/59 [==============================] - 94s 2s/step - loss: 0.0318 - accuracy: 0.9904 - val_loss: 3.6190 - val_accuracy: 0.5768\n",
      "Epoch 7/100\n",
      "59/59 [==============================] - 95s 2s/step - loss: 0.0234 - accuracy: 0.9917 - val_loss: 0.9253 - val_accuracy: 0.8304\n",
      "Epoch 8/100\n",
      "59/59 [==============================] - 95s 2s/step - loss: 0.0163 - accuracy: 0.9944 - val_loss: 0.8740 - val_accuracy: 0.8240\n",
      "Epoch 9/100\n",
      "59/59 [==============================] - 95s 2s/step - loss: 0.0256 - accuracy: 0.9904 - val_loss: 1.0270 - val_accuracy: 0.8248\n",
      "Epoch 10/100\n",
      "59/59 [==============================] - 95s 2s/step - loss: 0.0225 - accuracy: 0.9912 - val_loss: 1.1507 - val_accuracy: 0.7784\n",
      "Epoch 11/100\n",
      "59/59 [==============================] - 94s 2s/step - loss: 0.0213 - accuracy: 0.9925 - val_loss: 0.8674 - val_accuracy: 0.8512\n",
      "Epoch 12/100\n",
      "59/59 [==============================] - 95s 2s/step - loss: 0.0072 - accuracy: 0.9973 - val_loss: 0.8311 - val_accuracy: 0.8344\n",
      "Epoch 00012: early stopping\n"
     ]
    }
   ],
   "source": [
    "#Evaluating 3 hidden layers\n",
    "\n",
    "# building a linear stack of layers with the sequential model\n",
    "model = Sequential()\n",
    "# convolutional layer\n",
    "model.add(Conv2D(25, kernel_size=(3,3), strides=(1,1), padding='valid', activation='relu', input_shape=(109,89,1)))\n",
    "model.add(MaxPool2D(pool_size=(1,1)))\n",
    "# convolutional layer\n",
    "model.add(Conv2D(25, kernel_size=(3,3), strides=(1,1), padding='valid', activation='relu', input_shape=(109,89,1)))\n",
    "model.add(MaxPool2D(pool_size=(1,1)))\n",
    "# convolutional layer\n",
    "model.add(Conv2D(25, kernel_size=(3,3), strides=(1,1), padding='valid', activation='relu', input_shape=(109,89,1)))\n",
    "model.add(MaxPool2D(pool_size=(1,1)))\n",
    "# flatten output of conv\n",
    "model.add(Flatten())\n",
    "# hidden layer\n",
    "model.add(Dense(100, activation='relu'))\n",
    "model.add(BatchNormalization())\n",
    "model.add(Dropout(0.1))\n",
    "# hidden layer\n",
    "model.add(Dense(100, activation='relu'))\n",
    "model.add(Dropout(0.1))\n",
    "# hidden layer\n",
    "model.add(Dense(100, activation='relu'))\n",
    "model.add(Dropout(0.1))\n",
    "# output layer\n",
    "model.add(Dense(1, activation='sigmoid'))\n",
    "\n",
    "# compiling the sequential model\n",
    "model.compile(loss='binary_crossentropy', metrics=['accuracy'], optimizer='Adam')\n",
    "es = EarlyStopping(monitor='val_loss', mode='min', verbose=1, patience=10)\n",
    "\n",
    "# training the model for 10 epochs\n",
    "model.fit(x_train, y_train, batch_size=64, epochs=100, validation_data=(x_test, y_test), callbacks=[es])"
   ]
  },
  {
   "cell_type": "code",
   "execution_count": 14,
   "metadata": {},
   "outputs": [],
   "source": [
    "#2 hidden layers selected"
   ]
  },
  {
   "cell_type": "markdown",
   "metadata": {},
   "source": [
    "# Training convergence on optimised model"
   ]
  },
  {
   "cell_type": "code",
   "execution_count": 17,
   "metadata": {},
   "outputs": [],
   "source": [
    "#Model with 3 colvolutional layers, 2 hidden layers, Adam optimiser"
   ]
  },
  {
   "cell_type": "code",
   "execution_count": 13,
   "metadata": {},
   "outputs": [
    {
     "name": "stdout",
     "output_type": "stream",
     "text": [
      "dict_keys(['loss', 'accuracy', 'val_loss', 'val_accuracy'])\n"
     ]
    },
    {
     "data": {
      "image/png": "[encoded data removed]",
      "text/plain": [
       "<Figure size 432x288 with 1 Axes>"
      ]
     },
     "metadata": {
      "needs_background": "light"
     },
     "output_type": "display_data"
    },
    {
     "data": {
      "image/png": "[encoded data removed]",
      "text/plain": [
       "<Figure size 432x288 with 1 Axes>"
      ]
     },
     "metadata": {
      "needs_background": "light"
     },
     "output_type": "display_data"
    }
   ],
   "source": [
    "# list all data in history\n",
    "print(history.history.keys())\n",
    "# summarize history for accuracy\n",
    "plt.plot(history.history['accuracy'])\n",
    "plt.plot(history.history['val_accuracy'])\n",
    "plt.title('model accuracy')\n",
    "plt.ylabel('accuracy')\n",
    "plt.xlabel('epoch')\n",
    "plt.legend(['train', 'test'], loc='upper left')\n",
    "plt.show()\n",
    "# summarize history for loss\n",
    "plt.plot(history.history['loss'])\n",
    "plt.plot(history.history['val_loss'])\n",
    "plt.title('model loss')\n",
    "plt.ylabel('loss')\n",
    "plt.xlabel('epoch')\n",
    "plt.legend(['train', 'test'], loc='upper left')\n",
    "plt.show()"
   ]
  },
  {
   "cell_type": "markdown",
   "metadata": {},
   "source": [
    "# Accuracy on test set with optimised CNN"
   ]
  },
  {
   "cell_type": "code",
   "execution_count": null,
   "metadata": {},
   "outputs": [],
   "source": [
    "#remove dropout"
   ]
  },
  {
   "cell_type": "code",
   "execution_count": 19,
   "metadata": {},
   "outputs": [],
   "source": [
    "dirname = os.path.dirname(d)\n",
    "csvtest = os.path.join(d, 'test/celeba_test/labels.csv')\n",
    "dirname = os.path.dirname(d)\n",
    "imgtest = os.path.join(d, 'test/celeba_test/img/')\n"
   ]
  },
  {
   "cell_type": "code",
   "execution_count": 20,
   "metadata": {},
   "outputs": [
    {
     "data": {
      "text/html": [
       "<div>\n",
       "<style scoped>\n",
       "    .dataframe tbody tr th:only-of-type {\n",
       "        vertical-align: middle;\n",
       "    }\n",
       "\n",
       "    .dataframe tbody tr th {\n",
       "        vertical-align: top;\n",
       "    }\n",
       "\n",
       "    .dataframe thead th {\n",
       "        text-align: right;\n",
       "    }\n",
       "</style>\n",
       "<table border=\"1\" class=\"dataframe\">\n",
       "  <thead>\n",
       "    <tr style=\"text-align: right;\">\n",
       "      <th></th>\n",
       "      <th>img_name</th>\n",
       "      <th>gender</th>\n",
       "      <th>smiling</th>\n",
       "    </tr>\n",
       "  </thead>\n",
       "  <tbody>\n",
       "    <tr>\n",
       "      <th>0</th>\n",
       "      <td>0.jpg</td>\n",
       "      <td>-1</td>\n",
       "      <td>-1</td>\n",
       "    </tr>\n",
       "    <tr>\n",
       "      <th>1</th>\n",
       "      <td>1.jpg</td>\n",
       "      <td>-1</td>\n",
       "      <td>1</td>\n",
       "    </tr>\n",
       "    <tr>\n",
       "      <th>2</th>\n",
       "      <td>2.jpg</td>\n",
       "      <td>1</td>\n",
       "      <td>1</td>\n",
       "    </tr>\n",
       "    <tr>\n",
       "      <th>3</th>\n",
       "      <td>3.jpg</td>\n",
       "      <td>1</td>\n",
       "      <td>1</td>\n",
       "    </tr>\n",
       "    <tr>\n",
       "      <th>4</th>\n",
       "      <td>4.jpg</td>\n",
       "      <td>-1</td>\n",
       "      <td>-1</td>\n",
       "    </tr>\n",
       "  </tbody>\n",
       "</table>\n",
       "</div>"
      ],
      "text/plain": [
       "  img_name  gender  smiling\n",
       "0    0.jpg      -1       -1\n",
       "1    1.jpg      -1        1\n",
       "2    2.jpg       1        1\n",
       "3    3.jpg       1        1\n",
       "4    4.jpg      -1       -1"
      ]
     },
     "execution_count": 20,
     "metadata": {},
     "output_type": "execute_result"
    }
   ],
   "source": [
    "#Use Pandas to read csv file\n",
    "test_dataset = pd.read_csv(csvtest, sep='\\\\t', engine='python')\n",
    "\n",
    "test_dataset.head()"
   ]
  },
  {
   "cell_type": "code",
   "execution_count": 21,
   "metadata": {},
   "outputs": [
    {
     "name": "stderr",
     "output_type": "stream",
     "text": [
      "100%|██████████| 1000/1000 [00:02<00:00, 338.20it/s]\n"
     ]
    }
   ],
   "source": [
    "test_dataset_image = []\n",
    "for i in tqdm(range(test_dataset.shape[0])):\n",
    "    img = image.load_img(imgtest+test_dataset['img_name'][i], target_size=(109,89))\n",
    "    img = img.convert('L')\n",
    "    img = image.img_to_array(img)\n",
    "    img = img/255\n",
    "\n",
    "    test_dataset_image.append(img)"
   ]
  },
  {
   "cell_type": "code",
   "execution_count": 22,
   "metadata": {},
   "outputs": [],
   "source": [
    "# Split the data\n",
    "X_TEST = np.array(test_dataset_image)\n",
    "Y_TEST = np.array(test_dataset['smiling']+1)/2"
   ]
  },
  {
   "cell_type": "code",
   "execution_count": 27,
   "metadata": {},
   "outputs": [
    {
     "name": "stdout",
     "output_type": "stream",
     "text": [
      "Epoch 1/100\n",
      "59/59 [==============================] - 97s 2s/step - loss: 0.3654 - accuracy: 0.8317 - val_loss: 1.2031 - val_accuracy: 0.5170\n",
      "Epoch 2/100\n",
      "59/59 [==============================] - 93s 2s/step - loss: 0.1851 - accuracy: 0.9259 - val_loss: 0.4192 - val_accuracy: 0.8070\n",
      "Epoch 3/100\n",
      "59/59 [==============================] - 94s 2s/step - loss: 0.0840 - accuracy: 0.9736 - val_loss: 0.3356 - val_accuracy: 0.8570\n",
      "Epoch 4/100\n",
      "59/59 [==============================] - 94s 2s/step - loss: 0.0425 - accuracy: 0.9875 - val_loss: 0.7703 - val_accuracy: 0.7970\n",
      "Epoch 5/100\n",
      "59/59 [==============================] - 97s 2s/step - loss: 0.0279 - accuracy: 0.9915 - val_loss: 1.4256 - val_accuracy: 0.6830\n",
      "Epoch 6/100\n",
      "59/59 [==============================] - 101s 2s/step - loss: 0.0280 - accuracy: 0.9912 - val_loss: 1.0682 - val_accuracy: 0.7850\n",
      "Epoch 7/100\n",
      "59/59 [==============================] - 93s 2s/step - loss: 0.0098 - accuracy: 0.9979 - val_loss: 0.5138 - val_accuracy: 0.8610\n",
      "Epoch 8/100\n",
      "59/59 [==============================] - 93s 2s/step - loss: 0.0048 - accuracy: 0.9992 - val_loss: 0.5542 - val_accuracy: 0.8450\n",
      "Epoch 9/100\n",
      "59/59 [==============================] - 93s 2s/step - loss: 0.0031 - accuracy: 1.0000 - val_loss: 0.5557 - val_accuracy: 0.8680\n",
      "Epoch 10/100\n",
      "59/59 [==============================] - 93s 2s/step - loss: 9.9215e-04 - accuracy: 1.0000 - val_loss: 0.5493 - val_accuracy: 0.8640\n",
      "Epoch 11/100\n",
      "59/59 [==============================] - 93s 2s/step - loss: 6.1528e-04 - accuracy: 1.0000 - val_loss: 0.5763 - val_accuracy: 0.8680\n",
      "Epoch 12/100\n",
      "59/59 [==============================] - 93s 2s/step - loss: 4.3926e-04 - accuracy: 1.0000 - val_loss: 0.5741 - val_accuracy: 0.8670\n",
      "Epoch 13/100\n",
      "59/59 [==============================] - 93s 2s/step - loss: 2.7577e-04 - accuracy: 1.0000 - val_loss: 0.5843 - val_accuracy: 0.8680\n",
      "Epoch 00013: early stopping\n"
     ]
    }
   ],
   "source": [
    "# building a linear stack of layers with the sequential model\n",
    "model = Sequential()\n",
    "# convolutional layer\n",
    "model.add(Conv2D(25, kernel_size=(3,3), strides=(1,1), padding='valid', activation='relu', input_shape=(109,89,1)))\n",
    "model.add(MaxPool2D(pool_size=(1,1)))\n",
    "# convolutional layer\n",
    "model.add(Conv2D(25, kernel_size=(3,3), strides=(1,1), padding='valid', activation='relu', input_shape=(109,89,1)))\n",
    "model.add(MaxPool2D(pool_size=(1,1)))\n",
    "# convolutional layer\n",
    "model.add(Conv2D(25, kernel_size=(3,3), strides=(1,1), padding='valid', activation='relu', input_shape=(109,89,1)))\n",
    "model.add(MaxPool2D(pool_size=(1,1)))\n",
    "# flatten output of conv\n",
    "model.add(Flatten())\n",
    "# hidden layer\n",
    "model.add(Dense(100, activation='relu'))\n",
    "model.add(BatchNormalization())\n",
    "# hidden layer\n",
    "model.add(Dense(100, activation='relu'))\n",
    "# output layer\n",
    "model.add(Dense(1, activation='sigmoid'))\n",
    "\n",
    "# compiling the sequential model\n",
    "model.compile(loss='binary_crossentropy', metrics=['accuracy'], optimizer='Adam')\n",
    "es = EarlyStopping(monitor='val_loss', mode='min', verbose=1, patience=10)\n",
    "\n",
    "# training the model for 10 epochs\n",
    "history=model.fit(x_train, y_train, batch_size=64, epochs=100, validation_data=(X_TEST, Y_TEST), callbacks=[es])"
   ]
  },
  {
   "cell_type": "code",
   "execution_count": null,
   "metadata": {},
   "outputs": [],
   "source": []
  }
 ],
 "metadata": {
  "kernelspec": {
   "display_name": "Python 3",
   "language": "python",
   "name": "python3"
  },
  "language_info": {
   "codemirror_mode": {
    "name": "ipython",
    "version": 3
   },
   "file_extension": ".py",
   "mimetype": "text/x-python",
   "name": "python",
   "nbconvert_exporter": "python",
   "pygments_lexer": "ipython3",
   "version": "3.8.5"
  }
 },
 "nbformat": 4,
 "nbformat_minor": 4
}
