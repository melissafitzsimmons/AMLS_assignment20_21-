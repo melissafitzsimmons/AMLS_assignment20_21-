{
 "cells": [
  {
   "cell_type": "markdown",
   "metadata": {},
   "source": [
    "# Import libraries"
   ]
  },
  {
   "cell_type": "code",
   "execution_count": 2,
   "metadata": {},
   "outputs": [],
   "source": [
    "import numpy as np\n",
    "from tqdm import tqdm\n",
    "import pandas as pd\n",
    "import cv2\n",
    "import os\n",
    "\n",
    "from sklearn import datasets\n",
    "from sklearn import preprocessing\n",
    "from sklearn.model_selection import train_test_split\n",
    "from sklearn.preprocessing import MinMaxScaler\n",
    "from sklearn.model_selection import train_test_split\n",
    "from sklearn.linear_model import LogisticRegression\n",
    "from sklearn.metrics import confusion_matrix, classification_report,accuracy_score\n",
    "\n",
    "import keras\n",
    "from keras.models import Sequential\n",
    "from keras.layers import Dense, Dropout, Flatten\n",
    "from keras.layers import Conv2D, MaxPooling2D\n",
    "from keras.utils import to_categorical\n",
    "from keras.preprocessing import image\n",
    "from keras.models import Sequential\n",
    "from keras.layers import Dense, Dropout, Conv2D, MaxPool2D\n",
    "from keras.utils import np_utils\n",
    "from keras.layers.normalization import BatchNormalization\n",
    "from tensorflow.keras.callbacks import EarlyStopping\n",
    "\n",
    "import matplotlib.pyplot as plt\n",
    "from sklearn.datasets import load_iris\n",
    "from sklearn.model_selection import train_test_split"
   ]
  },
  {
   "cell_type": "markdown",
   "metadata": {},
   "source": [
    "# Read csv file"
   ]
  },
  {
   "cell_type": "code",
   "execution_count": 3,
   "metadata": {},
   "outputs": [
    {
     "name": "stdout",
     "output_type": "stream",
     "text": [
      "/Users/mel/Documents/MRes/Machine Learning/Assignment/AMLS_20-21_SN12345678/B1\n",
      "/Users/mel/Documents/MRes/Machine Learning/Assignment/AMLS_20-21_SN12345678\n"
     ]
    },
    {
     "data": {
      "text/html": [
       "<div>\n",
       "<style scoped>\n",
       "    .dataframe tbody tr th:only-of-type {\n",
       "        vertical-align: middle;\n",
       "    }\n",
       "\n",
       "    .dataframe tbody tr th {\n",
       "        vertical-align: top;\n",
       "    }\n",
       "\n",
       "    .dataframe thead th {\n",
       "        text-align: right;\n",
       "    }\n",
       "</style>\n",
       "<table border=\"1\" class=\"dataframe\">\n",
       "  <thead>\n",
       "    <tr style=\"text-align: right;\">\n",
       "      <th></th>\n",
       "      <th>eye_color</th>\n",
       "      <th>face_shape</th>\n",
       "      <th>file_name</th>\n",
       "    </tr>\n",
       "  </thead>\n",
       "  <tbody>\n",
       "    <tr>\n",
       "      <th>0</th>\n",
       "      <td>1</td>\n",
       "      <td>4</td>\n",
       "      <td>0.png</td>\n",
       "    </tr>\n",
       "    <tr>\n",
       "      <th>1</th>\n",
       "      <td>2</td>\n",
       "      <td>4</td>\n",
       "      <td>1.png</td>\n",
       "    </tr>\n",
       "    <tr>\n",
       "      <th>2</th>\n",
       "      <td>2</td>\n",
       "      <td>3</td>\n",
       "      <td>2.png</td>\n",
       "    </tr>\n",
       "    <tr>\n",
       "      <th>3</th>\n",
       "      <td>2</td>\n",
       "      <td>0</td>\n",
       "      <td>3.png</td>\n",
       "    </tr>\n",
       "    <tr>\n",
       "      <th>4</th>\n",
       "      <td>0</td>\n",
       "      <td>2</td>\n",
       "      <td>4.png</td>\n",
       "    </tr>\n",
       "  </tbody>\n",
       "</table>\n",
       "</div>"
      ],
      "text/plain": [
       "   eye_color  face_shape file_name\n",
       "0          1           4     0.png\n",
       "1          2           4     1.png\n",
       "2          2           3     2.png\n",
       "3          2           0     3.png\n",
       "4          0           2     4.png"
      ]
     },
     "execution_count": 3,
     "metadata": {},
     "output_type": "execute_result"
    }
   ],
   "source": [
    "p = os.getcwd()\n",
    "print(p)\n",
    "\n",
    "os.chdir(\"..\")\n",
    "d = os.getcwd()\n",
    "print(d)\n",
    "\n",
    "dirname = os.path.dirname(d)\n",
    "csvfile = os.path.join(d, 'datasets/cartoon_set/labels.csv')\n",
    "dirname = os.path.dirname(d)\n",
    "imgfile = os.path.join(d, 'datasets/cartoon_set/img/')\n",
    "\n",
    "\n",
    "dataset = pd.read_csv(csvfile, sep='\\\\t', engine='python')\n",
    "\n",
    "dataset.head()"
   ]
  },
  {
   "cell_type": "markdown",
   "metadata": {},
   "source": [
    "# Load and preprocess data"
   ]
  },
  {
   "cell_type": "code",
   "execution_count": 3,
   "metadata": {},
   "outputs": [
    {
     "name": "stderr",
     "output_type": "stream",
     "text": [
      "100%|██████████| 10000/10000 [01:08<00:00, 145.95it/s]\n"
     ]
    }
   ],
   "source": [
    "dataset_image = []\n",
    "for i in tqdm(range(dataset.shape[0])):\n",
    "    img = image.load_img(imgfile+dataset['file_name'][i], target_size=(100,100))\n",
    "    img = img.convert('L')\n",
    "    img = image.img_to_array(img)\n",
    "    img = img/255\n",
    "\n",
    "    dataset_image.append(img)"
   ]
  },
  {
   "cell_type": "markdown",
   "metadata": {},
   "source": [
    "# Label and split the data"
   ]
  },
  {
   "cell_type": "code",
   "execution_count": 4,
   "metadata": {},
   "outputs": [],
   "source": [
    "# Label the data\n",
    "x = np.array(dataset_image)\n",
    "y = dataset['face_shape']"
   ]
  },
  {
   "cell_type": "code",
   "execution_count": 5,
   "metadata": {},
   "outputs": [],
   "source": [
    "# Split the data into training and testing(75% training and 25% testing data)\n",
    "x_train, x_test, y_train, y_test = train_test_split(x, y, test_size=0.25, random_state=100)"
   ]
  },
  {
   "cell_type": "code",
   "execution_count": 6,
   "metadata": {},
   "outputs": [
    {
     "data": {
      "text/plain": [
       "(10000, 100, 100, 1)"
      ]
     },
     "execution_count": 6,
     "metadata": {},
     "output_type": "execute_result"
    }
   ],
   "source": [
    "x.shape"
   ]
  },
  {
   "cell_type": "code",
   "execution_count": 7,
   "metadata": {},
   "outputs": [],
   "source": [
    "#Convert data type to 'float32'\n",
    "x_train = x_train.astype('float32')\n",
    "x_test = x_test.astype('float32')"
   ]
  },
  {
   "cell_type": "code",
   "execution_count": 8,
   "metadata": {},
   "outputs": [
    {
     "name": "stdout",
     "output_type": "stream",
     "text": [
      "Shape before one-hot encoding:  (7500,)\n",
      "Shape after one-hot encoding:  (7500, 5)\n"
     ]
    }
   ],
   "source": [
    "#One-hot encoding of data\n",
    "n_classes = 5\n",
    "print(\"Shape before one-hot encoding: \", y_train.shape)\n",
    "Y_train = np_utils.to_categorical(y_train, n_classes)\n",
    "Y_test = np_utils.to_categorical(y_test, n_classes)\n",
    "print(\"Shape after one-hot encoding: \", Y_train.shape)"
   ]
  },
  {
   "cell_type": "markdown",
   "metadata": {},
   "source": [
    "# Optimise batch size"
   ]
  },
  {
   "cell_type": "code",
   "execution_count": 9,
   "metadata": {},
   "outputs": [
    {
     "name": "stdout",
     "output_type": "stream",
     "text": [
      "Epoch 1/50\n",
      "59/59 [==============================] - 44s 738ms/step - loss: 1.4390 - accuracy: 0.4112 - val_loss: 1.5376 - val_accuracy: 0.5072\n",
      "Epoch 2/50\n",
      "59/59 [==============================] - 43s 723ms/step - loss: 0.2276 - accuracy: 0.9676 - val_loss: 1.1486 - val_accuracy: 0.4172\n",
      "Epoch 3/50\n",
      "59/59 [==============================] - 43s 730ms/step - loss: 0.0500 - accuracy: 0.9964 - val_loss: 1.3597 - val_accuracy: 0.5620\n",
      "Epoch 4/50\n",
      "59/59 [==============================] - 43s 734ms/step - loss: 0.0257 - accuracy: 0.9991 - val_loss: 4.0892 - val_accuracy: 0.3160\n",
      "Epoch 5/50\n",
      "59/59 [==============================] - 43s 725ms/step - loss: 0.0154 - accuracy: 0.9997 - val_loss: 0.4970 - val_accuracy: 0.9640\n",
      "Epoch 6/50\n",
      "59/59 [==============================] - 42s 719ms/step - loss: 0.0111 - accuracy: 1.0000 - val_loss: 0.2511 - val_accuracy: 0.9984\n",
      "Epoch 7/50\n",
      "59/59 [==============================] - 43s 729ms/step - loss: 0.0084 - accuracy: 1.0000 - val_loss: 0.1331 - val_accuracy: 0.9992\n",
      "Epoch 8/50\n",
      "59/59 [==============================] - 42s 718ms/step - loss: 0.0060 - accuracy: 1.0000 - val_loss: 0.0794 - val_accuracy: 0.9980\n",
      "Epoch 9/50\n",
      "59/59 [==============================] - 43s 729ms/step - loss: 0.0054 - accuracy: 1.0000 - val_loss: 0.0435 - val_accuracy: 0.9984\n",
      "Epoch 10/50\n",
      "59/59 [==============================] - 43s 727ms/step - loss: 0.0040 - accuracy: 1.0000 - val_loss: 0.0202 - val_accuracy: 0.9996\n",
      "Epoch 11/50\n",
      "59/59 [==============================] - 43s 721ms/step - loss: 0.0031 - accuracy: 1.0000 - val_loss: 0.0126 - val_accuracy: 0.9996\n",
      "Epoch 12/50\n",
      "59/59 [==============================] - 43s 722ms/step - loss: 0.0024 - accuracy: 1.0000 - val_loss: 0.0082 - val_accuracy: 0.9996\n",
      "Epoch 13/50\n",
      "59/59 [==============================] - 42s 719ms/step - loss: 0.0023 - accuracy: 1.0000 - val_loss: 0.0053 - val_accuracy: 1.0000\n",
      "Epoch 14/50\n",
      "59/59 [==============================] - 43s 721ms/step - loss: 0.0020 - accuracy: 1.0000 - val_loss: 0.0045 - val_accuracy: 0.9996\n",
      "Epoch 15/50\n",
      "59/59 [==============================] - 43s 728ms/step - loss: 0.0015 - accuracy: 1.0000 - val_loss: 0.0032 - val_accuracy: 1.0000\n",
      "Epoch 16/50\n",
      "59/59 [==============================] - 42s 718ms/step - loss: 0.0014 - accuracy: 1.0000 - val_loss: 0.0034 - val_accuracy: 0.9996\n",
      "Epoch 17/50\n",
      "59/59 [==============================] - 42s 714ms/step - loss: 0.0011 - accuracy: 1.0000 - val_loss: 0.0024 - val_accuracy: 1.0000\n",
      "Epoch 18/50\n",
      "59/59 [==============================] - 43s 724ms/step - loss: 0.0011 - accuracy: 1.0000 - val_loss: 0.0021 - val_accuracy: 1.0000\n",
      "Epoch 19/50\n",
      "59/59 [==============================] - 43s 721ms/step - loss: 8.9821e-04 - accuracy: 1.0000 - val_loss: 0.0020 - val_accuracy: 1.0000\n",
      "Epoch 20/50\n",
      "59/59 [==============================] - 42s 720ms/step - loss: 8.1545e-04 - accuracy: 1.0000 - val_loss: 0.0018 - val_accuracy: 1.0000\n",
      "Epoch 21/50\n",
      "59/59 [==============================] - 43s 731ms/step - loss: 6.5056e-04 - accuracy: 1.0000 - val_loss: 0.0016 - val_accuracy: 1.0000\n",
      "Epoch 22/50\n",
      "59/59 [==============================] - 42s 720ms/step - loss: 7.9367e-04 - accuracy: 1.0000 - val_loss: 0.0016 - val_accuracy: 1.0000\n",
      "Epoch 23/50\n",
      "59/59 [==============================] - 43s 724ms/step - loss: 7.3674e-04 - accuracy: 1.0000 - val_loss: 0.0014 - val_accuracy: 1.0000\n",
      "Epoch 24/50\n",
      "59/59 [==============================] - 43s 721ms/step - loss: 6.3087e-04 - accuracy: 1.0000 - val_loss: 0.0013 - val_accuracy: 1.0000\n",
      "Epoch 25/50\n",
      "59/59 [==============================] - 50s 847ms/step - loss: 5.0808e-04 - accuracy: 1.0000 - val_loss: 0.0011 - val_accuracy: 1.0000\n",
      "Epoch 26/50\n",
      "59/59 [==============================] - 43s 737ms/step - loss: 4.7595e-04 - accuracy: 1.0000 - val_loss: 0.0013 - val_accuracy: 1.0000\n",
      "Epoch 27/50\n",
      "59/59 [==============================] - 42s 720ms/step - loss: 4.5442e-04 - accuracy: 1.0000 - val_loss: 0.0010 - val_accuracy: 1.0000\n",
      "Epoch 28/50\n",
      "59/59 [==============================] - 44s 738ms/step - loss: 4.2268e-04 - accuracy: 1.0000 - val_loss: 9.6484e-04 - val_accuracy: 1.0000\n",
      "Epoch 29/50\n",
      "59/59 [==============================] - 42s 720ms/step - loss: 3.9290e-04 - accuracy: 1.0000 - val_loss: 0.0012 - val_accuracy: 1.0000\n",
      "Epoch 30/50\n",
      "59/59 [==============================] - 43s 729ms/step - loss: 3.6996e-04 - accuracy: 1.0000 - val_loss: 9.1469e-04 - val_accuracy: 1.0000\n",
      "Epoch 31/50\n",
      "59/59 [==============================] - 43s 733ms/step - loss: 3.4562e-04 - accuracy: 1.0000 - val_loss: 8.2590e-04 - val_accuracy: 1.0000\n",
      "Epoch 32/50\n",
      "59/59 [==============================] - 43s 721ms/step - loss: 3.6875e-04 - accuracy: 1.0000 - val_loss: 7.7878e-04 - val_accuracy: 1.0000\n",
      "Epoch 33/50\n",
      "59/59 [==============================] - 42s 716ms/step - loss: 3.2641e-04 - accuracy: 1.0000 - val_loss: 7.3689e-04 - val_accuracy: 1.0000\n",
      "Epoch 34/50\n",
      "59/59 [==============================] - 43s 730ms/step - loss: 2.8620e-04 - accuracy: 1.0000 - val_loss: 7.3896e-04 - val_accuracy: 1.0000\n",
      "Epoch 35/50\n",
      "59/59 [==============================] - 42s 720ms/step - loss: 2.5191e-04 - accuracy: 1.0000 - val_loss: 6.2519e-04 - val_accuracy: 1.0000\n",
      "Epoch 36/50\n",
      "59/59 [==============================] - 42s 714ms/step - loss: 2.3682e-04 - accuracy: 1.0000 - val_loss: 5.0186e-04 - val_accuracy: 1.0000\n",
      "Epoch 37/50\n",
      "59/59 [==============================] - 43s 735ms/step - loss: 2.1297e-04 - accuracy: 1.0000 - val_loss: 5.5825e-04 - val_accuracy: 1.0000\n",
      "Epoch 38/50\n",
      "59/59 [==============================] - 46s 779ms/step - loss: 2.6160e-04 - accuracy: 1.0000 - val_loss: 8.4810e-04 - val_accuracy: 1.0000\n",
      "Epoch 39/50\n",
      "59/59 [==============================] - 42s 718ms/step - loss: 1.9256e-04 - accuracy: 1.0000 - val_loss: 4.4791e-04 - val_accuracy: 1.0000\n",
      "Epoch 40/50\n",
      "59/59 [==============================] - 42s 714ms/step - loss: 1.9914e-04 - accuracy: 1.0000 - val_loss: 4.0752e-04 - val_accuracy: 1.0000\n",
      "Epoch 41/50\n",
      "59/59 [==============================] - 43s 725ms/step - loss: 2.0032e-04 - accuracy: 1.0000 - val_loss: 4.8128e-04 - val_accuracy: 1.0000\n",
      "Epoch 42/50\n",
      "59/59 [==============================] - 42s 711ms/step - loss: 1.9050e-04 - accuracy: 1.0000 - val_loss: 0.0014 - val_accuracy: 1.0000\n",
      "Epoch 43/50\n",
      "59/59 [==============================] - 43s 722ms/step - loss: 0.0568 - accuracy: 0.9876 - val_loss: 11.1391 - val_accuracy: 0.5624\n",
      "Epoch 44/50\n",
      "59/59 [==============================] - 42s 710ms/step - loss: 0.0160 - accuracy: 0.9972 - val_loss: 1.6193 - val_accuracy: 0.7840\n",
      "Epoch 45/50\n",
      "59/59 [==============================] - 42s 709ms/step - loss: 0.0057 - accuracy: 0.9999 - val_loss: 0.1061 - val_accuracy: 0.9656\n",
      "Epoch 46/50\n",
      "59/59 [==============================] - 42s 716ms/step - loss: 0.0028 - accuracy: 1.0000 - val_loss: 0.0268 - val_accuracy: 0.9952\n",
      "Epoch 47/50\n",
      "59/59 [==============================] - 42s 710ms/step - loss: 0.0019 - accuracy: 1.0000 - val_loss: 0.0063 - val_accuracy: 1.0000\n",
      "Epoch 48/50\n",
      "59/59 [==============================] - 42s 712ms/step - loss: 0.0015 - accuracy: 1.0000 - val_loss: 0.0038 - val_accuracy: 1.0000\n",
      "Epoch 49/50\n",
      "59/59 [==============================] - 42s 719ms/step - loss: 0.0014 - accuracy: 1.0000 - val_loss: 0.0029 - val_accuracy: 1.0000\n",
      "Epoch 50/50\n",
      "59/59 [==============================] - 43s 723ms/step - loss: 0.0011 - accuracy: 1.0000 - val_loss: 0.0023 - val_accuracy: 1.0000\n",
      "Epoch 00050: early stopping\n"
     ]
    }
   ],
   "source": [
    "#Evaluate with batch size=128\n",
    "\n",
    "# building a linear stack of layers with the sequential model\n",
    "model = Sequential()\n",
    "# convolutional layer\n",
    "model.add(Conv2D(25, kernel_size=(3,3), strides=(1,1), padding='valid', activation='relu', input_shape=(100,100,1)))\n",
    "model.add(MaxPool2D(pool_size=(1,1)))\n",
    "# flatten output of conv\n",
    "model.add(Flatten())\n",
    "# hidden layer\n",
    "model.add(Dense(100, activation='relu'))\n",
    "model.add(BatchNormalization())\n",
    "model.add(Dropout(0.1))\n",
    "# output layer\n",
    "model.add(Dense(5, activation='softmax'))\n",
    "\n",
    "# compiling the sequential model\n",
    "model.compile(loss='categorical_crossentropy', metrics=['accuracy'], optimizer='adam')\n",
    "es = EarlyStopping(monitor='val_loss', mode='min', verbose=1, patience=10)\n",
    "\n",
    "# training the model for 10 epochs\n",
    "history=model.fit(x_train, Y_train, batch_size=128, epochs=50, validation_data=(x_test, Y_test), callbacks=[es])"
   ]
  },
  {
   "cell_type": "code",
   "execution_count": 10,
   "metadata": {},
   "outputs": [
    {
     "name": "stdout",
     "output_type": "stream",
     "text": [
      "dict_keys(['loss', 'accuracy', 'val_loss', 'val_accuracy'])\n"
     ]
    },
    {
     "data": {
      "image/png": "[encoded data removed]",
      "text/plain": [
       "<Figure size 432x288 with 1 Axes>"
      ]
     },
     "metadata": {
      "needs_background": "light"
     },
     "output_type": "display_data"
    },
    {
     "data": {
      "image/png": "[encoded data removed]",
      "text/plain": [
       "<Figure size 432x288 with 1 Axes>"
      ]
     },
     "metadata": {
      "needs_background": "light"
     },
     "output_type": "display_data"
    }
   ],
   "source": [
    "# list all data in history\n",
    "print(history.history.keys())\n",
    "# summarize history for accuracy\n",
    "plt.plot(history.history['accuracy'])\n",
    "plt.plot(history.history['val_accuracy'])\n",
    "plt.title('model accuracy')\n",
    "plt.ylabel('accuracy')\n",
    "plt.xlabel('epoch')\n",
    "plt.legend(['train', 'test'], loc='upper left')\n",
    "plt.show()\n",
    "# summarize history for loss\n",
    "plt.plot(history.history['loss'])\n",
    "plt.plot(history.history['val_loss'])\n",
    "plt.title('model loss')\n",
    "plt.ylabel('loss')\n",
    "plt.xlabel('epoch')\n",
    "plt.legend(['train', 'test'], loc='upper left')\n",
    "plt.show()"
   ]
  },
  {
   "cell_type": "markdown",
   "metadata": {},
   "source": [
    "# Find accuracy on test set"
   ]
  },
  {
   "cell_type": "code",
   "execution_count": 4,
   "metadata": {},
   "outputs": [
    {
     "data": {
      "text/html": [
       "<div>\n",
       "<style scoped>\n",
       "    .dataframe tbody tr th:only-of-type {\n",
       "        vertical-align: middle;\n",
       "    }\n",
       "\n",
       "    .dataframe tbody tr th {\n",
       "        vertical-align: top;\n",
       "    }\n",
       "\n",
       "    .dataframe thead th {\n",
       "        text-align: right;\n",
       "    }\n",
       "</style>\n",
       "<table border=\"1\" class=\"dataframe\">\n",
       "  <thead>\n",
       "    <tr style=\"text-align: right;\">\n",
       "      <th></th>\n",
       "      <th>eye_color</th>\n",
       "      <th>face_shape</th>\n",
       "      <th>file_name</th>\n",
       "    </tr>\n",
       "  </thead>\n",
       "  <tbody>\n",
       "    <tr>\n",
       "      <th>0</th>\n",
       "      <td>1</td>\n",
       "      <td>4</td>\n",
       "      <td>0.png</td>\n",
       "    </tr>\n",
       "    <tr>\n",
       "      <th>1</th>\n",
       "      <td>2</td>\n",
       "      <td>4</td>\n",
       "      <td>1.png</td>\n",
       "    </tr>\n",
       "    <tr>\n",
       "      <th>2</th>\n",
       "      <td>2</td>\n",
       "      <td>3</td>\n",
       "      <td>2.png</td>\n",
       "    </tr>\n",
       "    <tr>\n",
       "      <th>3</th>\n",
       "      <td>2</td>\n",
       "      <td>0</td>\n",
       "      <td>3.png</td>\n",
       "    </tr>\n",
       "    <tr>\n",
       "      <th>4</th>\n",
       "      <td>0</td>\n",
       "      <td>2</td>\n",
       "      <td>4.png</td>\n",
       "    </tr>\n",
       "  </tbody>\n",
       "</table>\n",
       "</div>"
      ],
      "text/plain": [
       "   eye_color  face_shape file_name\n",
       "0          1           4     0.png\n",
       "1          2           4     1.png\n",
       "2          2           3     2.png\n",
       "3          2           0     3.png\n",
       "4          0           2     4.png"
      ]
     },
     "execution_count": 4,
     "metadata": {},
     "output_type": "execute_result"
    }
   ],
   "source": [
    "dirname = os.path.dirname(d)\n",
    "csvtest = os.path.join(d, 'test/cartoon_set_test/labels.csv')\n",
    "dirname = os.path.dirname(d)\n",
    "imgtest = os.path.join(d, 'test/cartoon_set_test/img/')\n",
    "\n",
    "\n",
    "dataset = pd.read_csv(csvtest, sep='\\\\t', engine='python')\n",
    "\n",
    "dataset.head()"
   ]
  },
  {
   "cell_type": "code",
   "execution_count": 12,
   "metadata": {},
   "outputs": [
    {
     "name": "stderr",
     "output_type": "stream",
     "text": [
      "100%|██████████| 2500/2500 [00:18<00:00, 131.72it/s]\n"
     ]
    }
   ],
   "source": [
    "test_dataset_image = []\n",
    "for i in tqdm(range(test_dataset.shape[0])):\n",
    "    img = image.load_img(imgtest+test_dataset['file_name'][i], target_size=(100,100))\n",
    "    img = img.convert('L')\n",
    "    img = image.img_to_array(img)\n",
    "    img = img/255\n",
    "\n",
    "    test_dataset_image.append(img)"
   ]
  },
  {
   "cell_type": "code",
   "execution_count": 13,
   "metadata": {},
   "outputs": [],
   "source": [
    "# Label the data and one-hot encoding\n",
    "X_TEST = np.array(test_dataset_image)\n",
    "Y_TEST = test_dataset['face_shape']\n",
    "\n",
    "n_classes = 5\n",
    "Y_TEST = np_utils.to_categorical(Y_TEST, n_classes)"
   ]
  },
  {
   "cell_type": "code",
   "execution_count": 14,
   "metadata": {},
   "outputs": [
    {
     "name": "stdout",
     "output_type": "stream",
     "text": [
      "Epoch 1/50\n",
      "59/59 [==============================] - 43s 729ms/step - loss: 1.0580 - accuracy: 0.5955 - val_loss: 1.0444 - val_accuracy: 0.5824\n",
      "Epoch 2/50\n",
      "59/59 [==============================] - 43s 736ms/step - loss: 0.0571 - accuracy: 0.9940 - val_loss: 0.6224 - val_accuracy: 0.7868\n",
      "Epoch 3/50\n",
      "59/59 [==============================] - 42s 718ms/step - loss: 0.0213 - accuracy: 0.9991 - val_loss: 0.2633 - val_accuracy: 0.9908\n",
      "Epoch 4/50\n",
      "59/59 [==============================] - 45s 764ms/step - loss: 0.0130 - accuracy: 0.9996 - val_loss: 0.1831 - val_accuracy: 0.9956\n",
      "Epoch 5/50\n",
      "59/59 [==============================] - 43s 725ms/step - loss: 0.0080 - accuracy: 0.9999 - val_loss: 0.0868 - val_accuracy: 0.9996\n",
      "Epoch 6/50\n",
      "59/59 [==============================] - 43s 730ms/step - loss: 0.0062 - accuracy: 1.0000 - val_loss: 0.0393 - val_accuracy: 1.0000\n",
      "Epoch 7/50\n",
      "59/59 [==============================] - 43s 733ms/step - loss: 0.0044 - accuracy: 1.0000 - val_loss: 0.0234 - val_accuracy: 1.0000\n",
      "Epoch 8/50\n",
      "59/59 [==============================] - 43s 724ms/step - loss: 0.0036 - accuracy: 1.0000 - val_loss: 0.0125 - val_accuracy: 1.0000\n",
      "Epoch 9/50\n",
      "59/59 [==============================] - 43s 733ms/step - loss: 0.0027 - accuracy: 1.0000 - val_loss: 0.0067 - val_accuracy: 1.0000\n",
      "Epoch 10/50\n",
      "59/59 [==============================] - 43s 729ms/step - loss: 0.0025 - accuracy: 1.0000 - val_loss: 0.0051 - val_accuracy: 0.9996\n",
      "Epoch 11/50\n",
      "59/59 [==============================] - 42s 718ms/step - loss: 0.0020 - accuracy: 1.0000 - val_loss: 0.0035 - val_accuracy: 1.0000\n",
      "Epoch 12/50\n",
      "59/59 [==============================] - 43s 722ms/step - loss: 0.0016 - accuracy: 1.0000 - val_loss: 0.0027 - val_accuracy: 1.0000\n",
      "Epoch 13/50\n",
      "59/59 [==============================] - 43s 720ms/step - loss: 0.0015 - accuracy: 1.0000 - val_loss: 0.0027 - val_accuracy: 0.9996\n",
      "Epoch 14/50\n",
      "59/59 [==============================] - 42s 714ms/step - loss: 0.0013 - accuracy: 1.0000 - val_loss: 0.0019 - val_accuracy: 1.0000\n",
      "Epoch 15/50\n",
      "59/59 [==============================] - 43s 725ms/step - loss: 0.0011 - accuracy: 1.0000 - val_loss: 0.0015 - val_accuracy: 1.0000\n",
      "Epoch 16/50\n",
      "59/59 [==============================] - 43s 722ms/step - loss: 9.7940e-04 - accuracy: 1.0000 - val_loss: 0.0016 - val_accuracy: 0.9996\n",
      "Epoch 17/50\n",
      "59/59 [==============================] - 42s 719ms/step - loss: 9.1102e-04 - accuracy: 1.0000 - val_loss: 0.0013 - val_accuracy: 1.0000\n",
      "Epoch 18/50\n",
      "59/59 [==============================] - 44s 749ms/step - loss: 8.4705e-04 - accuracy: 1.0000 - val_loss: 0.0014 - val_accuracy: 1.0000\n",
      "Epoch 19/50\n",
      "59/59 [==============================] - 43s 721ms/step - loss: 7.8085e-04 - accuracy: 1.0000 - val_loss: 0.0011 - val_accuracy: 1.0000\n",
      "Epoch 20/50\n",
      "59/59 [==============================] - 43s 721ms/step - loss: 6.9436e-04 - accuracy: 1.0000 - val_loss: 0.0010 - val_accuracy: 1.0000\n",
      "Epoch 21/50\n",
      "59/59 [==============================] - 43s 725ms/step - loss: 6.1667e-04 - accuracy: 1.0000 - val_loss: 0.0012 - val_accuracy: 0.9996\n",
      "Epoch 22/50\n",
      "59/59 [==============================] - 43s 726ms/step - loss: 5.7478e-04 - accuracy: 1.0000 - val_loss: 0.0010 - val_accuracy: 1.0000\n",
      "Epoch 23/50\n",
      "59/59 [==============================] - 43s 727ms/step - loss: 5.5725e-04 - accuracy: 1.0000 - val_loss: 0.0010 - val_accuracy: 0.9996\n",
      "Epoch 24/50\n",
      "59/59 [==============================] - 42s 719ms/step - loss: 4.7852e-04 - accuracy: 1.0000 - val_loss: 7.7805e-04 - val_accuracy: 1.0000\n",
      "Epoch 25/50\n",
      "59/59 [==============================] - 43s 721ms/step - loss: 4.4071e-04 - accuracy: 1.0000 - val_loss: 7.9831e-04 - val_accuracy: 1.0000\n",
      "Epoch 26/50\n",
      "59/59 [==============================] - 43s 722ms/step - loss: 4.3897e-04 - accuracy: 1.0000 - val_loss: 9.3480e-04 - val_accuracy: 0.9996\n",
      "Epoch 27/50\n",
      "59/59 [==============================] - 42s 720ms/step - loss: 4.0000e-04 - accuracy: 1.0000 - val_loss: 5.9759e-04 - val_accuracy: 1.0000\n",
      "Epoch 28/50\n",
      "59/59 [==============================] - 42s 717ms/step - loss: 3.4768e-04 - accuracy: 1.0000 - val_loss: 9.0240e-04 - val_accuracy: 0.9996\n",
      "Epoch 29/50\n",
      "59/59 [==============================] - 43s 722ms/step - loss: 3.4390e-04 - accuracy: 1.0000 - val_loss: 7.9762e-04 - val_accuracy: 0.9996\n",
      "Epoch 30/50\n",
      "59/59 [==============================] - 42s 715ms/step - loss: 3.0863e-04 - accuracy: 1.0000 - val_loss: 8.1867e-04 - val_accuracy: 0.9996\n",
      "Epoch 31/50\n",
      "59/59 [==============================] - 43s 723ms/step - loss: 3.0745e-04 - accuracy: 1.0000 - val_loss: 5.3835e-04 - val_accuracy: 1.0000\n",
      "Epoch 32/50\n",
      "59/59 [==============================] - 43s 725ms/step - loss: 2.9253e-04 - accuracy: 1.0000 - val_loss: 6.2056e-04 - val_accuracy: 1.0000\n",
      "Epoch 33/50\n",
      "59/59 [==============================] - 43s 721ms/step - loss: 2.6829e-04 - accuracy: 1.0000 - val_loss: 5.0508e-04 - val_accuracy: 1.0000\n",
      "Epoch 34/50\n",
      "59/59 [==============================] - 43s 731ms/step - loss: 2.4277e-04 - accuracy: 1.0000 - val_loss: 4.7123e-04 - val_accuracy: 1.0000\n",
      "Epoch 35/50\n",
      "59/59 [==============================] - 43s 730ms/step - loss: 2.2180e-04 - accuracy: 1.0000 - val_loss: 5.2682e-04 - val_accuracy: 1.0000\n",
      "Epoch 36/50\n",
      "59/59 [==============================] - 43s 722ms/step - loss: 2.3274e-04 - accuracy: 1.0000 - val_loss: 4.6335e-04 - val_accuracy: 1.0000\n",
      "Epoch 37/50\n",
      "59/59 [==============================] - 43s 729ms/step - loss: 2.1616e-04 - accuracy: 1.0000 - val_loss: 4.0173e-04 - val_accuracy: 1.0000\n",
      "Epoch 38/50\n",
      "59/59 [==============================] - 43s 721ms/step - loss: 2.1203e-04 - accuracy: 1.0000 - val_loss: 4.5003e-04 - val_accuracy: 1.0000\n",
      "Epoch 39/50\n",
      "59/59 [==============================] - 43s 722ms/step - loss: 1.8535e-04 - accuracy: 1.0000 - val_loss: 5.0306e-04 - val_accuracy: 1.0000\n",
      "Epoch 40/50\n",
      "59/59 [==============================] - 44s 741ms/step - loss: 1.9025e-04 - accuracy: 1.0000 - val_loss: 5.0006e-04 - val_accuracy: 1.0000\n",
      "Epoch 41/50\n",
      "59/59 [==============================] - 43s 732ms/step - loss: 1.6940e-04 - accuracy: 1.0000 - val_loss: 4.6924e-04 - val_accuracy: 1.0000\n",
      "Epoch 42/50\n",
      "59/59 [==============================] - 43s 721ms/step - loss: 1.5857e-04 - accuracy: 1.0000 - val_loss: 4.1732e-04 - val_accuracy: 1.0000\n",
      "Epoch 43/50\n",
      "59/59 [==============================] - 43s 728ms/step - loss: 0.0084 - accuracy: 0.9972 - val_loss: 3.2499 - val_accuracy: 0.4900\n",
      "Epoch 44/50\n",
      "59/59 [==============================] - 43s 725ms/step - loss: 0.0626 - accuracy: 0.9844 - val_loss: 0.8161 - val_accuracy: 0.7944\n",
      "Epoch 45/50\n",
      "59/59 [==============================] - 43s 735ms/step - loss: 0.0110 - accuracy: 0.9980 - val_loss: 0.0111 - val_accuracy: 0.9984\n",
      "Epoch 46/50\n",
      "59/59 [==============================] - 45s 759ms/step - loss: 0.0044 - accuracy: 0.9996 - val_loss: 0.0037 - val_accuracy: 0.9996\n",
      "Epoch 47/50\n",
      "59/59 [==============================] - 43s 730ms/step - loss: 0.0020 - accuracy: 1.0000 - val_loss: 0.0029 - val_accuracy: 0.9996\n",
      "Epoch 00047: early stopping\n"
     ]
    }
   ],
   "source": [
    "# building a linear stack of layers with the sequential model\n",
    "model = Sequential()\n",
    "# convolutional layer\n",
    "model.add(Conv2D(25, kernel_size=(3,3), strides=(1,1), padding='valid', activation='relu', input_shape=(100,100,1)))\n",
    "model.add(MaxPool2D(pool_size=(1,1)))\n",
    "# flatten output of conv\n",
    "model.add(Flatten())\n",
    "# hidden layer\n",
    "model.add(Dense(100, activation='relu'))\n",
    "model.add(BatchNormalization())\n",
    "model.add(Dropout(0.1))\n",
    "# output layer\n",
    "model.add(Dense(5, activation='softmax'))\n",
    "\n",
    "# compiling the sequential model\n",
    "model.compile(loss='categorical_crossentropy', metrics=['accuracy'], optimizer='adam')\n",
    "es = EarlyStopping(monitor='val_loss', mode='min', verbose=1, patience=10)\n",
    "\n",
    "# training the model for 10 epochs\n",
    "history=model.fit(x_train, Y_train, batch_size=128, epochs=50, validation_data=(X_TEST, Y_TEST), callbacks=[es])"
   ]
  },
  {
   "cell_type": "code",
   "execution_count": null,
   "metadata": {},
   "outputs": [],
   "source": []
  }
 ],
 "metadata": {
  "kernelspec": {
   "display_name": "Python 3",
   "language": "python",
   "name": "python3"
  },
  "language_info": {
   "codemirror_mode": {
    "name": "ipython",
    "version": 3
   },
   "file_extension": ".py",
   "mimetype": "text/x-python",
   "name": "python",
   "nbconvert_exporter": "python",
   "pygments_lexer": "ipython3",
   "version": "3.8.5"
  }
 },
 "nbformat": 4,
 "nbformat_minor": 4
}
