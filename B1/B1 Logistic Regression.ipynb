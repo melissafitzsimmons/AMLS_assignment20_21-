{
 "cells": [
  {
   "cell_type": "markdown",
   "metadata": {},
   "source": [
    "# Import libraries"
   ]
  },
  {
   "cell_type": "code",
   "execution_count": 1,
   "metadata": {},
   "outputs": [],
   "source": [
    "import pandas as pd\n",
    "import cv2\n",
    "import os\n",
    "from sklearn.model_selection import train_test_split\n",
    "from sklearn.linear_model import LogisticRegression\n",
    "from sklearn.metrics import confusion_matrix, classification_report,accuracy_score\n",
    "import numpy as np\n",
    "from tqdm import tqdm\n",
    "import keras\n",
    "from keras.preprocessing import image\n",
    "from sklearn.model_selection import KFold\n",
    "from sklearn.model_selection import cross_val_score"
   ]
  },
  {
   "cell_type": "markdown",
   "metadata": {},
   "source": [
    "# Load csv file"
   ]
  },
  {
   "cell_type": "code",
   "execution_count": 2,
   "metadata": {},
   "outputs": [
    {
     "name": "stdout",
     "output_type": "stream",
     "text": [
      "/Users/mel/Documents/MRes/Machine Learning/Assignment/AMLS_20-21_SN12345678/B1\n",
      "/Users/mel/Documents/MRes/Machine Learning/Assignment/AMLS_20-21_SN12345678\n"
     ]
    },
    {
     "data": {
      "text/html": [
       "<div>\n",
       "<style scoped>\n",
       "    .dataframe tbody tr th:only-of-type {\n",
       "        vertical-align: middle;\n",
       "    }\n",
       "\n",
       "    .dataframe tbody tr th {\n",
       "        vertical-align: top;\n",
       "    }\n",
       "\n",
       "    .dataframe thead th {\n",
       "        text-align: right;\n",
       "    }\n",
       "</style>\n",
       "<table border=\"1\" class=\"dataframe\">\n",
       "  <thead>\n",
       "    <tr style=\"text-align: right;\">\n",
       "      <th></th>\n",
       "      <th>eye_color</th>\n",
       "      <th>face_shape</th>\n",
       "      <th>file_name</th>\n",
       "    </tr>\n",
       "  </thead>\n",
       "  <tbody>\n",
       "    <tr>\n",
       "      <th>0</th>\n",
       "      <td>1</td>\n",
       "      <td>4</td>\n",
       "      <td>0.png</td>\n",
       "    </tr>\n",
       "    <tr>\n",
       "      <th>1</th>\n",
       "      <td>2</td>\n",
       "      <td>4</td>\n",
       "      <td>1.png</td>\n",
       "    </tr>\n",
       "    <tr>\n",
       "      <th>2</th>\n",
       "      <td>2</td>\n",
       "      <td>3</td>\n",
       "      <td>2.png</td>\n",
       "    </tr>\n",
       "    <tr>\n",
       "      <th>3</th>\n",
       "      <td>2</td>\n",
       "      <td>0</td>\n",
       "      <td>3.png</td>\n",
       "    </tr>\n",
       "    <tr>\n",
       "      <th>4</th>\n",
       "      <td>0</td>\n",
       "      <td>2</td>\n",
       "      <td>4.png</td>\n",
       "    </tr>\n",
       "  </tbody>\n",
       "</table>\n",
       "</div>"
      ],
      "text/plain": [
       "   eye_color  face_shape file_name\n",
       "0          1           4     0.png\n",
       "1          2           4     1.png\n",
       "2          2           3     2.png\n",
       "3          2           0     3.png\n",
       "4          0           2     4.png"
      ]
     },
     "execution_count": 2,
     "metadata": {},
     "output_type": "execute_result"
    }
   ],
   "source": [
    "p = os.getcwd()\n",
    "print(p)\n",
    "\n",
    "os.chdir(\"..\")\n",
    "d = os.getcwd()\n",
    "print(d)\n",
    "\n",
    "dirname = os.path.dirname(d)\n",
    "csvfile = os.path.join(d, 'datasets/cartoon_set/labels.csv')\n",
    "dirname = os.path.dirname(d)\n",
    "imgfile = os.path.join(d, 'datasets/cartoon_set/img/')\n",
    "\n",
    "dataset = pd.read_csv(csvfile, sep='\\\\t', engine='python')\n",
    "\n",
    "dataset.head()"
   ]
  },
  {
   "cell_type": "markdown",
   "metadata": {},
   "source": [
    "# Load and preprocess data"
   ]
  },
  {
   "cell_type": "code",
   "execution_count": 3,
   "metadata": {},
   "outputs": [
    {
     "name": "stderr",
     "output_type": "stream",
     "text": [
      "100%|██████████| 10000/10000 [01:54<00:00, 87.64it/s]\n"
     ]
    }
   ],
   "source": [
    "dataset_image = []\n",
    "for i in tqdm(range(dataset.shape[0])):\n",
    "    img = image.load_img(imgfile+dataset['file_name'][i], target_size=(50,50))\n",
    "    img = img.convert('L')\n",
    "    img = image.img_to_array(img)\n",
    "    img = img/255\n",
    "    img = img.flatten() \n",
    "\n",
    "    dataset_image.append(img)"
   ]
  },
  {
   "cell_type": "markdown",
   "metadata": {},
   "source": [
    "# Splitting data into 75% train and 25% test"
   ]
  },
  {
   "cell_type": "code",
   "execution_count": 4,
   "metadata": {},
   "outputs": [],
   "source": [
    "# Label the data\n",
    "X = np.array(dataset_image)\n",
    "Y = dataset['face_shape']\n",
    "\n",
    "# Split the data into training and testing(75% training and 25% testing data)\n",
    "X_train, X_test, Y_train, Y_test = train_test_split(X, Y, test_size=0.25, random_state=100)"
   ]
  },
  {
   "cell_type": "markdown",
   "metadata": {},
   "source": [
    "# Optimising the solver"
   ]
  },
  {
   "cell_type": "code",
   "execution_count": 5,
   "metadata": {},
   "outputs": [
    {
     "name": "stdout",
     "output_type": "stream",
     "text": [
      "Accuracy: 99.64%\n"
     ]
    }
   ],
   "source": [
    "#Accuracy using lbfgs solver\n",
    "model = LogisticRegression(solver = 'lbfgs', max_iter=10000)\n",
    "model.fit(X_train, Y_train)\n",
    "result = model.score(X_test, Y_test)\n",
    "print(\"Accuracy: %.2f%%\" % (result*100.0))"
   ]
  },
  {
   "cell_type": "code",
   "execution_count": 6,
   "metadata": {},
   "outputs": [
    {
     "name": "stdout",
     "output_type": "stream",
     "text": [
      "Accuracy: 99.64%\n"
     ]
    },
    {
     "name": "stderr",
     "output_type": "stream",
     "text": [
      "/Users/mel/opt/anaconda3/lib/python3.8/site-packages/scipy/optimize/linesearch.py:327: LineSearchWarning: The line search algorithm did not converge\n",
      "  warn('The line search algorithm did not converge', LineSearchWarning)\n",
      "/Users/mel/opt/anaconda3/lib/python3.8/site-packages/sklearn/utils/optimize.py:204: UserWarning: Line Search failed\n",
      "  warnings.warn('Line Search failed')\n"
     ]
    }
   ],
   "source": [
    "#Accuracy using newton-cg solver\n",
    "model = LogisticRegression(solver = 'newton-cg', max_iter=10000)\n",
    "model.fit(X_train, Y_train)\n",
    "result = model.score(X_test, Y_test)\n",
    "print(\"Accuracy: %.2f%%\" % (result*100.0))"
   ]
  },
  {
   "cell_type": "code",
   "execution_count": 7,
   "metadata": {},
   "outputs": [
    {
     "name": "stdout",
     "output_type": "stream",
     "text": [
      "Accuracy: 99.64%\n"
     ]
    }
   ],
   "source": [
    "#Accuracy using liblinear solver\n",
    "model = LogisticRegression(solver = 'liblinear', max_iter=10000)\n",
    "model.fit(X_train, Y_train)\n",
    "result = model.score(X_test, Y_test)\n",
    "print(\"Accuracy: %.2f%%\" % (result*100.0))"
   ]
  },
  {
   "cell_type": "markdown",
   "metadata": {},
   "source": [
    "# Optimising the C value"
   ]
  },
  {
   "cell_type": "code",
   "execution_count": 19,
   "metadata": {},
   "outputs": [
    {
     "name": "stdout",
     "output_type": "stream",
     "text": [
      "Accuracy: 99.84%\n"
     ]
    }
   ],
   "source": [
    "#Accuracy using C value of 10\n",
    "model = LogisticRegression(solver = 'lbfgs', max_iter=10000, C=10)\n",
    "model.fit(X_train, Y_train)\n",
    "result = model.score(X_test, Y_test)\n",
    "print(\"Accuracy: %.2f%%\" % (result*100.0))"
   ]
  },
  {
   "cell_type": "code",
   "execution_count": 20,
   "metadata": {},
   "outputs": [
    {
     "name": "stdout",
     "output_type": "stream",
     "text": [
      "Accuracy: 99.64%\n"
     ]
    }
   ],
   "source": [
    "#Accuracy using C value of 1.0\n",
    "model = LogisticRegression(solver = 'lbfgs', max_iter=10000, C=1.0)\n",
    "model.fit(X_train, Y_train)\n",
    "result = model.score(X_test, Y_test)\n",
    "print(\"Accuracy: %.2f%%\" % (result*100.0))"
   ]
  },
  {
   "cell_type": "code",
   "execution_count": 21,
   "metadata": {},
   "outputs": [
    {
     "name": "stdout",
     "output_type": "stream",
     "text": [
      "Accuracy: 99.04%\n"
     ]
    }
   ],
   "source": [
    "#Accuracy using C value of 0.1\n",
    "model = LogisticRegression(solver = 'lbfgs', max_iter=10000, C=0.1)\n",
    "model.fit(X_train, Y_train)\n",
    "result = model.score(X_test, Y_test)\n",
    "print(\"Accuracy: %.2f%%\" % (result*100.0))"
   ]
  },
  {
   "cell_type": "code",
   "execution_count": 22,
   "metadata": {},
   "outputs": [
    {
     "name": "stdout",
     "output_type": "stream",
     "text": [
      "Accuracy: 97.64%\n"
     ]
    }
   ],
   "source": [
    "#Accuracy using C value of 0.01\n",
    "model = LogisticRegression(solver = 'lbfgs', max_iter=10000, C=0.01)\n",
    "model.fit(X_train, Y_train)\n",
    "result = model.score(X_test, Y_test)\n",
    "print(\"Accuracy: %.2f%%\" % (result*100.0))"
   ]
  },
  {
   "cell_type": "markdown",
   "metadata": {},
   "source": [
    "# KFold cross validation on validation set"
   ]
  },
  {
   "cell_type": "code",
   "execution_count": 23,
   "metadata": {},
   "outputs": [
    {
     "name": "stdout",
     "output_type": "stream",
     "text": [
      "Accuracy: 99.80%\n"
     ]
    }
   ],
   "source": [
    "#KFold with 5 splits\n",
    "kfold = KFold(n_splits=5, random_state=0, shuffle=True)\n",
    "model_kfold = LogisticRegression(solver = 'liblinear', max_iter=10000, C=10)\n",
    "results_kfold = cross_val_score(model_kfold, X, Y, cv=kfold)\n",
    "print(\"Accuracy: %.2f%%\" % (results_kfold.mean()*100.0))"
   ]
  },
  {
   "cell_type": "markdown",
   "metadata": {},
   "source": [
    "# Accuracy on train set"
   ]
  },
  {
   "cell_type": "code",
   "execution_count": 8,
   "metadata": {},
   "outputs": [
    {
     "name": "stdout",
     "output_type": "stream",
     "text": [
      "Accuracy: 100.00%\n"
     ]
    }
   ],
   "source": [
    "model = LogisticRegression(solver = 'lbfgs', max_iter=10000, C=10)\n",
    "model.fit(X_train, Y_train)\n",
    "result = model.score(X_train, Y_train)\n",
    "print(\"Accuracy: %.2f%%\" % (result*100.0))"
   ]
  },
  {
   "cell_type": "markdown",
   "metadata": {},
   "source": [
    "# Accuracy on test set"
   ]
  },
  {
   "cell_type": "code",
   "execution_count": 9,
   "metadata": {},
   "outputs": [
    {
     "data": {
      "text/html": [
       "<div>\n",
       "<style scoped>\n",
       "    .dataframe tbody tr th:only-of-type {\n",
       "        vertical-align: middle;\n",
       "    }\n",
       "\n",
       "    .dataframe tbody tr th {\n",
       "        vertical-align: top;\n",
       "    }\n",
       "\n",
       "    .dataframe thead th {\n",
       "        text-align: right;\n",
       "    }\n",
       "</style>\n",
       "<table border=\"1\" class=\"dataframe\">\n",
       "  <thead>\n",
       "    <tr style=\"text-align: right;\">\n",
       "      <th></th>\n",
       "      <th>eye_color</th>\n",
       "      <th>face_shape</th>\n",
       "      <th>file_name</th>\n",
       "    </tr>\n",
       "  </thead>\n",
       "  <tbody>\n",
       "    <tr>\n",
       "      <th>0</th>\n",
       "      <td>2</td>\n",
       "      <td>1</td>\n",
       "      <td>0.png</td>\n",
       "    </tr>\n",
       "    <tr>\n",
       "      <th>1</th>\n",
       "      <td>1</td>\n",
       "      <td>4</td>\n",
       "      <td>1.png</td>\n",
       "    </tr>\n",
       "    <tr>\n",
       "      <th>2</th>\n",
       "      <td>0</td>\n",
       "      <td>2</td>\n",
       "      <td>2.png</td>\n",
       "    </tr>\n",
       "    <tr>\n",
       "      <th>3</th>\n",
       "      <td>0</td>\n",
       "      <td>2</td>\n",
       "      <td>3.png</td>\n",
       "    </tr>\n",
       "    <tr>\n",
       "      <th>4</th>\n",
       "      <td>3</td>\n",
       "      <td>3</td>\n",
       "      <td>4.png</td>\n",
       "    </tr>\n",
       "  </tbody>\n",
       "</table>\n",
       "</div>"
      ],
      "text/plain": [
       "   eye_color  face_shape file_name\n",
       "0          2           1     0.png\n",
       "1          1           4     1.png\n",
       "2          0           2     2.png\n",
       "3          0           2     3.png\n",
       "4          3           3     4.png"
      ]
     },
     "execution_count": 9,
     "metadata": {},
     "output_type": "execute_result"
    }
   ],
   "source": [
    "dirname = os.path.dirname(d)\n",
    "csvtest = os.path.join(d, 'test/cartoon_set_test/labels.csv')\n",
    "dirname = os.path.dirname(d)\n",
    "imgtest = os.path.join(d, 'test/cartoon_set_test/img/')\n",
    "\n",
    "\n",
    "dataset = pd.read_csv(csvtest, sep='\\\\t', engine='python')\n",
    "\n",
    "dataset.head()"
   ]
  },
  {
   "cell_type": "code",
   "execution_count": 10,
   "metadata": {},
   "outputs": [
    {
     "name": "stderr",
     "output_type": "stream",
     "text": [
      "100%|██████████| 2500/2500 [00:29<00:00, 84.41it/s]\n"
     ]
    }
   ],
   "source": [
    "test_dataset_image = []\n",
    "for i in tqdm(range(test_dataset.shape[0])):\n",
    "    img = image.load_img(imgtest+test_dataset['file_name'][i], target_size=(50,50))\n",
    "    img = img.convert('L')\n",
    "    img = image.img_to_array(img)\n",
    "    img = img/255\n",
    "    img = img.flatten() \n",
    "\n",
    "    test_dataset_image.append(img)"
   ]
  },
  {
   "cell_type": "code",
   "execution_count": 11,
   "metadata": {},
   "outputs": [],
   "source": [
    "# Label the data\n",
    "X_TEST = np.array(test_dataset_image)\n",
    "Y_TEST = test_dataset['face_shape']"
   ]
  },
  {
   "cell_type": "code",
   "execution_count": 12,
   "metadata": {},
   "outputs": [
    {
     "name": "stdout",
     "output_type": "stream",
     "text": [
      "Accuracy: 99.92%\n"
     ]
    }
   ],
   "source": [
    "model = LogisticRegression(solver = 'lbfgs', max_iter=10000, C=10)\n",
    "model.fit(X_train, Y_train)\n",
    "result = model.score(X_TEST, Y_TEST)\n",
    "print(\"Accuracy: %.2f%%\" % (result*100.0))"
   ]
  },
  {
   "cell_type": "code",
   "execution_count": null,
   "metadata": {},
   "outputs": [],
   "source": []
  }
 ],
 "metadata": {
  "kernelspec": {
   "display_name": "Python 3",
   "language": "python",
   "name": "python3"
  },
  "language_info": {
   "codemirror_mode": {
    "name": "ipython",
    "version": 3
   },
   "file_extension": ".py",
   "mimetype": "text/x-python",
   "name": "python",
   "nbconvert_exporter": "python",
   "pygments_lexer": "ipython3",
   "version": "3.8.5"
  }
 },
 "nbformat": 4,
 "nbformat_minor": 4
}
