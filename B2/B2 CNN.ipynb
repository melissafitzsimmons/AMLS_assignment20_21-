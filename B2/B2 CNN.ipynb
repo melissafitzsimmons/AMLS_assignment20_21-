{
 "cells": [
  {
   "cell_type": "markdown",
   "metadata": {},
   "source": [
    "# Import libraries"
   ]
  },
  {
   "cell_type": "code",
   "execution_count": 2,
   "metadata": {},
   "outputs": [],
   "source": [
    "import numpy as np\n",
    "from tqdm import tqdm\n",
    "import pandas as pd\n",
    "import os\n",
    "\n",
    "#from sklearn import datasets\n",
    "from sklearn import preprocessing\n",
    "from sklearn.model_selection import train_test_split\n",
    "#from sklearn.preprocessing import MinMaxScaler\n",
    "from sklearn.linear_model import LogisticRegression\n",
    "from sklearn.metrics import confusion_matrix, classification_report,accuracy_score\n",
    "\n",
    "import keras\n",
    "from keras.models import Sequential\n",
    "from keras.layers import Dense, Dropout, Flatten\n",
    "from keras.layers import Conv2D, MaxPooling2D\n",
    "from keras.utils import to_categorical\n",
    "from keras.preprocessing import image\n",
    "from keras.models import Sequential\n",
    "from keras.layers import Dense, Dropout, Conv2D, MaxPool2D\n",
    "from keras.utils import np_utils\n",
    "from keras.layers.normalization import BatchNormalization\n",
    "from tensorflow.keras.callbacks import EarlyStopping\n",
    "\n",
    "import matplotlib.pyplot as plt\n",
    "#from sklearn.datasets import load_iris"
   ]
  },
  {
   "cell_type": "markdown",
   "metadata": {},
   "source": [
    "# Read csv file"
   ]
  },
  {
   "cell_type": "code",
   "execution_count": 3,
   "metadata": {},
   "outputs": [
    {
     "name": "stdout",
     "output_type": "stream",
     "text": [
      "/Users/mel/Documents/MRes/Machine Learning/Assignment/AMLS_20-21_SN12345678/B2\n",
      "/Users/mel/Documents/MRes/Machine Learning/Assignment/AMLS_20-21_SN12345678\n"
     ]
    },
    {
     "data": {
      "text/html": [
       "<div>\n",
       "<style scoped>\n",
       "    .dataframe tbody tr th:only-of-type {\n",
       "        vertical-align: middle;\n",
       "    }\n",
       "\n",
       "    .dataframe tbody tr th {\n",
       "        vertical-align: top;\n",
       "    }\n",
       "\n",
       "    .dataframe thead th {\n",
       "        text-align: right;\n",
       "    }\n",
       "</style>\n",
       "<table border=\"1\" class=\"dataframe\">\n",
       "  <thead>\n",
       "    <tr style=\"text-align: right;\">\n",
       "      <th></th>\n",
       "      <th>eye_color</th>\n",
       "      <th>face_shape</th>\n",
       "      <th>file_name</th>\n",
       "    </tr>\n",
       "  </thead>\n",
       "  <tbody>\n",
       "    <tr>\n",
       "      <th>0</th>\n",
       "      <td>1</td>\n",
       "      <td>4</td>\n",
       "      <td>0.png</td>\n",
       "    </tr>\n",
       "    <tr>\n",
       "      <th>1</th>\n",
       "      <td>2</td>\n",
       "      <td>4</td>\n",
       "      <td>1.png</td>\n",
       "    </tr>\n",
       "    <tr>\n",
       "      <th>2</th>\n",
       "      <td>2</td>\n",
       "      <td>3</td>\n",
       "      <td>2.png</td>\n",
       "    </tr>\n",
       "    <tr>\n",
       "      <th>3</th>\n",
       "      <td>2</td>\n",
       "      <td>0</td>\n",
       "      <td>3.png</td>\n",
       "    </tr>\n",
       "    <tr>\n",
       "      <th>4</th>\n",
       "      <td>0</td>\n",
       "      <td>2</td>\n",
       "      <td>4.png</td>\n",
       "    </tr>\n",
       "  </tbody>\n",
       "</table>\n",
       "</div>"
      ],
      "text/plain": [
       "   eye_color  face_shape file_name\n",
       "0          1           4     0.png\n",
       "1          2           4     1.png\n",
       "2          2           3     2.png\n",
       "3          2           0     3.png\n",
       "4          0           2     4.png"
      ]
     },
     "execution_count": 3,
     "metadata": {},
     "output_type": "execute_result"
    }
   ],
   "source": [
    "p = os.getcwd()\n",
    "print(p)\n",
    "\n",
    "os.chdir(\"..\")\n",
    "d = os.getcwd()\n",
    "print(d)\n",
    "\n",
    "\n",
    "\n",
    "dirname = os.path.dirname(d)\n",
    "csvfile = os.path.join(d, 'datasets/cartoon_set/labels.csv')\n",
    "dirname = os.path.dirname(d)\n",
    "imgfile = os.path.join(d, 'datasets/cartoon_set/img/')\n",
    "\n",
    "dataset = pd.read_csv(csvfile, sep='\\\\t', engine='python')\n",
    "\n",
    "dataset.head()"
   ]
  },
  {
   "cell_type": "markdown",
   "metadata": {},
   "source": [
    "# Load and preprocess data"
   ]
  },
  {
   "cell_type": "code",
   "execution_count": 4,
   "metadata": {},
   "outputs": [
    {
     "name": "stderr",
     "output_type": "stream",
     "text": [
      "100%|██████████| 10000/10000 [01:10<00:00, 142.69it/s]\n"
     ]
    }
   ],
   "source": [
    "dataset_image = []\n",
    "for i in tqdm(range(dataset.shape[0])):\n",
    "    img = image.load_img(imgfile+dataset['file_name'][i], target_size=(100,100))\n",
    "    img = image.img_to_array(img)\n",
    "    img = img/255\n",
    "\n",
    "    dataset_image.append(img)"
   ]
  },
  {
   "cell_type": "markdown",
   "metadata": {},
   "source": [
    "# Label and split data"
   ]
  },
  {
   "cell_type": "code",
   "execution_count": 5,
   "metadata": {},
   "outputs": [],
   "source": [
    "# Label the data\n",
    "x = np.array(dataset_image)\n",
    "y = dataset['eye_color']"
   ]
  },
  {
   "cell_type": "code",
   "execution_count": 6,
   "metadata": {},
   "outputs": [],
   "source": [
    "# Split the data into training and testing(75% training and 25% testing data)\n",
    "x_train, x_test, y_train, y_test = train_test_split(x, y, test_size=0.25, random_state=100)"
   ]
  },
  {
   "cell_type": "code",
   "execution_count": 7,
   "metadata": {},
   "outputs": [
    {
     "data": {
      "text/plain": [
       "(10000, 100, 100, 3)"
      ]
     },
     "execution_count": 7,
     "metadata": {},
     "output_type": "execute_result"
    }
   ],
   "source": [
    "x.shape"
   ]
  },
  {
   "cell_type": "code",
   "execution_count": 8,
   "metadata": {},
   "outputs": [],
   "source": [
    "#Convert data type to 'float32'\n",
    "x_train = x_train.astype('float32')\n",
    "x_test = x_test.astype('float32')"
   ]
  },
  {
   "cell_type": "code",
   "execution_count": 9,
   "metadata": {},
   "outputs": [
    {
     "name": "stdout",
     "output_type": "stream",
     "text": [
      "Shape before one-hot encoding:  (7500,)\n",
      "Shape after one-hot encoding:  (7500, 5)\n"
     ]
    }
   ],
   "source": [
    "#One-hot encoding of data\n",
    "n_classes = 5\n",
    "print(\"Shape before one-hot encoding: \", y_train.shape)\n",
    "y_train = np_utils.to_categorical(y_train, n_classes)\n",
    "y_test = np_utils.to_categorical(y_test, n_classes)\n",
    "print(\"Shape after one-hot encoding: \", y_train.shape)"
   ]
  },
  {
   "cell_type": "markdown",
   "metadata": {},
   "source": [
    "# Optimise batch size"
   ]
  },
  {
   "cell_type": "code",
   "execution_count": 10,
   "metadata": {
    "scrolled": true
   },
   "outputs": [
    {
     "name": "stdout",
     "output_type": "stream",
     "text": [
      "Epoch 1/100\n",
      "59/59 [==============================] - 49s 838ms/step - loss: 1.6785 - accuracy: 0.2259 - val_loss: 1.8759 - val_accuracy: 0.2296\n",
      "Epoch 2/100\n",
      "59/59 [==============================] - 50s 854ms/step - loss: 1.0764 - accuracy: 0.5916 - val_loss: 1.4857 - val_accuracy: 0.4068\n",
      "Epoch 3/100\n",
      "59/59 [==============================] - 50s 839ms/step - loss: 0.4525 - accuracy: 0.8380 - val_loss: 1.3941 - val_accuracy: 0.6656\n",
      "Epoch 4/100\n",
      "59/59 [==============================] - 52s 882ms/step - loss: 0.3662 - accuracy: 0.8575 - val_loss: 1.2906 - val_accuracy: 0.6144\n",
      "Epoch 5/100\n",
      "59/59 [==============================] - 50s 847ms/step - loss: 0.3127 - accuracy: 0.8753 - val_loss: 1.1577 - val_accuracy: 0.6704\n",
      "Epoch 6/100\n",
      "59/59 [==============================] - 49s 824ms/step - loss: 0.2723 - accuracy: 0.8943 - val_loss: 1.0106 - val_accuracy: 0.7452\n",
      "Epoch 7/100\n",
      "59/59 [==============================] - 48s 820ms/step - loss: 0.2505 - accuracy: 0.9032 - val_loss: 0.9368 - val_accuracy: 0.7952\n",
      "Epoch 8/100\n",
      "59/59 [==============================] - 51s 860ms/step - loss: 0.2227 - accuracy: 0.9179 - val_loss: 0.8159 - val_accuracy: 0.8124\n",
      "Epoch 9/100\n",
      "59/59 [==============================] - 50s 844ms/step - loss: 0.1986 - accuracy: 0.9279 - val_loss: 0.7387 - val_accuracy: 0.8248\n",
      "Epoch 10/100\n",
      "59/59 [==============================] - 48s 819ms/step - loss: 0.1746 - accuracy: 0.9383 - val_loss: 0.6591 - val_accuracy: 0.8264\n",
      "Epoch 11/100\n",
      "59/59 [==============================] - 49s 826ms/step - loss: 0.1515 - accuracy: 0.9463 - val_loss: 0.6025 - val_accuracy: 0.8308\n",
      "Epoch 12/100\n",
      "59/59 [==============================] - 51s 862ms/step - loss: 0.1382 - accuracy: 0.9545 - val_loss: 0.5347 - val_accuracy: 0.8476\n",
      "Epoch 13/100\n",
      "59/59 [==============================] - 49s 829ms/step - loss: 0.1275 - accuracy: 0.9552 - val_loss: 0.4773 - val_accuracy: 0.8416\n",
      "Epoch 14/100\n",
      "59/59 [==============================] - 48s 815ms/step - loss: 0.1016 - accuracy: 0.9673 - val_loss: 0.4607 - val_accuracy: 0.8424\n",
      "Epoch 15/100\n",
      "59/59 [==============================] - 50s 850ms/step - loss: 0.0832 - accuracy: 0.9751 - val_loss: 0.4674 - val_accuracy: 0.8436\n",
      "Epoch 16/100\n",
      "59/59 [==============================] - 51s 856ms/step - loss: 0.0702 - accuracy: 0.9809 - val_loss: 0.4990 - val_accuracy: 0.8472\n",
      "Epoch 17/100\n",
      "59/59 [==============================] - 49s 836ms/step - loss: 0.0648 - accuracy: 0.9813 - val_loss: 0.5702 - val_accuracy: 0.8356\n",
      "Epoch 18/100\n",
      "59/59 [==============================] - 48s 819ms/step - loss: 0.0895 - accuracy: 0.9741 - val_loss: 0.6091 - val_accuracy: 0.8364\n",
      "Epoch 19/100\n",
      "59/59 [==============================] - 49s 823ms/step - loss: 0.0791 - accuracy: 0.9761 - val_loss: 0.5674 - val_accuracy: 0.8400\n",
      "Epoch 20/100\n",
      "59/59 [==============================] - 49s 833ms/step - loss: 0.0671 - accuracy: 0.9836 - val_loss: 0.6304 - val_accuracy: 0.8388\n",
      "Epoch 21/100\n",
      "59/59 [==============================] - 50s 854ms/step - loss: 0.0563 - accuracy: 0.9841 - val_loss: 0.6530 - val_accuracy: 0.8432\n",
      "Epoch 22/100\n",
      "59/59 [==============================] - 49s 827ms/step - loss: 0.0519 - accuracy: 0.9872 - val_loss: 0.6615 - val_accuracy: 0.8472\n",
      "Epoch 23/100\n",
      "59/59 [==============================] - 49s 833ms/step - loss: 0.0352 - accuracy: 0.9924 - val_loss: 0.6440 - val_accuracy: 0.8456\n",
      "Epoch 24/100\n",
      "59/59 [==============================] - 50s 844ms/step - loss: 0.0303 - accuracy: 0.9921 - val_loss: 0.6756 - val_accuracy: 0.8468\n",
      "Epoch 00024: early stopping\n"
     ]
    },
    {
     "data": {
      "text/plain": [
       "<tensorflow.python.keras.callbacks.History at 0x1f5b03e80>"
      ]
     },
     "execution_count": 10,
     "metadata": {},
     "output_type": "execute_result"
    }
   ],
   "source": [
    "#batch size 128\n",
    "\n",
    "# building a linear stack of layers with the sequential model\n",
    "model = Sequential()\n",
    "# convolutional layer\n",
    "model.add(Conv2D(25, kernel_size=(3,3), strides=(1,1), padding='valid', activation='relu', input_shape=(100,100,3)))\n",
    "model.add(MaxPool2D(pool_size=(1,1)))\n",
    "# flatten output of conv\n",
    "model.add(Flatten())\n",
    "# hidden layer\n",
    "model.add(Dense(100, activation='relu'))\n",
    "model.add(BatchNormalization())\n",
    "model.add(Dropout(0.1))\n",
    "# output layer\n",
    "model.add(Dense(5, activation='softmax'))\n",
    "\n",
    "# compiling the sequential model\n",
    "model.compile(loss='categorical_crossentropy', metrics=['accuracy'], optimizer='Adam')\n",
    "es = EarlyStopping(monitor='val_loss', mode='min', verbose=1, patience=10)\n",
    "\n",
    "# training the model for 100 epochs\n",
    "model.fit(x_train, y_train, batch_size=128, epochs=100, validation_data=(x_test, y_test), callbacks=[es])"
   ]
  },
  {
   "cell_type": "code",
   "execution_count": 10,
   "metadata": {
    "scrolled": true
   },
   "outputs": [
    {
     "name": "stdout",
     "output_type": "stream",
     "text": [
      "Epoch 1/100\n",
      "118/118 [==============================] - 55s 468ms/step - loss: 1.6988 - accuracy: 0.2299 - val_loss: 1.6449 - val_accuracy: 0.3300\n",
      "Epoch 2/100\n",
      "118/118 [==============================] - 51s 429ms/step - loss: 0.9364 - accuracy: 0.6669 - val_loss: 1.7137 - val_accuracy: 0.2072\n",
      "Epoch 3/100\n",
      "118/118 [==============================] - 51s 435ms/step - loss: 0.4627 - accuracy: 0.8337 - val_loss: 1.3282 - val_accuracy: 0.2312\n",
      "Epoch 4/100\n",
      "118/118 [==============================] - 51s 431ms/step - loss: 0.3862 - accuracy: 0.8539 - val_loss: 1.0145 - val_accuracy: 0.6856\n",
      "Epoch 5/100\n",
      "118/118 [==============================] - 51s 433ms/step - loss: 0.3400 - accuracy: 0.8721 - val_loss: 0.7317 - val_accuracy: 0.7860\n",
      "Epoch 6/100\n",
      "118/118 [==============================] - 51s 434ms/step - loss: 0.3042 - accuracy: 0.8788 - val_loss: 0.4623 - val_accuracy: 0.8428\n",
      "Epoch 7/100\n",
      "118/118 [==============================] - 51s 432ms/step - loss: 0.2689 - accuracy: 0.8983 - val_loss: 0.4268 - val_accuracy: 0.8388\n",
      "Epoch 8/100\n",
      "118/118 [==============================] - 51s 433ms/step - loss: 0.2429 - accuracy: 0.9089 - val_loss: 0.4236 - val_accuracy: 0.8476\n",
      "Epoch 9/100\n",
      "118/118 [==============================] - 51s 429ms/step - loss: 0.2325 - accuracy: 0.9109 - val_loss: 0.4292 - val_accuracy: 0.8444\n",
      "Epoch 10/100\n",
      "118/118 [==============================] - 52s 440ms/step - loss: 0.2011 - accuracy: 0.9249 - val_loss: 0.4331 - val_accuracy: 0.8444\n",
      "Epoch 11/100\n",
      "118/118 [==============================] - 50s 428ms/step - loss: 0.1748 - accuracy: 0.9361 - val_loss: 0.4695 - val_accuracy: 0.8472\n",
      "Epoch 12/100\n",
      "118/118 [==============================] - 51s 431ms/step - loss: 0.1570 - accuracy: 0.9460 - val_loss: 0.4749 - val_accuracy: 0.8528\n",
      "Epoch 13/100\n",
      "118/118 [==============================] - 53s 451ms/step - loss: 0.1419 - accuracy: 0.9537 - val_loss: 0.5160 - val_accuracy: 0.8444\n",
      "Epoch 14/100\n",
      "118/118 [==============================] - 51s 436ms/step - loss: 0.1189 - accuracy: 0.9620 - val_loss: 0.6254 - val_accuracy: 0.8384\n",
      "Epoch 15/100\n",
      "118/118 [==============================] - 52s 443ms/step - loss: 0.1113 - accuracy: 0.9615 - val_loss: 0.5558 - val_accuracy: 0.8436\n",
      "Epoch 16/100\n",
      "118/118 [==============================] - 52s 439ms/step - loss: 0.1127 - accuracy: 0.9631 - val_loss: 0.5777 - val_accuracy: 0.8464\n",
      "Epoch 17/100\n",
      "118/118 [==============================] - 51s 436ms/step - loss: 0.0805 - accuracy: 0.9749 - val_loss: 0.5589 - val_accuracy: 0.8516\n",
      "Epoch 18/100\n",
      "118/118 [==============================] - 52s 440ms/step - loss: 0.0764 - accuracy: 0.9752 - val_loss: 0.6151 - val_accuracy: 0.8420\n",
      "Epoch 00018: early stopping\n"
     ]
    },
    {
     "data": {
      "text/plain": [
       "<tensorflow.python.keras.callbacks.History at 0x118d3d5e0>"
      ]
     },
     "execution_count": 10,
     "metadata": {},
     "output_type": "execute_result"
    }
   ],
   "source": [
    "#batch size 64\n",
    "\n",
    "# building a linear stack of layers with the sequential model\n",
    "model = Sequential()\n",
    "# convolutional layer\n",
    "model.add(Conv2D(25, kernel_size=(3,3), strides=(1,1), padding='valid', activation='relu', input_shape=(100,100,3)))\n",
    "model.add(MaxPool2D(pool_size=(1,1)))\n",
    "# flatten output of conv\n",
    "model.add(Flatten())\n",
    "# hidden layer\n",
    "model.add(Dense(100, activation='relu'))\n",
    "model.add(BatchNormalization())\n",
    "model.add(Dropout(0.1))\n",
    "# output layer\n",
    "model.add(Dense(5, activation='softmax'))\n",
    "\n",
    "# compiling the sequential model\n",
    "model.compile(loss='categorical_crossentropy', metrics=['accuracy'], optimizer='Adam')\n",
    "es = EarlyStopping(monitor='val_loss', mode='min', verbose=1, patience=10)\n",
    "\n",
    "# training the model for 100 epochs\n",
    "model.fit(x_train, y_train, batch_size=64, epochs=100, validation_data=(x_test, y_test), callbacks=[es])"
   ]
  },
  {
   "cell_type": "code",
   "execution_count": 11,
   "metadata": {},
   "outputs": [
    {
     "name": "stdout",
     "output_type": "stream",
     "text": [
      "Epoch 1/256\n",
      "59/59 [==============================] - 46s 777ms/step - loss: 1.7328 - accuracy: 0.2341 - val_loss: 1.8202 - val_accuracy: 0.1972\n",
      "Epoch 2/256\n",
      "59/59 [==============================] - 47s 790ms/step - loss: 1.0897 - accuracy: 0.6013 - val_loss: 1.4905 - val_accuracy: 0.3400\n",
      "Epoch 3/256\n",
      "59/59 [==============================] - 46s 775ms/step - loss: 0.4924 - accuracy: 0.8292 - val_loss: 1.3075 - val_accuracy: 0.4432\n",
      "Epoch 4/256\n",
      "59/59 [==============================] - 47s 794ms/step - loss: 0.3693 - accuracy: 0.8611 - val_loss: 1.1236 - val_accuracy: 0.6768\n",
      "Epoch 5/256\n",
      "59/59 [==============================] - 46s 783ms/step - loss: 0.3224 - accuracy: 0.8783 - val_loss: 0.9044 - val_accuracy: 0.8236\n",
      "Epoch 6/256\n",
      "59/59 [==============================] - 46s 773ms/step - loss: 0.2972 - accuracy: 0.8879 - val_loss: 0.7775 - val_accuracy: 0.8232\n",
      "Epoch 7/256\n",
      "59/59 [==============================] - 46s 784ms/step - loss: 0.2670 - accuracy: 0.8989 - val_loss: 0.6351 - val_accuracy: 0.8336\n",
      "Epoch 8/256\n",
      "59/59 [==============================] - 46s 780ms/step - loss: 0.2526 - accuracy: 0.9073 - val_loss: 0.5457 - val_accuracy: 0.8348\n",
      "Epoch 9/256\n",
      "59/59 [==============================] - 46s 782ms/step - loss: 0.2291 - accuracy: 0.9141 - val_loss: 0.4881 - val_accuracy: 0.8408\n",
      "Epoch 10/256\n",
      "59/59 [==============================] - 47s 796ms/step - loss: 0.2074 - accuracy: 0.9247 - val_loss: 0.5261 - val_accuracy: 0.8308\n",
      "Epoch 11/256\n",
      "59/59 [==============================] - 48s 820ms/step - loss: 0.1909 - accuracy: 0.9309 - val_loss: 0.4657 - val_accuracy: 0.8368\n",
      "Epoch 12/256\n",
      "59/59 [==============================] - 46s 783ms/step - loss: 0.1664 - accuracy: 0.9439 - val_loss: 0.4743 - val_accuracy: 0.8308\n",
      "Epoch 13/256\n",
      "59/59 [==============================] - 45s 767ms/step - loss: 0.1476 - accuracy: 0.9517 - val_loss: 0.4639 - val_accuracy: 0.8416\n",
      "Epoch 14/256\n",
      "59/59 [==============================] - 46s 775ms/step - loss: 0.1258 - accuracy: 0.9580 - val_loss: 0.4857 - val_accuracy: 0.8440\n",
      "Epoch 15/256\n",
      "59/59 [==============================] - 46s 780ms/step - loss: 0.1124 - accuracy: 0.9655 - val_loss: 0.5382 - val_accuracy: 0.8328\n",
      "Epoch 16/256\n",
      "59/59 [==============================] - 46s 780ms/step - loss: 0.1063 - accuracy: 0.9659 - val_loss: 0.5466 - val_accuracy: 0.8412\n",
      "Epoch 17/256\n",
      "59/59 [==============================] - 46s 781ms/step - loss: 0.0875 - accuracy: 0.9748 - val_loss: 0.5584 - val_accuracy: 0.8428\n",
      "Epoch 18/256\n",
      "59/59 [==============================] - 45s 770ms/step - loss: 0.0734 - accuracy: 0.9804 - val_loss: 0.5618 - val_accuracy: 0.8460\n",
      "Epoch 19/256\n",
      "59/59 [==============================] - 45s 769ms/step - loss: 0.0689 - accuracy: 0.9819 - val_loss: 0.5759 - val_accuracy: 0.8404\n",
      "Epoch 20/256\n",
      "59/59 [==============================] - 46s 786ms/step - loss: 0.0707 - accuracy: 0.9808 - val_loss: 0.6265 - val_accuracy: 0.8472\n",
      "Epoch 21/256\n",
      "59/59 [==============================] - 46s 782ms/step - loss: 0.0586 - accuracy: 0.9832 - val_loss: 0.5888 - val_accuracy: 0.8480\n",
      "Epoch 22/256\n",
      "59/59 [==============================] - 46s 775ms/step - loss: 0.0469 - accuracy: 0.9876 - val_loss: 0.6747 - val_accuracy: 0.8420\n",
      "Epoch 23/256\n",
      "59/59 [==============================] - 46s 782ms/step - loss: 0.0452 - accuracy: 0.9876 - val_loss: 0.6506 - val_accuracy: 0.8424\n",
      "Epoch 00023: early stopping\n"
     ]
    },
    {
     "data": {
      "text/plain": [
       "<tensorflow.python.keras.callbacks.History at 0x118e77ca0>"
      ]
     },
     "execution_count": 11,
     "metadata": {},
     "output_type": "execute_result"
    }
   ],
   "source": [
    "#batch size 256\n",
    "\n",
    "# building a linear stack of layers with the sequential model\n",
    "model = Sequential()\n",
    "# convolutional layer\n",
    "model.add(Conv2D(25, kernel_size=(3,3), strides=(1,1), padding='valid', activation='relu', input_shape=(100,100,3)))\n",
    "model.add(MaxPool2D(pool_size=(1,1)))\n",
    "# flatten output of conv\n",
    "model.add(Flatten())\n",
    "# hidden layer\n",
    "model.add(Dense(100, activation='relu'))\n",
    "model.add(BatchNormalization())\n",
    "model.add(Dropout(0.1))\n",
    "# output layer\n",
    "model.add(Dense(5, activation='softmax'))\n",
    "\n",
    "# compiling the sequential model\n",
    "model.compile(loss='categorical_crossentropy', metrics=['accuracy'], optimizer='Adam')\n",
    "es = EarlyStopping(monitor='val_loss', mode='min', verbose=1, patience=10)\n",
    "\n",
    "# training the model for 100 epochs\n",
    "model.fit(x_train, y_train, batch_size=256, epochs=100, validation_data=(x_test, y_test), callbacks=[es])"
   ]
  },
  {
   "cell_type": "code",
   "execution_count": null,
   "metadata": {},
   "outputs": [],
   "source": [
    "#Batch size 256 has highest accuracy"
   ]
  },
  {
   "cell_type": "markdown",
   "metadata": {},
   "source": [
    "# Optimise optimiser"
   ]
  },
  {
   "cell_type": "code",
   "execution_count": 20,
   "metadata": {},
   "outputs": [
    {
     "name": "stdout",
     "output_type": "stream",
     "text": [
      "Epoch 1/100\n",
      "30/30 [==============================] - 49s 2s/step - loss: 1.5428 - accuracy: 0.3708 - val_loss: 1.5396 - val_accuracy: 0.2608\n",
      "Epoch 2/100\n",
      "30/30 [==============================] - 50s 2s/step - loss: 0.6214 - accuracy: 0.7905 - val_loss: 1.4435 - val_accuracy: 0.5788\n",
      "Epoch 3/100\n",
      "30/30 [==============================] - 49s 2s/step - loss: 0.3999 - accuracy: 0.8512 - val_loss: 1.3713 - val_accuracy: 0.6764\n",
      "Epoch 4/100\n",
      "30/30 [==============================] - 48s 2s/step - loss: 0.3503 - accuracy: 0.8657 - val_loss: 1.3285 - val_accuracy: 0.6448\n",
      "Epoch 5/100\n",
      "30/30 [==============================] - 49s 2s/step - loss: 0.3207 - accuracy: 0.8785 - val_loss: 1.2493 - val_accuracy: 0.7896\n",
      "Epoch 6/100\n",
      "30/30 [==============================] - 48s 2s/step - loss: 0.2966 - accuracy: 0.8880 - val_loss: 1.1770 - val_accuracy: 0.8244\n",
      "Epoch 7/100\n",
      "30/30 [==============================] - 48s 2s/step - loss: 0.2759 - accuracy: 0.8959 - val_loss: 1.1081 - val_accuracy: 0.8292\n",
      "Epoch 8/100\n",
      "30/30 [==============================] - 56s 2s/step - loss: 0.2535 - accuracy: 0.9064 - val_loss: 1.0420 - val_accuracy: 0.8384\n",
      "Epoch 9/100\n",
      "30/30 [==============================] - 55s 2s/step - loss: 0.2429 - accuracy: 0.9139 - val_loss: 0.9720 - val_accuracy: 0.8456\n",
      "Epoch 10/100\n",
      "30/30 [==============================] - 55s 2s/step - loss: 0.2303 - accuracy: 0.9195 - val_loss: 0.8889 - val_accuracy: 0.8456\n",
      "Epoch 11/100\n",
      "30/30 [==============================] - 56s 2s/step - loss: 0.2144 - accuracy: 0.9280 - val_loss: 0.8037 - val_accuracy: 0.8396\n",
      "Epoch 12/100\n",
      "30/30 [==============================] - 53s 2s/step - loss: 0.2027 - accuracy: 0.9351 - val_loss: 0.7089 - val_accuracy: 0.8468\n",
      "Epoch 13/100\n",
      "30/30 [==============================] - 55s 2s/step - loss: 0.1887 - accuracy: 0.9397 - val_loss: 0.6714 - val_accuracy: 0.8428\n",
      "Epoch 14/100\n",
      "30/30 [==============================] - 54s 2s/step - loss: 0.1861 - accuracy: 0.9421 - val_loss: 0.5820 - val_accuracy: 0.8464\n",
      "Epoch 15/100\n",
      "30/30 [==============================] - 56s 2s/step - loss: 0.1709 - accuracy: 0.9493 - val_loss: 0.5289 - val_accuracy: 0.8496\n",
      "Epoch 16/100\n",
      "30/30 [==============================] - 56s 2s/step - loss: 0.1678 - accuracy: 0.9505 - val_loss: 0.5051 - val_accuracy: 0.8472\n",
      "Epoch 17/100\n",
      "30/30 [==============================] - 55s 2s/step - loss: 0.1503 - accuracy: 0.9587 - val_loss: 0.4659 - val_accuracy: 0.8520\n",
      "Epoch 18/100\n",
      "30/30 [==============================] - 54s 2s/step - loss: 0.1424 - accuracy: 0.9621 - val_loss: 0.4285 - val_accuracy: 0.8452\n",
      "Epoch 19/100\n",
      "30/30 [==============================] - 55s 2s/step - loss: 0.1356 - accuracy: 0.9652 - val_loss: 0.4296 - val_accuracy: 0.8496\n",
      "Epoch 20/100\n",
      "30/30 [==============================] - 55s 2s/step - loss: 0.1286 - accuracy: 0.9676 - val_loss: 0.4226 - val_accuracy: 0.8500\n",
      "Epoch 21/100\n",
      "30/30 [==============================] - 55s 2s/step - loss: 0.1229 - accuracy: 0.9705 - val_loss: 0.4081 - val_accuracy: 0.8496\n",
      "Epoch 22/100\n",
      "30/30 [==============================] - 54s 2s/step - loss: 0.1170 - accuracy: 0.9752 - val_loss: 0.4318 - val_accuracy: 0.8508\n",
      "Epoch 23/100\n",
      "30/30 [==============================] - 56s 2s/step - loss: 0.1102 - accuracy: 0.9760 - val_loss: 0.4152 - val_accuracy: 0.8520\n",
      "Epoch 24/100\n",
      "30/30 [==============================] - 57s 2s/step - loss: 0.1135 - accuracy: 0.9749 - val_loss: 0.4295 - val_accuracy: 0.8488\n",
      "Epoch 25/100\n",
      "30/30 [==============================] - 56s 2s/step - loss: 0.0998 - accuracy: 0.9812 - val_loss: 0.4368 - val_accuracy: 0.8528\n",
      "Epoch 26/100\n",
      "30/30 [==============================] - 48s 2s/step - loss: 0.0925 - accuracy: 0.9845 - val_loss: 0.4452 - val_accuracy: 0.8484\n",
      "Epoch 27/100\n",
      "30/30 [==============================] - 49s 2s/step - loss: 0.0894 - accuracy: 0.9847 - val_loss: 0.4428 - val_accuracy: 0.8460\n",
      "Epoch 28/100\n",
      "30/30 [==============================] - 48s 2s/step - loss: 0.0855 - accuracy: 0.9868 - val_loss: 0.4848 - val_accuracy: 0.8448\n",
      "Epoch 29/100\n",
      "30/30 [==============================] - 48s 2s/step - loss: 0.0865 - accuracy: 0.9843 - val_loss: 0.4524 - val_accuracy: 0.8508\n",
      "Epoch 30/100\n",
      "30/30 [==============================] - 49s 2s/step - loss: 0.0757 - accuracy: 0.9899 - val_loss: 0.4352 - val_accuracy: 0.8508\n",
      "Epoch 31/100\n",
      "30/30 [==============================] - 48s 2s/step - loss: 0.0724 - accuracy: 0.9911 - val_loss: 0.4679 - val_accuracy: 0.8436\n",
      "Epoch 00031: early stopping\n"
     ]
    }
   ],
   "source": [
    "#Evaluate SGD optimizer\n",
    "\n",
    "# building a linear stack of layers with the sequential model\n",
    "model = Sequential()\n",
    "# convolutional layer\n",
    "model.add(Conv2D(25, kernel_size=(3,3), strides=(1,1), padding='valid', activation='relu', input_shape=(100,100,3)))\n",
    "model.add(MaxPool2D(pool_size=(1,1)))\n",
    "# flatten output of conv\n",
    "model.add(Flatten())\n",
    "# hidden layer\n",
    "model.add(Dense(100, activation='relu'))\n",
    "model.add(BatchNormalization())\n",
    "model.add(Dropout(0.1))\n",
    "# output layer\n",
    "model.add(Dense(5, activation='softmax'))\n",
    "\n",
    "# compiling the sequential model\n",
    "model.compile(loss='categorical_crossentropy', metrics=['accuracy'], optimizer='SGD')\n",
    "es = EarlyStopping(monitor='val_loss', mode='min', verbose=1, patience=10)\n",
    "\n",
    "# training the model for 100 epochs\n",
    "history=model.fit(x_train, y_train, batch_size=128, epochs=100, validation_data=(x_test, y_test), callbacks=[es])"
   ]
  },
  {
   "cell_type": "code",
   "execution_count": 10,
   "metadata": {
    "scrolled": true
   },
   "outputs": [
    {
     "name": "stdout",
     "output_type": "stream",
     "text": [
      "Epoch 1/100\n",
      "30/30 [==============================] - 55s 2s/step - loss: 1.8032 - accuracy: 0.2419 - val_loss: 1.6267 - val_accuracy: 0.2628\n",
      "Epoch 2/100\n",
      "30/30 [==============================] - 52s 2s/step - loss: 1.2418 - accuracy: 0.5533 - val_loss: 1.4491 - val_accuracy: 0.3920\n",
      "Epoch 3/100\n",
      "30/30 [==============================] - 54s 2s/step - loss: 0.5759 - accuracy: 0.8117 - val_loss: 1.3053 - val_accuracy: 0.5296\n",
      "Epoch 4/100\n",
      "30/30 [==============================] - 51s 2s/step - loss: 0.4292 - accuracy: 0.8429 - val_loss: 1.1473 - val_accuracy: 0.5416\n",
      "Epoch 5/100\n",
      "30/30 [==============================] - 52s 2s/step - loss: 0.3599 - accuracy: 0.8636 - val_loss: 1.9779 - val_accuracy: 0.4192\n",
      "Epoch 6/100\n",
      "30/30 [==============================] - 51s 2s/step - loss: 0.3276 - accuracy: 0.8789 - val_loss: 0.8550 - val_accuracy: 0.7640\n",
      "Epoch 7/100\n",
      "30/30 [==============================] - 52s 2s/step - loss: 0.2769 - accuracy: 0.8917 - val_loss: 0.8199 - val_accuracy: 0.7744\n",
      "Epoch 8/100\n",
      "30/30 [==============================] - 51s 2s/step - loss: 0.2472 - accuracy: 0.9093 - val_loss: 0.6704 - val_accuracy: 0.8116\n",
      "Epoch 9/100\n",
      "30/30 [==============================] - 51s 2s/step - loss: 0.2469 - accuracy: 0.9112 - val_loss: 0.5634 - val_accuracy: 0.8376\n",
      "Epoch 10/100\n",
      "30/30 [==============================] - 52s 2s/step - loss: 0.1844 - accuracy: 0.9311 - val_loss: 0.5689 - val_accuracy: 0.8324\n",
      "Epoch 11/100\n",
      "30/30 [==============================] - 51s 2s/step - loss: 0.1683 - accuracy: 0.9397 - val_loss: 0.5209 - val_accuracy: 0.8452\n",
      "Epoch 12/100\n",
      "30/30 [==============================] - 52s 2s/step - loss: 0.1443 - accuracy: 0.9509 - val_loss: 0.5406 - val_accuracy: 0.8428\n",
      "Epoch 13/100\n",
      "30/30 [==============================] - 51s 2s/step - loss: 0.1171 - accuracy: 0.9620 - val_loss: 0.5249 - val_accuracy: 0.8368\n",
      "Epoch 14/100\n",
      "30/30 [==============================] - 55s 2s/step - loss: 0.0996 - accuracy: 0.9679 - val_loss: 0.4822 - val_accuracy: 0.8456\n",
      "Epoch 15/100\n",
      "30/30 [==============================] - 56s 2s/step - loss: 0.0957 - accuracy: 0.9717 - val_loss: 0.5271 - val_accuracy: 0.8372\n",
      "Epoch 16/100\n",
      "30/30 [==============================] - 52s 2s/step - loss: 0.0707 - accuracy: 0.9795 - val_loss: 0.6067 - val_accuracy: 0.8256\n",
      "Epoch 17/100\n",
      "30/30 [==============================] - 55s 2s/step - loss: 0.0683 - accuracy: 0.9788 - val_loss: 0.4945 - val_accuracy: 0.8440\n",
      "Epoch 18/100\n",
      "30/30 [==============================] - 59s 2s/step - loss: 0.0692 - accuracy: 0.9769 - val_loss: 2.7609 - val_accuracy: 0.5864\n",
      "Epoch 19/100\n",
      "30/30 [==============================] - 54s 2s/step - loss: 0.0576 - accuracy: 0.9848 - val_loss: 0.5283 - val_accuracy: 0.8496\n",
      "Epoch 20/100\n",
      "30/30 [==============================] - 56s 2s/step - loss: 0.0425 - accuracy: 0.9891 - val_loss: 0.5801 - val_accuracy: 0.8456\n",
      "Epoch 21/100\n",
      "30/30 [==============================] - 52s 2s/step - loss: 0.0435 - accuracy: 0.9887 - val_loss: 0.5588 - val_accuracy: 0.8444\n",
      "Epoch 22/100\n",
      "30/30 [==============================] - 53s 2s/step - loss: 0.0381 - accuracy: 0.9887 - val_loss: 0.5922 - val_accuracy: 0.8476\n",
      "Epoch 23/100\n",
      "30/30 [==============================] - 54s 2s/step - loss: 0.0430 - accuracy: 0.9883 - val_loss: 0.6157 - val_accuracy: 0.8516\n",
      "Epoch 24/100\n",
      "30/30 [==============================] - 52s 2s/step - loss: 0.0227 - accuracy: 0.9945 - val_loss: 0.6274 - val_accuracy: 0.8444\n",
      "Epoch 00024: early stopping\n"
     ]
    },
    {
     "data": {
      "text/plain": [
       "<tensorflow.python.keras.callbacks.History at 0x1fd1530d0>"
      ]
     },
     "execution_count": 10,
     "metadata": {},
     "output_type": "execute_result"
    }
   ],
   "source": [
    "#Evalute RMSprop optimizer\n",
    "\n",
    "# building a linear stack of layers with the sequential model\n",
    "model = Sequential()\n",
    "# convolutional layer\n",
    "model.add(Conv2D(25, kernel_size=(3,3), strides=(1,1), padding='valid', activation='relu', input_shape=(100,100,3)))\n",
    "model.add(MaxPool2D(pool_size=(1,1)))\n",
    "# flatten output of conv\n",
    "model.add(Flatten())\n",
    "# hidden layer\n",
    "model.add(Dense(100, activation='relu'))\n",
    "model.add(BatchNormalization())\n",
    "model.add(Dropout(0.1))\n",
    "# output layer\n",
    "model.add(Dense(5, activation='softmax'))\n",
    "\n",
    "# compiling the sequential model\n",
    "model.compile(loss='categorical_crossentropy', metrics=['accuracy'], optimizer='RMSProp')\n",
    "es = EarlyStopping(monitor='val_loss', mode='min', verbose=1, patience=10)\n",
    "\n",
    "# training the model for 100 epochs\n",
    "model.fit(x_train, y_train, batch_size=128, epochs=100, validation_data=(x_test, y_test), callbacks=[es])"
   ]
  },
  {
   "cell_type": "code",
   "execution_count": 11,
   "metadata": {},
   "outputs": [],
   "source": [
    "#SGD optimiser selected"
   ]
  },
  {
   "cell_type": "markdown",
   "metadata": {},
   "source": [
    "# Evaluate number of convolutional layers"
   ]
  },
  {
   "cell_type": "code",
   "execution_count": 12,
   "metadata": {},
   "outputs": [
    {
     "name": "stdout",
     "output_type": "stream",
     "text": [
      "Epoch 1/100\n",
      "30/30 [==============================] - 138s 5s/step - loss: 1.6695 - accuracy: 0.2319 - val_loss: 2.2170 - val_accuracy: 0.2296\n",
      "Epoch 2/100\n",
      "30/30 [==============================] - 131s 4s/step - loss: 1.5637 - accuracy: 0.3185 - val_loss: 1.5985 - val_accuracy: 0.2072\n",
      "Epoch 3/100\n",
      "30/30 [==============================] - 130s 4s/step - loss: 0.9734 - accuracy: 0.6703 - val_loss: 1.4934 - val_accuracy: 0.2072\n",
      "Epoch 4/100\n",
      "30/30 [==============================] - 129s 4s/step - loss: 0.4989 - accuracy: 0.8375 - val_loss: 1.4284 - val_accuracy: 0.2184\n",
      "Epoch 5/100\n",
      "30/30 [==============================] - 129s 4s/step - loss: 0.4048 - accuracy: 0.8495 - val_loss: 1.3741 - val_accuracy: 0.3428\n",
      "Epoch 6/100\n",
      "30/30 [==============================] - 606s 20s/step - loss: 0.3664 - accuracy: 0.8629 - val_loss: 1.2867 - val_accuracy: 0.8236\n",
      "Epoch 7/100\n",
      "30/30 [==============================] - 131s 4s/step - loss: 0.3421 - accuracy: 0.8687 - val_loss: 1.2360 - val_accuracy: 0.7716\n",
      "Epoch 8/100\n",
      "30/30 [==============================] - 129s 4s/step - loss: 0.3232 - accuracy: 0.8772 - val_loss: 1.1529 - val_accuracy: 0.8332\n",
      "Epoch 9/100\n",
      "30/30 [==============================] - 129s 4s/step - loss: 0.3057 - accuracy: 0.8847 - val_loss: 1.0797 - val_accuracy: 0.8308\n",
      "Epoch 10/100\n",
      "30/30 [==============================] - 129s 4s/step - loss: 0.2994 - accuracy: 0.8867 - val_loss: 1.0000 - val_accuracy: 0.8444\n",
      "Epoch 11/100\n",
      "30/30 [==============================] - 129s 4s/step - loss: 0.2827 - accuracy: 0.8924 - val_loss: 0.9037 - val_accuracy: 0.8464\n",
      "Epoch 12/100\n",
      "30/30 [==============================] - 129s 4s/step - loss: 0.2669 - accuracy: 0.9015 - val_loss: 0.8343 - val_accuracy: 0.8424\n",
      "Epoch 13/100\n",
      "30/30 [==============================] - 128s 4s/step - loss: 0.2648 - accuracy: 0.9059 - val_loss: 0.7355 - val_accuracy: 0.8460\n",
      "Epoch 14/100\n",
      "30/30 [==============================] - 128s 4s/step - loss: 0.2464 - accuracy: 0.9111 - val_loss: 0.6805 - val_accuracy: 0.8436\n",
      "Epoch 15/100\n",
      "30/30 [==============================] - 131s 4s/step - loss: 0.2398 - accuracy: 0.9152 - val_loss: 0.6181 - val_accuracy: 0.8444\n",
      "Epoch 16/100\n",
      "30/30 [==============================] - 130s 4s/step - loss: 0.2425 - accuracy: 0.9128 - val_loss: 0.5741 - val_accuracy: 0.8448\n",
      "Epoch 17/100\n",
      "30/30 [==============================] - 133s 4s/step - loss: 0.2252 - accuracy: 0.9239 - val_loss: 0.4989 - val_accuracy: 0.8480\n",
      "Epoch 18/100\n",
      "30/30 [==============================] - 130s 4s/step - loss: 0.2148 - accuracy: 0.9287 - val_loss: 0.4670 - val_accuracy: 0.8492\n",
      "Epoch 19/100\n",
      "30/30 [==============================] - 130s 4s/step - loss: 0.2082 - accuracy: 0.9316 - val_loss: 0.4406 - val_accuracy: 0.8500\n",
      "Epoch 20/100\n",
      "30/30 [==============================] - 129s 4s/step - loss: 0.2040 - accuracy: 0.9321 - val_loss: 0.4445 - val_accuracy: 0.8436\n",
      "Epoch 21/100\n",
      "30/30 [==============================] - 129s 4s/step - loss: 0.1986 - accuracy: 0.9347 - val_loss: 0.4407 - val_accuracy: 0.8448\n",
      "Epoch 22/100\n",
      "30/30 [==============================] - 135s 4s/step - loss: 0.1882 - accuracy: 0.9393 - val_loss: 0.4332 - val_accuracy: 0.8424\n",
      "Epoch 23/100\n",
      "30/30 [==============================] - 129s 4s/step - loss: 0.1781 - accuracy: 0.9457 - val_loss: 0.4027 - val_accuracy: 0.8476\n",
      "Epoch 24/100\n",
      "30/30 [==============================] - 129s 4s/step - loss: 0.1745 - accuracy: 0.9464 - val_loss: 0.4475 - val_accuracy: 0.8396\n",
      "Epoch 25/100\n",
      "30/30 [==============================] - 129s 4s/step - loss: 0.1718 - accuracy: 0.9471 - val_loss: 0.4320 - val_accuracy: 0.8464\n",
      "Epoch 26/100\n",
      "30/30 [==============================] - 130s 4s/step - loss: 0.1563 - accuracy: 0.9548 - val_loss: 0.4247 - val_accuracy: 0.8468\n",
      "Epoch 27/100\n",
      "30/30 [==============================] - 131s 4s/step - loss: 0.1536 - accuracy: 0.9561 - val_loss: 0.4407 - val_accuracy: 0.8452\n",
      "Epoch 28/100\n",
      "30/30 [==============================] - 129s 4s/step - loss: 0.1512 - accuracy: 0.9563 - val_loss: 0.4556 - val_accuracy: 0.8428\n",
      "Epoch 29/100\n",
      "30/30 [==============================] - 129s 4s/step - loss: 0.1466 - accuracy: 0.9572 - val_loss: 0.4562 - val_accuracy: 0.8448\n",
      "Epoch 30/100\n",
      "30/30 [==============================] - 134s 4s/step - loss: 0.1433 - accuracy: 0.9620 - val_loss: 0.4381 - val_accuracy: 0.8524\n",
      "Epoch 31/100\n",
      "30/30 [==============================] - 134s 4s/step - loss: 0.1380 - accuracy: 0.9625 - val_loss: 0.4826 - val_accuracy: 0.8476\n",
      "Epoch 32/100\n",
      "30/30 [==============================] - 129s 4s/step - loss: 0.1267 - accuracy: 0.9691 - val_loss: 0.4483 - val_accuracy: 0.8456\n",
      "Epoch 33/100\n",
      "30/30 [==============================] - 129s 4s/step - loss: 0.1207 - accuracy: 0.9719 - val_loss: 0.4482 - val_accuracy: 0.8500\n",
      "Epoch 00033: early stopping\n"
     ]
    },
    {
     "data": {
      "text/plain": [
       "<tensorflow.python.keras.callbacks.History at 0x10a88c490>"
      ]
     },
     "execution_count": 12,
     "metadata": {},
     "output_type": "execute_result"
    }
   ],
   "source": [
    "#Evaluate with 2 convolutional layers\n",
    "\n",
    "# building a linear stack of layers with the sequential model\n",
    "model = Sequential()\n",
    "# convolutional layer\n",
    "model.add(Conv2D(25, kernel_size=(3,3), strides=(1,1), padding='valid', activation='relu', input_shape=(100,100,3)))\n",
    "model.add(MaxPool2D(pool_size=(1,1)))\n",
    "# convolutional layer\n",
    "model.add(Conv2D(25, kernel_size=(3,3), strides=(1,1), padding='valid', activation='relu', input_shape=(100,100,3)))\n",
    "model.add(MaxPool2D(pool_size=(1,1)))\n",
    "# flatten output of conv\n",
    "model.add(Flatten())\n",
    "# hidden layer\n",
    "model.add(Dense(100, activation='relu'))\n",
    "model.add(BatchNormalization())\n",
    "model.add(Dropout(0.1))\n",
    "# output layer\n",
    "model.add(Dense(5, activation='softmax'))\n",
    "\n",
    "# compiling the sequential model\n",
    "model.compile(loss='categorical_crossentropy', metrics=['accuracy'], optimizer='SGD')\n",
    "es = EarlyStopping(monitor='val_loss', mode='min', verbose=1, patience=10)\n",
    "\n",
    "# training the model for 100 epochs\n",
    "model.fit(x_train, y_train, batch_size=128, epochs=100, validation_data=(x_test, y_test), callbacks=[es])"
   ]
  },
  {
   "cell_type": "code",
   "execution_count": null,
   "metadata": {},
   "outputs": [],
   "source": [
    "#One convolutional layer selected"
   ]
  },
  {
   "cell_type": "markdown",
   "metadata": {},
   "source": [
    "# Investigate number of hidden layers"
   ]
  },
  {
   "cell_type": "code",
   "execution_count": 13,
   "metadata": {},
   "outputs": [
    {
     "name": "stdout",
     "output_type": "stream",
     "text": [
      "Epoch 1/100\n",
      "30/30 [==============================] - 51s 2s/step - loss: 1.6557 - accuracy: 0.2196 - val_loss: 2.0026 - val_accuracy: 0.2084\n",
      "Epoch 2/100\n",
      "30/30 [==============================] - 51s 2s/step - loss: 1.6099 - accuracy: 0.2599 - val_loss: 1.6681 - val_accuracy: 0.2060\n",
      "Epoch 3/100\n",
      "30/30 [==============================] - 51s 2s/step - loss: 1.6032 - accuracy: 0.2496 - val_loss: 1.8149 - val_accuracy: 0.2068\n",
      "Epoch 4/100\n",
      "30/30 [==============================] - 51s 2s/step - loss: 1.6094 - accuracy: 0.2385 - val_loss: 1.6136 - val_accuracy: 0.2148\n",
      "Epoch 5/100\n",
      "30/30 [==============================] - 51s 2s/step - loss: 1.5960 - accuracy: 0.2592 - val_loss: 1.6118 - val_accuracy: 0.2376\n",
      "Epoch 6/100\n",
      "30/30 [==============================] - 51s 2s/step - loss: 1.5816 - accuracy: 0.2949 - val_loss: 1.6999 - val_accuracy: 0.2160\n",
      "Epoch 7/100\n",
      "30/30 [==============================] - 51s 2s/step - loss: 1.5696 - accuracy: 0.2905 - val_loss: 1.6348 - val_accuracy: 0.2464\n",
      "Epoch 8/100\n",
      "30/30 [==============================] - 50s 2s/step - loss: 1.5585 - accuracy: 0.2860 - val_loss: 1.6389 - val_accuracy: 0.2168\n",
      "Epoch 9/100\n",
      "30/30 [==============================] - 51s 2s/step - loss: 1.2654 - accuracy: 0.5197 - val_loss: 1.5642 - val_accuracy: 0.3236\n",
      "Epoch 10/100\n",
      "30/30 [==============================] - 51s 2s/step - loss: 0.6743 - accuracy: 0.8065 - val_loss: 1.4796 - val_accuracy: 0.5056\n",
      "Epoch 11/100\n",
      "30/30 [==============================] - 51s 2s/step - loss: 0.4660 - accuracy: 0.8507 - val_loss: 1.3995 - val_accuracy: 0.5108\n",
      "Epoch 12/100\n",
      "30/30 [==============================] - 51s 2s/step - loss: 0.4071 - accuracy: 0.8647 - val_loss: 1.3042 - val_accuracy: 0.5116\n",
      "Epoch 13/100\n",
      "30/30 [==============================] - 51s 2s/step - loss: 0.3691 - accuracy: 0.8684 - val_loss: 1.2045 - val_accuracy: 0.5680\n",
      "Epoch 14/100\n",
      "30/30 [==============================] - 51s 2s/step - loss: 0.3465 - accuracy: 0.8777 - val_loss: 1.0763 - val_accuracy: 0.8128\n",
      "Epoch 15/100\n",
      "30/30 [==============================] - 51s 2s/step - loss: 0.3287 - accuracy: 0.8848 - val_loss: 0.9552 - val_accuracy: 0.8432\n",
      "Epoch 16/100\n",
      "30/30 [==============================] - 52s 2s/step - loss: 0.3131 - accuracy: 0.8896 - val_loss: 0.8264 - val_accuracy: 0.8448\n",
      "Epoch 17/100\n",
      "30/30 [==============================] - 53s 2s/step - loss: 0.2981 - accuracy: 0.8953 - val_loss: 0.7460 - val_accuracy: 0.8420\n",
      "Epoch 18/100\n",
      "30/30 [==============================] - 56s 2s/step - loss: 0.2887 - accuracy: 0.9008 - val_loss: 0.6425 - val_accuracy: 0.8428\n",
      "Epoch 19/100\n",
      "30/30 [==============================] - 52s 2s/step - loss: 0.2741 - accuracy: 0.9049 - val_loss: 0.5919 - val_accuracy: 0.8496\n",
      "Epoch 20/100\n",
      "30/30 [==============================] - 54s 2s/step - loss: 0.2610 - accuracy: 0.9104 - val_loss: 0.5811 - val_accuracy: 0.8364\n",
      "Epoch 21/100\n",
      "30/30 [==============================] - 51s 2s/step - loss: 0.2549 - accuracy: 0.9129 - val_loss: 0.4869 - val_accuracy: 0.8488\n",
      "Epoch 22/100\n",
      "30/30 [==============================] - 51s 2s/step - loss: 0.2452 - accuracy: 0.9201 - val_loss: 0.4455 - val_accuracy: 0.8472\n",
      "Epoch 23/100\n",
      "30/30 [==============================] - 51s 2s/step - loss: 0.2313 - accuracy: 0.9261 - val_loss: 0.4553 - val_accuracy: 0.8436\n",
      "Epoch 24/100\n",
      "30/30 [==============================] - 51s 2s/step - loss: 0.2269 - accuracy: 0.9269 - val_loss: 0.4078 - val_accuracy: 0.8488\n",
      "Epoch 25/100\n",
      "30/30 [==============================] - 53s 2s/step - loss: 0.2137 - accuracy: 0.9320 - val_loss: 0.3836 - val_accuracy: 0.8552\n",
      "Epoch 26/100\n",
      "30/30 [==============================] - 51s 2s/step - loss: 0.2056 - accuracy: 0.9359 - val_loss: 0.3883 - val_accuracy: 0.8464\n",
      "Epoch 27/100\n",
      "30/30 [==============================] - 51s 2s/step - loss: 0.1983 - accuracy: 0.9377 - val_loss: 0.3899 - val_accuracy: 0.8508\n",
      "Epoch 28/100\n",
      "30/30 [==============================] - 51s 2s/step - loss: 0.1861 - accuracy: 0.9487 - val_loss: 0.3964 - val_accuracy: 0.8508\n",
      "Epoch 29/100\n",
      "30/30 [==============================] - 51s 2s/step - loss: 0.1836 - accuracy: 0.9455 - val_loss: 0.3879 - val_accuracy: 0.8488\n",
      "Epoch 30/100\n",
      "30/30 [==============================] - 51s 2s/step - loss: 0.1760 - accuracy: 0.9472 - val_loss: 0.3958 - val_accuracy: 0.8532\n",
      "Epoch 31/100\n",
      "30/30 [==============================] - 51s 2s/step - loss: 0.1700 - accuracy: 0.9516 - val_loss: 0.4052 - val_accuracy: 0.8508\n",
      "Epoch 32/100\n",
      "30/30 [==============================] - 51s 2s/step - loss: 0.1612 - accuracy: 0.9555 - val_loss: 0.3971 - val_accuracy: 0.8488\n",
      "Epoch 33/100\n",
      "30/30 [==============================] - 51s 2s/step - loss: 0.1578 - accuracy: 0.9576 - val_loss: 0.3845 - val_accuracy: 0.8548\n",
      "Epoch 34/100\n",
      "30/30 [==============================] - 51s 2s/step - loss: 0.1519 - accuracy: 0.9571 - val_loss: 0.4219 - val_accuracy: 0.8488\n",
      "Epoch 35/100\n",
      "30/30 [==============================] - 51s 2s/step - loss: 0.1429 - accuracy: 0.9623 - val_loss: 0.4164 - val_accuracy: 0.8504\n",
      "Epoch 00035: early stopping\n"
     ]
    },
    {
     "data": {
      "text/plain": [
       "<tensorflow.python.keras.callbacks.History at 0x10a8509d0>"
      ]
     },
     "execution_count": 13,
     "metadata": {},
     "output_type": "execute_result"
    }
   ],
   "source": [
    "#Evaluate model with 2 hidden layers\n",
    "\n",
    "# building a linear stack of layers with the sequential model\n",
    "model = Sequential()\n",
    "# convolutional layer\n",
    "model.add(Conv2D(25, kernel_size=(3,3), strides=(1,1), padding='valid', activation='relu', input_shape=(100,100,3)))\n",
    "model.add(MaxPool2D(pool_size=(1,1)))\n",
    "# flatten output of conv\n",
    "model.add(Flatten())\n",
    "# hidden layer\n",
    "model.add(Dense(100, activation='relu'))\n",
    "model.add(BatchNormalization())\n",
    "model.add(Dropout(0.1))\n",
    "# hidden layer\n",
    "model.add(Dense(100, activation='relu'))\n",
    "model.add(Dropout(0.1))\n",
    "# output layer\n",
    "model.add(Dense(5, activation='softmax'))\n",
    "\n",
    "# compiling the sequential model\n",
    "model.compile(loss='categorical_crossentropy', metrics=['accuracy'], optimizer='SGD')\n",
    "es = EarlyStopping(monitor='val_loss', mode='min', verbose=1, patience=10)\n",
    "\n",
    "# training the model for 100 epochs\n",
    "model.fit(x_train, y_train, batch_size=128, epochs=100, validation_data=(x_test, y_test), callbacks=[es])"
   ]
  },
  {
   "cell_type": "code",
   "execution_count": 12,
   "metadata": {},
   "outputs": [],
   "source": [
    "#One hidden layer selected"
   ]
  },
  {
   "cell_type": "code",
   "execution_count": 21,
   "metadata": {},
   "outputs": [
    {
     "name": "stdout",
     "output_type": "stream",
     "text": [
      "dict_keys(['loss', 'accuracy', 'val_loss', 'val_accuracy'])\n"
     ]
    },
    {
     "data": {
      "image/png": "[encoded data removed]",
      "text/plain": [
       "<Figure size 432x288 with 1 Axes>"
      ]
     },
     "metadata": {
      "needs_background": "light"
     },
     "output_type": "display_data"
    },
    {
     "data": {
      "image/png": "[encoded data removed]",
      "text/plain": [
       "<Figure size 432x288 with 1 Axes>"
      ]
     },
     "metadata": {
      "needs_background": "light"
     },
     "output_type": "display_data"
    }
   ],
   "source": [
    "# list all data in history\n",
    "print(history.history.keys())\n",
    "# summarize history for accuracy\n",
    "plt.plot(history.history['accuracy'])\n",
    "plt.plot(history.history['val_accuracy'])\n",
    "plt.title('model accuracy')\n",
    "plt.ylabel('accuracy')\n",
    "plt.xlabel('epoch')\n",
    "plt.legend(['train', 'test'], loc='upper left')\n",
    "plt.show()\n",
    "# summarize history for loss\n",
    "plt.plot(history.history['loss'])\n",
    "plt.plot(history.history['val_loss'])\n",
    "plt.title('model loss')\n",
    "plt.ylabel('loss')\n",
    "plt.xlabel('epoch')\n",
    "plt.legend(['train', 'test'], loc='upper left')\n",
    "plt.show()"
   ]
  },
  {
   "cell_type": "markdown",
   "metadata": {},
   "source": [
    "# Find accuracy on test set"
   ]
  },
  {
   "cell_type": "code",
   "execution_count": 16,
   "metadata": {},
   "outputs": [
    {
     "name": "stdout",
     "output_type": "stream",
     "text": [
      "/Users/mel/Documents/MRes/Machine Learning/Assignment/AMLS_20-21_SN12345678\n"
     ]
    },
    {
     "data": {
      "text/html": [
       "<div>\n",
       "<style scoped>\n",
       "    .dataframe tbody tr th:only-of-type {\n",
       "        vertical-align: middle;\n",
       "    }\n",
       "\n",
       "    .dataframe tbody tr th {\n",
       "        vertical-align: top;\n",
       "    }\n",
       "\n",
       "    .dataframe thead th {\n",
       "        text-align: right;\n",
       "    }\n",
       "</style>\n",
       "<table border=\"1\" class=\"dataframe\">\n",
       "  <thead>\n",
       "    <tr style=\"text-align: right;\">\n",
       "      <th></th>\n",
       "      <th>eye_color</th>\n",
       "      <th>face_shape</th>\n",
       "      <th>file_name</th>\n",
       "    </tr>\n",
       "  </thead>\n",
       "  <tbody>\n",
       "    <tr>\n",
       "      <th>0</th>\n",
       "      <td>2</td>\n",
       "      <td>1</td>\n",
       "      <td>0.png</td>\n",
       "    </tr>\n",
       "    <tr>\n",
       "      <th>1</th>\n",
       "      <td>1</td>\n",
       "      <td>4</td>\n",
       "      <td>1.png</td>\n",
       "    </tr>\n",
       "    <tr>\n",
       "      <th>2</th>\n",
       "      <td>0</td>\n",
       "      <td>2</td>\n",
       "      <td>2.png</td>\n",
       "    </tr>\n",
       "    <tr>\n",
       "      <th>3</th>\n",
       "      <td>0</td>\n",
       "      <td>2</td>\n",
       "      <td>3.png</td>\n",
       "    </tr>\n",
       "    <tr>\n",
       "      <th>4</th>\n",
       "      <td>3</td>\n",
       "      <td>3</td>\n",
       "      <td>4.png</td>\n",
       "    </tr>\n",
       "  </tbody>\n",
       "</table>\n",
       "</div>"
      ],
      "text/plain": [
       "   eye_color  face_shape file_name\n",
       "0          2           1     0.png\n",
       "1          1           4     1.png\n",
       "2          0           2     2.png\n",
       "3          0           2     3.png\n",
       "4          3           3     4.png"
      ]
     },
     "execution_count": 16,
     "metadata": {},
     "output_type": "execute_result"
    }
   ],
   "source": [
    "#Use Pandas to read csv file\n",
    "\n",
    "p = os.getcwd()\n",
    "print(p)\n",
    "\n",
    "dirname = os.path.dirname(d)\n",
    "csvtest = os.path.join(d, 'test/cartoon_set_test/labels.csv')\n",
    "dirname = os.path.dirname(d)\n",
    "imgtest = os.path.join(d, 'test/cartoon_set_test/img/')\n",
    "\n",
    "dataset = pd.read_csv(csvfile, sep='\\\\t', engine='python')\n",
    "\n",
    "dataset.head()\n",
    "\n",
    "test_dataset = pd.read_csv(csvtest, sep='\\\\t', engine='python')\n",
    "\n",
    "test_dataset.head()"
   ]
  },
  {
   "cell_type": "code",
   "execution_count": 17,
   "metadata": {},
   "outputs": [
    {
     "name": "stderr",
     "output_type": "stream",
     "text": [
      "100%|██████████| 2500/2500 [00:19<00:00, 127.18it/s]\n"
     ]
    }
   ],
   "source": [
    "test_dataset_image = []\n",
    "for i in tqdm(range(test_dataset.shape[0])):\n",
    "    img = image.load_img(imgtest+test_dataset['file_name'][i], target_size=(100,100))\n",
    "    img = img.convert('L')\n",
    "    img = image.img_to_array(img)\n",
    "    img = img/255\n",
    "\n",
    "    test_dataset_image.append(img)"
   ]
  },
  {
   "cell_type": "code",
   "execution_count": 18,
   "metadata": {},
   "outputs": [],
   "source": [
    "# Label the data and one-hot encoding\n",
    "X_TEST = np.array(test_dataset_image)\n",
    "Y_TEST = test_dataset['eye_color']\n",
    "\n",
    "n_classes = 5\n",
    "Y_TEST = np_utils.to_categorical(Y_TEST, n_classes)"
   ]
  },
  {
   "cell_type": "code",
   "execution_count": 19,
   "metadata": {},
   "outputs": [
    {
     "name": "stdout",
     "output_type": "stream",
     "text": [
      "Epoch 1/100\n",
      "30/30 [==============================] - 50s 2s/step - loss: 1.6964 - accuracy: 0.2444 - val_loss: 2.1524 - val_accuracy: 0.2044\n",
      "Epoch 2/100\n",
      "30/30 [==============================] - 49s 2s/step - loss: 1.5782 - accuracy: 0.3052 - val_loss: 1.8408 - val_accuracy: 0.1924\n",
      "Epoch 3/100\n",
      "30/30 [==============================] - 50s 2s/step - loss: 1.5771 - accuracy: 0.3120 - val_loss: 1.7665 - val_accuracy: 0.2192\n",
      "Epoch 4/100\n",
      "30/30 [==============================] - 49s 2s/step - loss: 1.5645 - accuracy: 0.3241 - val_loss: 1.6967 - val_accuracy: 0.1936\n",
      "Epoch 5/100\n",
      "30/30 [==============================] - 49s 2s/step - loss: 1.5250 - accuracy: 0.4243 - val_loss: 1.6222 - val_accuracy: 0.2068\n",
      "Epoch 6/100\n",
      "30/30 [==============================] - 49s 2s/step - loss: 0.8638 - accuracy: 0.7167 - val_loss: 1.5173 - val_accuracy: 0.5204\n",
      "Epoch 7/100\n",
      "30/30 [==============================] - 49s 2s/step - loss: 0.4571 - accuracy: 0.8437 - val_loss: 1.4288 - val_accuracy: 0.5556\n",
      "Epoch 8/100\n",
      "30/30 [==============================] - 49s 2s/step - loss: 0.3749 - accuracy: 0.8623 - val_loss: 1.3460 - val_accuracy: 0.6792\n",
      "Epoch 9/100\n",
      "30/30 [==============================] - 49s 2s/step - loss: 0.3505 - accuracy: 0.8669 - val_loss: 1.2691 - val_accuracy: 0.7164\n",
      "Epoch 10/100\n",
      "30/30 [==============================] - 52s 2s/step - loss: 0.3133 - accuracy: 0.8820 - val_loss: 1.2034 - val_accuracy: 0.7088\n",
      "Epoch 11/100\n",
      "30/30 [==============================] - 56s 2s/step - loss: 0.2870 - accuracy: 0.8951 - val_loss: 1.1307 - val_accuracy: 0.8192\n",
      "Epoch 12/100\n",
      "30/30 [==============================] - 58s 2s/step - loss: 0.2749 - accuracy: 0.8995 - val_loss: 1.0365 - val_accuracy: 0.8356\n",
      "Epoch 13/100\n",
      "30/30 [==============================] - 56s 2s/step - loss: 0.2576 - accuracy: 0.9084 - val_loss: 0.9497 - val_accuracy: 0.8440\n",
      "Epoch 14/100\n",
      "30/30 [==============================] - 55s 2s/step - loss: 0.2383 - accuracy: 0.9179 - val_loss: 0.8600 - val_accuracy: 0.8416\n",
      "Epoch 15/100\n",
      "30/30 [==============================] - 53s 2s/step - loss: 0.2258 - accuracy: 0.9264 - val_loss: 0.7865 - val_accuracy: 0.8468\n",
      "Epoch 16/100\n",
      "30/30 [==============================] - 53s 2s/step - loss: 0.2116 - accuracy: 0.9319 - val_loss: 0.7285 - val_accuracy: 0.8468\n",
      "Epoch 17/100\n",
      "30/30 [==============================] - 49s 2s/step - loss: 0.1981 - accuracy: 0.9384 - val_loss: 0.6692 - val_accuracy: 0.8484\n",
      "Epoch 18/100\n",
      "30/30 [==============================] - 49s 2s/step - loss: 0.1953 - accuracy: 0.9384 - val_loss: 0.6090 - val_accuracy: 0.8428\n",
      "Epoch 19/100\n",
      "30/30 [==============================] - 53s 2s/step - loss: 0.1793 - accuracy: 0.9499 - val_loss: 0.5365 - val_accuracy: 0.8512\n",
      "Epoch 20/100\n",
      "30/30 [==============================] - 52s 2s/step - loss: 0.1653 - accuracy: 0.9543 - val_loss: 0.5205 - val_accuracy: 0.8444\n",
      "Epoch 21/100\n",
      "30/30 [==============================] - 55s 2s/step - loss: 0.1575 - accuracy: 0.9597 - val_loss: 0.4771 - val_accuracy: 0.8504\n",
      "Epoch 22/100\n",
      "30/30 [==============================] - 56s 2s/step - loss: 0.1525 - accuracy: 0.9605 - val_loss: 0.4751 - val_accuracy: 0.8476\n",
      "Epoch 23/100\n",
      "30/30 [==============================] - 56s 2s/step - loss: 0.1431 - accuracy: 0.9664 - val_loss: 0.4406 - val_accuracy: 0.8480\n",
      "Epoch 24/100\n",
      "30/30 [==============================] - 56s 2s/step - loss: 0.1338 - accuracy: 0.9687 - val_loss: 0.4230 - val_accuracy: 0.8524\n",
      "Epoch 25/100\n",
      "30/30 [==============================] - 53s 2s/step - loss: 0.1252 - accuracy: 0.9721 - val_loss: 0.4317 - val_accuracy: 0.8484\n",
      "Epoch 26/100\n",
      "30/30 [==============================] - 54s 2s/step - loss: 0.1198 - accuracy: 0.9739 - val_loss: 0.4365 - val_accuracy: 0.8532\n",
      "Epoch 27/100\n",
      "30/30 [==============================] - 50s 2s/step - loss: 0.1171 - accuracy: 0.9765 - val_loss: 0.4281 - val_accuracy: 0.8536\n",
      "Epoch 28/100\n",
      "30/30 [==============================] - 50s 2s/step - loss: 0.1068 - accuracy: 0.9829 - val_loss: 0.4339 - val_accuracy: 0.8480\n",
      "Epoch 29/100\n",
      "30/30 [==============================] - 49s 2s/step - loss: 0.0999 - accuracy: 0.9831 - val_loss: 0.4295 - val_accuracy: 0.8524\n",
      "Epoch 30/100\n",
      "30/30 [==============================] - 49s 2s/step - loss: 0.0963 - accuracy: 0.9856 - val_loss: 0.4407 - val_accuracy: 0.8516\n",
      "Epoch 31/100\n",
      "30/30 [==============================] - 48s 2s/step - loss: 0.0865 - accuracy: 0.9884 - val_loss: 0.4434 - val_accuracy: 0.8520\n",
      "Epoch 32/100\n",
      "30/30 [==============================] - 49s 2s/step - loss: 0.0837 - accuracy: 0.9899 - val_loss: 0.4793 - val_accuracy: 0.8480\n",
      "Epoch 33/100\n",
      "30/30 [==============================] - 48s 2s/step - loss: 0.0795 - accuracy: 0.9905 - val_loss: 0.4417 - val_accuracy: 0.8540\n",
      "Epoch 34/100\n",
      "30/30 [==============================] - 50s 2s/step - loss: 0.0736 - accuracy: 0.9935 - val_loss: 0.4552 - val_accuracy: 0.8504\n",
      "Epoch 00034: early stopping\n"
     ]
    },
    {
     "data": {
      "text/plain": [
       "<tensorflow.python.keras.callbacks.History at 0x1ec054940>"
      ]
     },
     "execution_count": 19,
     "metadata": {},
     "output_type": "execute_result"
    }
   ],
   "source": [
    "#Dropout removed\n",
    "\n",
    "# building a linear stack of layers with the sequential model\n",
    "model = Sequential()\n",
    "# convolutional layer\n",
    "model.add(Conv2D(25, kernel_size=(3,3), strides=(1,1), padding='valid', activation='relu', input_shape=(100,100,3)))\n",
    "model.add(MaxPool2D(pool_size=(1,1)))\n",
    "# flatten output of conv\n",
    "model.add(Flatten())\n",
    "# hidden layer\n",
    "model.add(Dense(100, activation='relu'))\n",
    "model.add(BatchNormalization())\n",
    "# output layer\n",
    "model.add(Dense(5, activation='softmax'))\n",
    "\n",
    "# compiling the sequential model\n",
    "model.compile(loss='categorical_crossentropy', metrics=['accuracy'], optimizer='SGD')\n",
    "es = EarlyStopping(monitor='val_loss', mode='min', verbose=1, patience=10)\n",
    "\n",
    "# training the model for 100 epochs\n",
    "model.fit(x_train, y_train, batch_size=128, epochs=100, validation_data=(x_test, y_test), callbacks=[es])"
   ]
  },
  {
   "cell_type": "code",
   "execution_count": null,
   "metadata": {},
   "outputs": [],
   "source": []
  }
 ],
 "metadata": {
  "kernelspec": {
   "display_name": "Python 3",
   "language": "python",
   "name": "python3"
  },
  "language_info": {
   "codemirror_mode": {
    "name": "ipython",
    "version": 3
   },
   "file_extension": ".py",
   "mimetype": "text/x-python",
   "name": "python",
   "nbconvert_exporter": "python",
   "pygments_lexer": "ipython3",
   "version": "3.8.5"
  }
 },
 "nbformat": 4,
 "nbformat_minor": 4
}
